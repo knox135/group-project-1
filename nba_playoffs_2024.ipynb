{
 "cells": [
  {
   "cell_type": "markdown",
   "metadata": {},
   "source": [
    "Part 1 - Collect Data into CSVs to work with"
   ]
  },
  {
   "cell_type": "code",
   "execution_count": 42,
   "metadata": {},
   "outputs": [],
   "source": [
    "import sys\n",
    "from dotenv import load_dotenv\n",
    "import os\n",
    "import requests\n",
    "import pandas as pd\n",
    "import time"
   ]
  },
  {
   "cell_type": "code",
   "execution_count": 3,
   "metadata": {},
   "outputs": [
    {
     "name": "stdout",
     "output_type": "stream",
     "text": [
      "\n"
     ]
    }
   ],
   "source": [
    "load_dotenv()\n",
    "load_dotenv('.env')\n",
    "sports_data_api_key = os.getenv('SPORTS_DATA_API_KEY')"
   ]
  },
  {
   "cell_type": "code",
   "execution_count": 4,
   "metadata": {},
   "outputs": [],
   "source": [
    "uri = 'https://api-nba-v1.p.rapidapi.com'\n",
    "api_key_str = '?key='+sports_data_api_key"
   ]
  },
  {
   "cell_type": "code",
   "execution_count": 36,
   "metadata": {},
   "outputs": [
    {
     "name": "stdout",
     "output_type": "stream",
     "text": [
      "[2015, 2016, 2017, 2018, 2019, 2020, 2021, 2022, 2023]\n"
     ]
    }
   ],
   "source": [
    "headers = {\n",
    "\t\"X-RapidAPI-Key\": sports_data_api_key,\n",
    "\t\"X-RapidAPI-Host\": \"api-nba-v1.p.rapidapi.com\"\n",
    "}\n",
    "\n",
    "#seasons = requests.get(uri+'/seasons', headers=headers).json()\n",
    "\n",
    "seasons = [2015, 2016, 2017, 2018, 2019, 2020, 2021, 2022, 2023]\n",
    "\n",
    "print(seasons)"
   ]
  },
  {
   "cell_type": "code",
   "execution_count": 46,
   "metadata": {},
   "outputs": [
    {
     "name": "stdout",
     "output_type": "stream",
     "text": [
      "[{'id': 1, 'name': 'Atlanta Hawks', 'nickname': 'Hawks', 'code': 'ATL', 'city': 'Atlanta', 'logo': 'https://upload.wikimedia.org/wikipedia/fr/e/ee/Hawks_2016.png', 'allStar': False, 'nbaFranchise': True, 'leagues': {'standard': {'conference': 'East', 'division': 'Southeast'}, 'vegas': {'conference': 'summer', 'division': None}, 'utah': {'conference': 'East', 'division': 'Southeast'}, 'sacramento': {'conference': 'East', 'division': 'Southeast'}}}, {'id': 2, 'name': 'Boston Celtics', 'nickname': 'Celtics', 'code': 'BOS', 'city': 'Boston', 'logo': 'https://upload.wikimedia.org/wikipedia/fr/thumb/6/65/Celtics_de_Boston_logo.svg/1024px-Celtics_de_Boston_logo.svg.png', 'allStar': False, 'nbaFranchise': True, 'leagues': {'standard': {'conference': 'East', 'division': 'Atlantic'}, 'vegas': {'conference': 'summer', 'division': None}, 'utah': {'conference': 'East', 'division': 'Atlantic'}, 'sacramento': {'conference': 'East', 'division': 'Atlantic'}}}, {'id': 3, 'name': 'Brisbane Bullets', 'nickname': 'Bullets', 'code': 'BNE', 'city': 'Brisbane', 'logo': 'https://upload.wikimedia.org/wikipedia/fr/thumb/1/1b/Brisbane_Bullets_1992.png/130px-Brisbane_Bullets_1992.png', 'allStar': False, 'nbaFranchise': False, 'leagues': {'standard': {'conference': 'Intl', 'division': None}}}, {'id': 4, 'name': 'Brooklyn Nets', 'nickname': 'Nets', 'code': 'BKN', 'city': 'Brooklyn', 'logo': 'https://upload.wikimedia.org/wikipedia/commons/thumb/4/44/Brooklyn_Nets_newlogo.svg/130px-Brooklyn_Nets_newlogo.svg.png', 'allStar': False, 'nbaFranchise': True, 'leagues': {'standard': {'conference': 'East', 'division': 'Atlantic'}, 'vegas': {'conference': 'summer', 'division': None}, 'utah': {'conference': 'East', 'division': 'Atlantic'}, 'sacramento': {'conference': 'East', 'division': 'Atlantic'}}}, {'id': 5, 'name': 'Charlotte Hornets', 'nickname': 'Hornets', 'code': 'CHA', 'city': 'Charlotte', 'logo': 'https://upload.wikimedia.org/wikipedia/fr/thumb/f/f3/Hornets_de_Charlotte_logo.svg/1200px-Hornets_de_Charlotte_logo.svg.png', 'allStar': False, 'nbaFranchise': True, 'leagues': {'standard': {'conference': 'East', 'division': 'Southeast'}, 'vegas': {'conference': 'summer', 'division': None}, 'utah': {'conference': 'East', 'division': 'Southeast'}, 'sacramento': {'conference': 'East', 'division': 'Southeast'}}}, {'id': 6, 'name': 'Chicago Bulls', 'nickname': 'Bulls', 'code': 'CHI', 'city': 'Chicago', 'logo': 'https://upload.wikimedia.org/wikipedia/fr/thumb/d/d1/Bulls_de_Chicago_logo.svg/1200px-Bulls_de_Chicago_logo.svg.png', 'allStar': False, 'nbaFranchise': True, 'leagues': {'standard': {'conference': 'East', 'division': 'Central'}, 'vegas': {'conference': 'summer', 'division': None}, 'utah': {'conference': 'East', 'division': 'Central'}, 'sacramento': {'conference': 'East', 'division': 'Central'}}}, {'id': 7, 'name': 'Cleveland Cavaliers', 'nickname': 'Cavaliers', 'code': 'CLE', 'city': 'Cleveland', 'logo': 'https://upload.wikimedia.org/wikipedia/fr/thumb/0/06/Cavs_de_Cleveland_logo_2017.png/150px-Cavs_de_Cleveland_logo_2017.png', 'allStar': False, 'nbaFranchise': True, 'leagues': {'standard': {'conference': 'East', 'division': 'Central'}, 'vegas': {'conference': 'summer', 'division': None}, 'utah': {'conference': 'East', 'division': 'Central'}, 'sacramento': {'conference': 'East', 'division': 'Central'}}}, {'id': 8, 'name': 'Dallas Mavericks', 'nickname': 'Mavericks', 'code': 'DAL', 'city': 'Dallas', 'logo': 'https://upload.wikimedia.org/wikipedia/fr/thumb/b/b8/Mavericks_de_Dallas_logo.svg/150px-Mavericks_de_Dallas_logo.svg.png', 'allStar': False, 'nbaFranchise': True, 'leagues': {'standard': {'conference': 'West', 'division': 'Southwest'}, 'vegas': {'conference': 'summer', 'division': None}, 'utah': {'conference': 'West', 'division': 'Southwest'}, 'sacramento': {'conference': 'West', 'division': 'Southwest'}}}, {'id': 9, 'name': 'Denver Nuggets', 'nickname': 'Nuggets', 'code': 'DEN', 'city': 'Denver', 'logo': 'https://upload.wikimedia.org/wikipedia/fr/thumb/3/35/Nuggets_de_Denver_2018.png/180px-Nuggets_de_Denver_2018.png', 'allStar': False, 'nbaFranchise': True, 'leagues': {'standard': {'conference': 'West', 'division': 'Northwest'}, 'vegas': {'conference': 'summer', 'division': None}, 'utah': {'conference': 'West', 'division': 'Northwest'}, 'sacramento': {'conference': 'West', 'division': 'Northwest'}}}, {'id': 10, 'name': 'Detroit Pistons', 'nickname': 'Pistons', 'code': 'DET', 'city': 'Detroit', 'logo': 'https://upload.wikimedia.org/wikipedia/commons/thumb/3/39/Logo_of_the_Detroit_Pistons.png/300px-Logo_of_the_Detroit_Pistons.png', 'allStar': False, 'nbaFranchise': True, 'leagues': {'standard': {'conference': 'East', 'division': 'Central'}, 'vegas': {'conference': 'summer', 'division': None}, 'utah': {'conference': 'East', 'division': 'Central'}, 'sacramento': {'conference': 'East', 'division': 'Central'}}}, {'id': 11, 'name': 'Golden State Warriors', 'nickname': 'Warriors', 'code': 'GSW', 'city': 'Golden State', 'logo': 'https://upload.wikimedia.org/wikipedia/fr/thumb/d/de/Warriors_de_Golden_State_logo.svg/1200px-Warriors_de_Golden_State_logo.svg.png', 'allStar': False, 'nbaFranchise': True, 'leagues': {'standard': {'conference': 'West', 'division': 'Pacific'}, 'sacramento': {'conference': 'California', 'division': None}, 'vegas': {'conference': 'summer', 'division': None}, 'utah': {'conference': 'West', 'division': 'Pacific'}}}, {'id': 12, 'name': 'Guangzhou Long-Lions', 'nickname': 'Long-Lions', 'code': 'GUA', 'city': 'Guangzhou', 'logo': 'https://upload.wikimedia.org/wikipedia/en/thumb/d/df/Guangzhou_Long-Lions_logo.png/220px-Guangzhou_Long-Lions_logo.png', 'allStar': False, 'nbaFranchise': False, 'leagues': {'standard': {'conference': 'Intl', 'division': None}}}, {'id': 13, 'name': 'Haifa Maccabi Haifa', 'nickname': 'Maccabi Haifa', 'code': 'MAC', 'city': 'Haifa', 'logo': 'https://upload.wikimedia.org/wikipedia/en/4/4c/Maccabi_Haifa_B.C_logo.png', 'allStar': False, 'nbaFranchise': False, 'leagues': {'standard': {'conference': 'Intl', 'division': None}}}, {'id': 14, 'name': 'Houston Rockets', 'nickname': 'Rockets', 'code': 'HOU', 'city': 'Houston', 'logo': 'https://upload.wikimedia.org/wikipedia/fr/thumb/d/de/Houston_Rockets_logo_2003.png/330px-Houston_Rockets_logo_2003.png', 'allStar': False, 'nbaFranchise': True, 'leagues': {'standard': {'conference': 'West', 'division': 'Southwest'}, 'vegas': {'conference': 'summer', 'division': None}, 'utah': {'conference': 'West', 'division': 'Southwest'}, 'sacramento': {'conference': 'West', 'division': 'Southwest'}}}, {'id': 15, 'name': 'Indiana Pacers', 'nickname': 'Pacers', 'code': 'IND', 'city': 'Indiana', 'logo': 'https://upload.wikimedia.org/wikipedia/fr/thumb/c/cf/Pacers_de_l%27Indiana_logo.svg/1180px-Pacers_de_l%27Indiana_logo.svg.png', 'allStar': False, 'nbaFranchise': True, 'leagues': {'standard': {'conference': 'East', 'division': 'Central'}, 'vegas': {'conference': 'summer', 'division': None}, 'utah': {'conference': 'East', 'division': 'Central'}, 'sacramento': {'conference': 'East', 'division': 'Central'}}}, {'id': 16, 'name': 'LA Clippers', 'nickname': 'Clippers', 'code': 'LAC', 'city': 'LA', 'logo': 'https://upload.wikimedia.org/wikipedia/fr/d/d6/Los_Angeles_Clippers_logo_2010.png', 'allStar': False, 'nbaFranchise': True, 'leagues': {'standard': {'conference': 'West', 'division': 'Pacific'}, 'vegas': {'conference': 'summer', 'division': None}, 'utah': {'conference': 'West', 'division': 'Pacific'}, 'sacramento': {'conference': 'West', 'division': 'Pacific'}}}, {'id': 17, 'name': 'Los Angeles Lakers', 'nickname': 'Lakers', 'code': 'LAL', 'city': 'Los Angeles', 'logo': 'https://upload.wikimedia.org/wikipedia/commons/thumb/3/3c/Los_Angeles_Lakers_logo.svg/220px-Los_Angeles_Lakers_logo.svg.png', 'allStar': False, 'nbaFranchise': True, 'leagues': {'standard': {'conference': 'West', 'division': 'Pacific'}, 'sacramento': {'conference': 'California', 'division': None}, 'vegas': {'conference': 'summer', 'division': None}, 'utah': {'conference': 'West', 'division': 'Pacific'}}}, {'id': 18, 'name': 'Melbourne United', 'nickname': 'United', 'code': 'MEL', 'city': 'Melbourne', 'logo': 'https://upload.wikimedia.org/wikipedia/en/thumb/1/1b/Melbourne_United_logo.svg/220px-Melbourne_United_logo.svg.png', 'allStar': False, 'nbaFranchise': False, 'leagues': {'standard': {'conference': 'Intl', 'division': None}}}, {'id': 19, 'name': 'Memphis Grizzlies', 'nickname': 'Grizzlies', 'code': 'MEM', 'city': 'Memphis', 'logo': 'https://upload.wikimedia.org/wikipedia/en/thumb/f/f1/Memphis_Grizzlies.svg/1200px-Memphis_Grizzlies.svg.png', 'allStar': False, 'nbaFranchise': True, 'leagues': {'standard': {'conference': 'West', 'division': 'Southwest'}, 'vegas': {'conference': 'summer', 'division': None}, 'utah': {'conference': 'Utah', 'division': None}, 'sacramento': {'conference': 'West', 'division': 'Southwest'}}}, {'id': 20, 'name': 'Miami Heat', 'nickname': 'Heat', 'code': 'MIA', 'city': 'Miami', 'logo': 'https://upload.wikimedia.org/wikipedia/fr/thumb/1/1c/Miami_Heat_-_Logo.svg/1200px-Miami_Heat_-_Logo.svg.png', 'allStar': False, 'nbaFranchise': True, 'leagues': {'standard': {'conference': 'East', 'division': 'Southeast'}, 'sacramento': {'conference': 'California', 'division': None}, 'vegas': {'conference': 'summer', 'division': None}, 'utah': {'conference': 'East', 'division': 'Southeast'}}}, {'id': 21, 'name': 'Milwaukee Bucks', 'nickname': 'Bucks', 'code': 'MIL', 'city': 'Milwaukee', 'logo': 'https://upload.wikimedia.org/wikipedia/fr/3/34/Bucks2015.png', 'allStar': False, 'nbaFranchise': True, 'leagues': {'standard': {'conference': 'East', 'division': 'Central'}, 'vegas': {'conference': 'summer', 'division': None}, 'utah': {'conference': 'East', 'division': 'Central'}, 'sacramento': {'conference': 'East', 'division': 'Central'}}}, {'id': 22, 'name': 'Minnesota Timberwolves', 'nickname': 'Timberwolves', 'code': 'MIN', 'city': 'Minnesota', 'logo': 'https://upload.wikimedia.org/wikipedia/fr/thumb/d/d9/Timberwolves_du_Minnesota_logo_2017.png/200px-Timberwolves_du_Minnesota_logo_2017.png', 'allStar': False, 'nbaFranchise': True, 'leagues': {'standard': {'conference': 'West', 'division': 'Northwest'}, 'vegas': {'conference': 'summer', 'division': None}, 'utah': {'conference': 'West', 'division': 'Northwest'}, 'sacramento': {'conference': 'West', 'division': 'Northwest'}}}, {'id': 23, 'name': 'New Orleans Pelicans', 'nickname': 'Pelicans', 'code': 'NOP', 'city': 'New Orleans', 'logo': 'https://upload.wikimedia.org/wikipedia/fr/thumb/2/21/New_Orleans_Pelicans.png/200px-New_Orleans_Pelicans.png', 'allStar': False, 'nbaFranchise': True, 'leagues': {'standard': {'conference': 'West', 'division': 'Southwest'}, 'vegas': {'conference': 'summer', 'division': None}, 'utah': {'conference': 'West', 'division': 'Southwest'}, 'sacramento': {'conference': 'West', 'division': 'Southwest'}}}, {'id': 24, 'name': 'New York Knicks', 'nickname': 'Knicks', 'code': 'NYK', 'city': 'New York', 'logo': 'https://upload.wikimedia.org/wikipedia/fr/3/34/Knicks_de_NY.png', 'allStar': False, 'nbaFranchise': True, 'leagues': {'standard': {'conference': 'East', 'division': 'Atlantic'}, 'vegas': {'conference': 'summer', 'division': None}, 'utah': {'conference': 'East', 'division': 'Atlantic'}, 'sacramento': {'conference': 'East', 'division': 'Atlantic'}}}, {'id': 25, 'name': 'Oklahoma City Thunder', 'nickname': 'Thunder', 'code': 'OKC', 'city': 'Oklahoma City', 'logo': 'https://upload.wikimedia.org/wikipedia/fr/thumb/4/4f/Thunder_d%27Oklahoma_City_logo.svg/1200px-Thunder_d%27Oklahoma_City_logo.svg.png', 'allStar': False, 'nbaFranchise': True, 'leagues': {'standard': {'conference': 'West', 'division': 'Northwest'}, 'vegas': {'conference': 'summer', 'division': None}, 'utah': {'conference': 'Utah', 'division': None}, 'sacramento': {'conference': 'West', 'division': 'Northwest'}}}, {'id': 26, 'name': 'Orlando Magic', 'nickname': 'Magic', 'code': 'ORL', 'city': 'Orlando', 'logo': 'https://upload.wikimedia.org/wikipedia/fr/b/bd/Orlando_Magic_logo_2010.png', 'allStar': False, 'nbaFranchise': True, 'leagues': {'standard': {'conference': 'East', 'division': 'Southeast'}, 'vegas': {'conference': 'summer', 'division': None}, 'utah': {'conference': 'East', 'division': 'Southeast'}, 'sacramento': {'conference': 'East', 'division': 'Southeast'}}}, {'id': 27, 'name': 'Philadelphia 76ers', 'nickname': '76ers', 'code': 'PHI', 'city': 'Philadelphia', 'logo': 'https://upload.wikimedia.org/wikipedia/fr/4/48/76ers_2016.png', 'allStar': False, 'nbaFranchise': True, 'leagues': {'standard': {'conference': 'East', 'division': 'Atlantic'}, 'vegas': {'conference': 'summer', 'division': None}, 'utah': {'conference': 'Utah', 'division': None}, 'sacramento': {'conference': 'East', 'division': 'Atlantic'}}}, {'id': 28, 'name': 'Phoenix Suns', 'nickname': 'Suns', 'code': 'PHX', 'city': 'Phoenix', 'logo': 'https://upload.wikimedia.org/wikipedia/fr/5/56/Phoenix_Suns_2013.png', 'allStar': False, 'nbaFranchise': True, 'leagues': {'standard': {'conference': 'West', 'division': 'Pacific'}, 'vegas': {'conference': 'summer', 'division': None}, 'utah': {'conference': 'West', 'division': 'Pacific'}, 'sacramento': {'conference': 'West', 'division': 'Pacific'}}}, {'id': 29, 'name': 'Portland Trail Blazers', 'nickname': 'Trail Blazers', 'code': 'POR', 'city': 'Portland', 'logo': 'https://upload.wikimedia.org/wikipedia/en/thumb/2/21/Portland_Trail_Blazers_logo.svg/1200px-Portland_Trail_Blazers_logo.svg.png', 'allStar': False, 'nbaFranchise': True, 'leagues': {'standard': {'conference': 'West', 'division': 'Northwest'}, 'vegas': {'conference': 'summer', 'division': None}, 'utah': {'conference': 'West', 'division': 'Northwest'}, 'sacramento': {'conference': 'West', 'division': 'Northwest'}}}, {'id': 30, 'name': 'Sacramento Kings', 'nickname': 'Kings', 'code': 'SAC', 'city': 'Sacramento', 'logo': 'https://upload.wikimedia.org/wikipedia/fr/thumb/9/95/Kings_de_Sacramento_logo.svg/1200px-Kings_de_Sacramento_logo.svg.png', 'allStar': False, 'nbaFranchise': True, 'leagues': {'standard': {'conference': 'West', 'division': 'Pacific'}, 'sacramento': {'conference': 'California', 'division': None}, 'vegas': {'conference': 'summer', 'division': None}, 'utah': {'conference': 'West', 'division': 'Pacific'}}}, {'id': 31, 'name': 'San Antonio Spurs', 'nickname': 'Spurs', 'code': 'SAS', 'city': 'San Antonio', 'logo': 'https://upload.wikimedia.org/wikipedia/fr/0/0e/San_Antonio_Spurs_2018.png', 'allStar': False, 'nbaFranchise': True, 'leagues': {'standard': {'conference': 'West', 'division': 'Southwest'}, 'vegas': {'conference': 'summer', 'division': None}, 'utah': {'conference': 'West', 'division': 'Southwest'}, 'sacramento': {'conference': 'West', 'division': 'Southwest'}}}, {'id': 32, 'name': 'Shanghai Sharks', 'nickname': 'Sharks', 'code': 'SDS', 'city': 'Shanghai', 'logo': 'https://upload.wikimedia.org/wikipedia/fr/thumb/f/f3/Shangaisharks.jpg/130px-Shangaisharks.jpg', 'allStar': False, 'nbaFranchise': False, 'leagues': {'standard': {'conference': 'Intl', 'division': None}}}, {'id': 33, 'name': 'Sydney Kings', 'nickname': 'Kings', 'code': 'SYD', 'city': 'Sydney', 'logo': 'https://upload.wikimedia.org/wikipedia/fr/thumb/c/c4/Sydney_Kings.jpg/220px-Sydney_Kings.jpg', 'allStar': False, 'nbaFranchise': False, 'leagues': {'standard': {'conference': 'Intl', 'division': None}}}, {'id': 34, 'name': 'Team Team Durant', 'nickname': 'Team Durant', 'code': 'DRT', 'city': 'Team', 'logo': None, 'allStar': True, 'nbaFranchise': False, 'leagues': {'standard': {'conference': 'East', 'division': 'East'}, 'vegas': {'conference': 'East', 'division': 'East'}, 'utah': {'conference': 'East', 'division': 'East'}, 'sacramento': {'conference': 'East', 'division': 'East'}}}, {'id': 35, 'name': 'Team LeBron', 'nickname': 'Team LeBron', 'code': 'LBN', 'city': 'Team', 'logo': None, 'allStar': True, 'nbaFranchise': False, 'leagues': {'standard': {'conference': 'West', 'division': 'West'}, 'vegas': {'conference': 'West', 'division': 'West'}, 'utah': {'conference': 'West', 'division': 'West'}, 'sacramento': {'conference': 'West', 'division': 'West'}}}, {'id': 36, 'name': 'Away Team Wilbon', 'nickname': 'Team Wilbon', 'code': 'WLB', 'city': 'Away', 'logo': None, 'allStar': True, 'nbaFranchise': False, 'leagues': {'standard': {'conference': 'East', 'division': 'East'}}}, {'id': 37, 'name': 'Home Team Stephen A', 'nickname': 'Team Stephen A', 'code': 'SAS', 'city': 'Home', 'logo': None, 'allStar': True, 'nbaFranchise': True, 'leagues': {'standard': {'conference': 'East', 'division': 'East'}}}, {'id': 38, 'name': 'Toronto Raptors', 'nickname': 'Raptors', 'code': 'TOR', 'city': 'Toronto', 'logo': 'https://upload.wikimedia.org/wikipedia/fr/8/89/Raptors2015.png', 'allStar': False, 'nbaFranchise': True, 'leagues': {'standard': {'conference': 'East', 'division': 'Atlantic'}, 'vegas': {'conference': 'summer', 'division': None}, 'utah': {'conference': 'East', 'division': 'Atlantic'}, 'sacramento': {'conference': 'East', 'division': 'Atlantic'}}}, {'id': 39, 'name': 'USA USA', 'nickname': 'USA', 'code': 'USA', 'city': 'USA', 'logo': None, 'allStar': True, 'nbaFranchise': False, 'leagues': {'standard': {'conference': 'East', 'division': 'East'}}}, {'id': 40, 'name': 'Utah Jazz', 'nickname': 'Jazz', 'code': 'UTA', 'city': 'Utah', 'logo': 'https://upload.wikimedia.org/wikipedia/fr/3/3b/Jazz_de_l%27Utah_logo.png', 'allStar': False, 'nbaFranchise': True, 'leagues': {'standard': {'conference': 'West', 'division': 'Northwest'}, 'vegas': {'conference': 'summer', 'division': None}, 'utah': {'conference': 'Utah', 'division': None}, 'sacramento': {'conference': 'West', 'division': 'Northwest'}}}, {'id': 41, 'name': 'Washington Wizards', 'nickname': 'Wizards', 'code': 'WAS', 'city': 'Washington', 'logo': 'https://upload.wikimedia.org/wikipedia/fr/archive/d/d6/20161212034849%21Wizards2015.png', 'allStar': False, 'nbaFranchise': True, 'leagues': {'standard': {'conference': 'East', 'division': 'Southeast'}, 'vegas': {'conference': 'summer', 'division': None}, 'utah': {'conference': 'East', 'division': 'Southeast'}, 'sacramento': {'conference': 'East', 'division': 'Southeast'}}}, {'id': 42, 'name': 'World World', 'nickname': 'World', 'code': 'WLD', 'city': 'World', 'logo': None, 'allStar': True, 'nbaFranchise': False, 'leagues': {'standard': {'conference': 'East', 'division': 'East'}}}, {'id': 43, 'name': 'Team Africa', 'nickname': 'Africa', 'code': 'AFR', 'city': 'Team', 'logo': None, 'allStar': False, 'nbaFranchise': False, 'leagues': {'africa': {'conference': None, 'division': None}}}, {'id': 44, 'name': 'Team World', 'nickname': 'World', 'code': 'WLD', 'city': 'Team', 'logo': None, 'allStar': False, 'nbaFranchise': False, 'leagues': {'africa': {'conference': None, 'division': None}}}, {'id': 83, 'name': '', 'nickname': 'Paschoalotto/Bauru', 'code': 'BAU', 'city': 'Bauru', 'logo': None, 'allStar': False, 'nbaFranchise': False, 'leagues': {'standard': {'conference': 'Internatio', 'division': None}}}, {'id': 84, 'name': '', 'nickname': 'Fenerbahce Sports Club', 'code': 'FEN', 'city': 'Istanbul', 'logo': None, 'allStar': False, 'nbaFranchise': False, 'leagues': {'standard': {'conference': 'Internatio', 'division': None}}}, {'id': 85, 'name': '', 'nickname': 'Olimpia Milano', 'code': 'MLN', 'city': 'Milano', 'logo': None, 'allStar': False, 'nbaFranchise': False, 'leagues': {'standard': {'conference': 'Internatio', 'division': None}}}, {'id': 86, 'name': 'Real Madrid Real Madrid', 'nickname': 'Real Madrid', 'code': 'RMD', 'city': 'Real Madrid', 'logo': None, 'allStar': False, 'nbaFranchise': False, 'leagues': {'standard': {'conference': 'Intl', 'division': None}}}, {'id': 87, 'name': 'Rio de Janeiro Flamengo', 'nickname': 'Flamengo', 'code': 'FLA', 'city': 'Rio de Janeiro', 'logo': None, 'allStar': False, 'nbaFranchise': False, 'leagues': {'standard': {'conference': 'Intl', 'division': None}}}, {'id': 88, 'name': 'Barcelona FC Barcelona', 'nickname': 'FC Barcelona', 'code': 'FCB', 'city': 'Barcelona', 'logo': None, 'allStar': False, 'nbaFranchise': False, 'leagues': {'standard': {'conference': 'Intl', 'division': None}}}, {'id': 89, 'name': 'Buenos Aires San Lorenzo', 'nickname': 'San Lorenzo', 'code': 'SLA', 'city': 'Buenos Aires', 'logo': None, 'allStar': False, 'nbaFranchise': False, 'leagues': {'standard': {'conference': 'Intl', 'division': None}}}, {'id': 90, 'name': 'Adelaide 36ers', 'nickname': '36ers', 'code': 'ADL', 'city': 'Adelaide', 'logo': None, 'allStar': False, 'nbaFranchise': False, 'leagues': {'standard': {'conference': 'Intl', 'division': None}}}, {'id': 91, 'name': 'Beijing Ducks', 'nickname': 'Ducks', 'code': 'BJD', 'city': 'Beijing', 'logo': None, 'allStar': False, 'nbaFranchise': False, 'leagues': {'standard': {'conference': 'Intl', 'division': None}}}, {'id': 92, 'name': 'New Zealand Breakers', 'nickname': 'Breakers', 'code': 'NZB', 'city': 'New Zealand', 'logo': None, 'allStar': False, 'nbaFranchise': False, 'leagues': {'standard': {'conference': 'Intl', 'division': None}}}, {'id': 93, 'name': 'Perth Wildcats', 'nickname': 'Wildcats', 'code': 'PER', 'city': 'Perth', 'logo': None, 'allStar': False, 'nbaFranchise': False, 'leagues': {'standard': {'conference': 'Intl', 'division': None}}}, {'id': 94, 'name': 'Team USA', 'nickname': 'USA', 'code': 'USA', 'city': 'Team', 'logo': None, 'allStar': False, 'nbaFranchise': False, 'leagues': {'africa': {'conference': None, 'division': None}}}, {'id': 95, 'name': 'Team World', 'nickname': 'World', 'code': 'WLD', 'city': 'Team', 'logo': None, 'allStar': False, 'nbaFranchise': False, 'leagues': {'africa': {'conference': None, 'division': None}}}, {'id': 96, 'name': 'Team China', 'nickname': 'China', 'code': 'CHN', 'city': 'China', 'logo': None, 'allStar': False, 'nbaFranchise': False, 'leagues': {'vegas': {'conference': 'summer', 'division': None}}}, {'id': 97, 'name': 'Team Croatia', 'nickname': 'Croatia', 'code': 'CRO', 'city': 'Croatia', 'logo': None, 'allStar': False, 'nbaFranchise': False, 'leagues': {'vegas': {'conference': 'summer', 'division': None}}}, {'id': 99, 'name': 'Franca Franca', 'nickname': 'Franca', 'code': 'FRA', 'city': 'Franca', 'logo': None, 'allStar': False, 'nbaFranchise': False, 'leagues': {'standard': {'conference': 'Intl', 'division': None}}}, {'id': 102, 'name': 'Utah Blue', 'nickname': 'Jazz', 'code': 'UTB', 'city': 'Utah', 'logo': None, 'allStar': False, 'nbaFranchise': False, 'leagues': {'vegas': {'conference': 'West', 'division': 'Northwest'}, 'standard': {'conference': 'West', 'division': 'Northwest'}, 'utah': {'conference': 'West', 'division': 'Northwest'}, 'sacramento': {'conference': 'West', 'division': 'Northwest'}}}, {'id': 103, 'name': 'Utah White', 'nickname': 'Jazz', 'code': 'UTW', 'city': 'Utah', 'logo': None, 'allStar': False, 'nbaFranchise': False, 'leagues': {'vegas': {'conference': 'West', 'division': 'Northwest'}, 'standard': {'conference': 'West', 'division': 'Northwest'}, 'utah': {'conference': 'West', 'division': 'Northwest'}, 'sacramento': {'conference': 'West', 'division': 'Northwest'}}}, {'id': 165, 'name': \"Ra'anana Maccabi Ra'anana\", 'nickname': \"Maccabi Ra'anana\", 'code': 'MRA', 'city': \"Ra'anana\", 'logo': None, 'allStar': False, 'nbaFranchise': False, 'leagues': {'standard': {'conference': 'Intl', 'division': None}}}, {'id': 166, 'name': 'Cairns Taipans', 'nickname': 'Taipans', 'code': 'CNS', 'city': None, 'logo': None, 'allStar': False, 'nbaFranchise': False, 'leagues': {'standard': {'conference': 'Intl', 'division': None}}}, {'id': 168, 'name': 'New Zealand Breakers', 'nickname': 'Breakers', 'code': 'BNZ', 'city': 'Auckland', 'logo': None, 'allStar': False, 'nbaFranchise': False, 'leagues': {'standard': {'conference': None, 'division': None}}}, {'id': 169, 'name': 'Flamengo', 'nickname': 'Flamengo', 'code': '', 'city': None, 'logo': None, 'allStar': False, 'nbaFranchise': False, 'leagues': {'standard': {'conference': None, 'division': None}}}]\n"
     ]
    }
   ],
   "source": [
    "headers = {\n",
    "\t\"X-RapidAPI-Key\": sports_data_api_key,\n",
    "\t\"X-RapidAPI-Host\": \"api-nba-v1.p.rapidapi.com\"\n",
    "}\n",
    "\n",
    "teams = requests.get(uri+'/teams', headers=headers).json()['response']\n",
    "\n",
    "print(teams)"
   ]
  },
  {
   "cell_type": "code",
   "execution_count": 53,
   "metadata": {},
   "outputs": [
    {
     "name": "stdout",
     "output_type": "stream",
     "text": [
      "8 8\n"
     ]
    }
   ],
   "source": [
    "team_names = ['New Orleans Pelicans', 'LA Clippers', 'Phoenix Suns', 'Los Angeles Lakers', 'Miami Heat', 'Orlando Magic', 'Milwaukee Bucks', 'Philadelphia 76ers','Oklahoma City Thunder', 'Dallas Mavericks', 'Minnesota Timberwolves', 'Denver Nuggets', 'Boston Celtics', 'Cleveland Cavaliers', 'Indiana Pacers', 'New York Knicks']\n",
    "final_teams = []\n",
    "\n",
    "for team in teams:\n",
    "    \n",
    "    if team['name'] in team_names:\n",
    "        #print('Added:',team['name'])\n",
    "        final_teams.append(team)\n",
    "\n",
    "print(len(final_teams), len(team_names))\n",
    "\n",
    "#confirm all names were found\n",
    "for n in team_names:\n",
    "    found = False\n",
    "    for team in teams:\n",
    "        if n == team['name']:\n",
    "            found = True\n",
    "            break;\n",
    "    if found == False:\n",
    "        print(n)\n",
    "\n"
   ]
  },
  {
   "cell_type": "code",
   "execution_count": 54,
   "metadata": {},
   "outputs": [],
   "source": [
    "pd.json_normalize(final_teams, max_level=0).to_csv('Resources/All Teams.csv', index=False)"
   ]
  },
  {
   "cell_type": "code",
   "execution_count": 55,
   "metadata": {},
   "outputs": [
    {
     "data": {
      "text/html": [
       "<div>\n",
       "<style scoped>\n",
       "    .dataframe tbody tr th:only-of-type {\n",
       "        vertical-align: middle;\n",
       "    }\n",
       "\n",
       "    .dataframe tbody tr th {\n",
       "        vertical-align: top;\n",
       "    }\n",
       "\n",
       "    .dataframe thead th {\n",
       "        text-align: right;\n",
       "    }\n",
       "</style>\n",
       "<table border=\"1\" class=\"dataframe\">\n",
       "  <thead>\n",
       "    <tr style=\"text-align: right;\">\n",
       "      <th></th>\n",
       "      <th>id</th>\n",
       "      <th>name</th>\n",
       "      <th>nickname</th>\n",
       "      <th>code</th>\n",
       "      <th>city</th>\n",
       "      <th>logo</th>\n",
       "      <th>allStar</th>\n",
       "      <th>nbaFranchise</th>\n",
       "      <th>leagues</th>\n",
       "    </tr>\n",
       "  </thead>\n",
       "  <tbody>\n",
       "    <tr>\n",
       "      <th>0</th>\n",
       "      <td>16</td>\n",
       "      <td>LA Clippers</td>\n",
       "      <td>Clippers</td>\n",
       "      <td>LAC</td>\n",
       "      <td>LA</td>\n",
       "      <td>https://upload.wikimedia.org/wikipedia/fr/d/d6...</td>\n",
       "      <td>False</td>\n",
       "      <td>True</td>\n",
       "      <td>{'standard': {'conference': 'West', 'division'...</td>\n",
       "    </tr>\n",
       "    <tr>\n",
       "      <th>1</th>\n",
       "      <td>17</td>\n",
       "      <td>Los Angeles Lakers</td>\n",
       "      <td>Lakers</td>\n",
       "      <td>LAL</td>\n",
       "      <td>Los Angeles</td>\n",
       "      <td>https://upload.wikimedia.org/wikipedia/commons...</td>\n",
       "      <td>False</td>\n",
       "      <td>True</td>\n",
       "      <td>{'standard': {'conference': 'West', 'division'...</td>\n",
       "    </tr>\n",
       "    <tr>\n",
       "      <th>2</th>\n",
       "      <td>20</td>\n",
       "      <td>Miami Heat</td>\n",
       "      <td>Heat</td>\n",
       "      <td>MIA</td>\n",
       "      <td>Miami</td>\n",
       "      <td>https://upload.wikimedia.org/wikipedia/fr/thum...</td>\n",
       "      <td>False</td>\n",
       "      <td>True</td>\n",
       "      <td>{'standard': {'conference': 'East', 'division'...</td>\n",
       "    </tr>\n",
       "    <tr>\n",
       "      <th>3</th>\n",
       "      <td>21</td>\n",
       "      <td>Milwaukee Bucks</td>\n",
       "      <td>Bucks</td>\n",
       "      <td>MIL</td>\n",
       "      <td>Milwaukee</td>\n",
       "      <td>https://upload.wikimedia.org/wikipedia/fr/3/34...</td>\n",
       "      <td>False</td>\n",
       "      <td>True</td>\n",
       "      <td>{'standard': {'conference': 'East', 'division'...</td>\n",
       "    </tr>\n",
       "    <tr>\n",
       "      <th>4</th>\n",
       "      <td>23</td>\n",
       "      <td>New Orleans Pelicans</td>\n",
       "      <td>Pelicans</td>\n",
       "      <td>NOP</td>\n",
       "      <td>New Orleans</td>\n",
       "      <td>https://upload.wikimedia.org/wikipedia/fr/thum...</td>\n",
       "      <td>False</td>\n",
       "      <td>True</td>\n",
       "      <td>{'standard': {'conference': 'West', 'division'...</td>\n",
       "    </tr>\n",
       "  </tbody>\n",
       "</table>\n",
       "</div>"
      ],
      "text/plain": [
       "   id                  name  nickname code         city  \\\n",
       "0  16           LA Clippers  Clippers  LAC           LA   \n",
       "1  17    Los Angeles Lakers    Lakers  LAL  Los Angeles   \n",
       "2  20            Miami Heat      Heat  MIA        Miami   \n",
       "3  21       Milwaukee Bucks     Bucks  MIL    Milwaukee   \n",
       "4  23  New Orleans Pelicans  Pelicans  NOP  New Orleans   \n",
       "\n",
       "                                                logo  allStar  nbaFranchise  \\\n",
       "0  https://upload.wikimedia.org/wikipedia/fr/d/d6...    False          True   \n",
       "1  https://upload.wikimedia.org/wikipedia/commons...    False          True   \n",
       "2  https://upload.wikimedia.org/wikipedia/fr/thum...    False          True   \n",
       "3  https://upload.wikimedia.org/wikipedia/fr/3/34...    False          True   \n",
       "4  https://upload.wikimedia.org/wikipedia/fr/thum...    False          True   \n",
       "\n",
       "                                             leagues  \n",
       "0  {'standard': {'conference': 'West', 'division'...  \n",
       "1  {'standard': {'conference': 'West', 'division'...  \n",
       "2  {'standard': {'conference': 'East', 'division'...  \n",
       "3  {'standard': {'conference': 'East', 'division'...  \n",
       "4  {'standard': {'conference': 'West', 'division'...  "
      ]
     },
     "execution_count": 55,
     "metadata": {},
     "output_type": "execute_result"
    }
   ],
   "source": [
    "# test the new CSV as a DF\n",
    "\n",
    "df_teams = pd.read_csv('Resources/All Teams.csv')\n",
    "df_teams.head()"
   ]
  },
  {
   "cell_type": "code",
   "execution_count": 56,
   "metadata": {},
   "outputs": [
    {
     "name": "stdout",
     "output_type": "stream",
     "text": [
      "2013\n"
     ]
    }
   ],
   "source": [
    "headers = {\n",
    "\t\"X-RapidAPI-Key\": sports_data_api_key,\n",
    "\t\"X-RapidAPI-Host\": \"api-nba-v1.p.rapidapi.com\"\n",
    "}\n",
    "\n",
    "def get_players(team_id, season):\n",
    "    time.sleep(30)\n",
    "    return requests.get(uri+'/players', headers=headers, params={\"team\":team_id, \"season\":season}).json()['response']\n",
    "\n",
    "all_players = []\n",
    "\n",
    "for team_id in df_teams['id']:\n",
    "    for season in seasons:\n",
    "        all_players.extend(\n",
    "            get_players(team_id, season)\n",
    "        )\n",
    "\n",
    "print(len(all_players))"
   ]
  },
  {
   "cell_type": "code",
   "execution_count": 59,
   "metadata": {},
   "outputs": [
    {
     "data": {
      "text/html": [
       "<div>\n",
       "<style scoped>\n",
       "    .dataframe tbody tr th:only-of-type {\n",
       "        vertical-align: middle;\n",
       "    }\n",
       "\n",
       "    .dataframe tbody tr th {\n",
       "        vertical-align: top;\n",
       "    }\n",
       "\n",
       "    .dataframe thead th {\n",
       "        text-align: right;\n",
       "    }\n",
       "</style>\n",
       "<table border=\"1\" class=\"dataframe\">\n",
       "  <thead>\n",
       "    <tr style=\"text-align: right;\">\n",
       "      <th></th>\n",
       "      <th>id</th>\n",
       "      <th>firstname</th>\n",
       "      <th>lastname</th>\n",
       "      <th>birth</th>\n",
       "      <th>nba</th>\n",
       "      <th>height</th>\n",
       "      <th>weight</th>\n",
       "      <th>college</th>\n",
       "      <th>affiliation</th>\n",
       "      <th>leagues</th>\n",
       "    </tr>\n",
       "  </thead>\n",
       "  <tbody>\n",
       "    <tr>\n",
       "      <th>2008</th>\n",
       "      <td>153</td>\n",
       "      <td>Kevin</td>\n",
       "      <td>Durant</td>\n",
       "      <td>{'date': '1988-09-29', 'country': 'USA'}</td>\n",
       "      <td>{'start': 2007, 'pro': 13}</td>\n",
       "      <td>{'feets': '6', 'inches': '10', 'meters': '2.08'}</td>\n",
       "      <td>{'pounds': '240', 'kilograms': '108.9'}</td>\n",
       "      <td>Texas</td>\n",
       "      <td>Texas/USA</td>\n",
       "      <td>{'standard': {'jersey': 7, 'active': True, 'po...</td>\n",
       "    </tr>\n",
       "    <tr>\n",
       "      <th>2009</th>\n",
       "      <td>570</td>\n",
       "      <td>Thaddeus</td>\n",
       "      <td>Young</td>\n",
       "      <td>{'date': '1988-06-21', 'country': 'USA'}</td>\n",
       "      <td>{'start': 2007, 'pro': 14}</td>\n",
       "      <td>{'feets': '6', 'inches': '8', 'meters': '2.03'}</td>\n",
       "      <td>{'pounds': '235', 'kilograms': '106.6'}</td>\n",
       "      <td>Georgia Tech</td>\n",
       "      <td>Georgia Tech/USA</td>\n",
       "      <td>{'standard': {'jersey': 21, 'active': True, 'p...</td>\n",
       "    </tr>\n",
       "    <tr>\n",
       "      <th>2010</th>\n",
       "      <td>196</td>\n",
       "      <td>Eric</td>\n",
       "      <td>Gordon</td>\n",
       "      <td>{'date': '1988-12-25', 'country': 'USA'}</td>\n",
       "      <td>{'start': 2008, 'pro': 13}</td>\n",
       "      <td>{'feets': '6', 'inches': '3', 'meters': '1.9'}</td>\n",
       "      <td>{'pounds': '215', 'kilograms': '97.5'}</td>\n",
       "      <td>Indiana</td>\n",
       "      <td>Indiana/USA</td>\n",
       "      <td>{'standard': {'jersey': 10, 'active': True, 'p...</td>\n",
       "    </tr>\n",
       "    <tr>\n",
       "      <th>2011</th>\n",
       "      <td>45</td>\n",
       "      <td>Bradley</td>\n",
       "      <td>Beal</td>\n",
       "      <td>{'date': '1993-06-28', 'country': 'USA'}</td>\n",
       "      <td>{'start': 2012, 'pro': 9}</td>\n",
       "      <td>{'feets': '6', 'inches': '4', 'meters': '1.93'}</td>\n",
       "      <td>{'pounds': '207', 'kilograms': '93.9'}</td>\n",
       "      <td>Florida</td>\n",
       "      <td>Florida/USA</td>\n",
       "      <td>{'standard': {'jersey': 3, 'active': True, 'po...</td>\n",
       "    </tr>\n",
       "    <tr>\n",
       "      <th>2012</th>\n",
       "      <td>398</td>\n",
       "      <td>Jusuf</td>\n",
       "      <td>Nurkic</td>\n",
       "      <td>{'date': '1994-08-23', 'country': 'Bosnia and ...</td>\n",
       "      <td>{'start': 2014, 'pro': 7}</td>\n",
       "      <td>{'feets': '6', 'inches': '11', 'meters': '2.11'}</td>\n",
       "      <td>{'pounds': '290', 'kilograms': '131.5'}</td>\n",
       "      <td>Cedevita</td>\n",
       "      <td>Cedevita/Bosnia and Herzegovina</td>\n",
       "      <td>{'standard': {'jersey': 27, 'active': True, 'p...</td>\n",
       "    </tr>\n",
       "  </tbody>\n",
       "</table>\n",
       "</div>"
      ],
      "text/plain": [
       "       id firstname lastname  \\\n",
       "2008  153     Kevin   Durant   \n",
       "2009  570  Thaddeus    Young   \n",
       "2010  196      Eric   Gordon   \n",
       "2011   45   Bradley     Beal   \n",
       "2012  398     Jusuf   Nurkic   \n",
       "\n",
       "                                                  birth  \\\n",
       "2008           {'date': '1988-09-29', 'country': 'USA'}   \n",
       "2009           {'date': '1988-06-21', 'country': 'USA'}   \n",
       "2010           {'date': '1988-12-25', 'country': 'USA'}   \n",
       "2011           {'date': '1993-06-28', 'country': 'USA'}   \n",
       "2012  {'date': '1994-08-23', 'country': 'Bosnia and ...   \n",
       "\n",
       "                             nba  \\\n",
       "2008  {'start': 2007, 'pro': 13}   \n",
       "2009  {'start': 2007, 'pro': 14}   \n",
       "2010  {'start': 2008, 'pro': 13}   \n",
       "2011   {'start': 2012, 'pro': 9}   \n",
       "2012   {'start': 2014, 'pro': 7}   \n",
       "\n",
       "                                                height  \\\n",
       "2008  {'feets': '6', 'inches': '10', 'meters': '2.08'}   \n",
       "2009   {'feets': '6', 'inches': '8', 'meters': '2.03'}   \n",
       "2010    {'feets': '6', 'inches': '3', 'meters': '1.9'}   \n",
       "2011   {'feets': '6', 'inches': '4', 'meters': '1.93'}   \n",
       "2012  {'feets': '6', 'inches': '11', 'meters': '2.11'}   \n",
       "\n",
       "                                       weight       college  \\\n",
       "2008  {'pounds': '240', 'kilograms': '108.9'}         Texas   \n",
       "2009  {'pounds': '235', 'kilograms': '106.6'}  Georgia Tech   \n",
       "2010   {'pounds': '215', 'kilograms': '97.5'}       Indiana   \n",
       "2011   {'pounds': '207', 'kilograms': '93.9'}       Florida   \n",
       "2012  {'pounds': '290', 'kilograms': '131.5'}      Cedevita   \n",
       "\n",
       "                          affiliation  \\\n",
       "2008                        Texas/USA   \n",
       "2009                 Georgia Tech/USA   \n",
       "2010                      Indiana/USA   \n",
       "2011                      Florida/USA   \n",
       "2012  Cedevita/Bosnia and Herzegovina   \n",
       "\n",
       "                                                leagues  \n",
       "2008  {'standard': {'jersey': 7, 'active': True, 'po...  \n",
       "2009  {'standard': {'jersey': 21, 'active': True, 'p...  \n",
       "2010  {'standard': {'jersey': 10, 'active': True, 'p...  \n",
       "2011  {'standard': {'jersey': 3, 'active': True, 'po...  \n",
       "2012  {'standard': {'jersey': 27, 'active': True, 'p...  "
      ]
     },
     "execution_count": 59,
     "metadata": {},
     "output_type": "execute_result"
    }
   ],
   "source": [
    "pd.json_normalize(all_players, max_level=0).to_csv('Resources/All Players.csv', index=False)\n",
    "\n",
    "# test the new CSV as a DF\n",
    "\n",
    "df_players = pd.read_csv('Resources/All Players.csv')\n",
    "df_players.tail()"
   ]
  },
  {
   "cell_type": "code",
   "execution_count": 13,
   "metadata": {},
   "outputs": [
    {
     "name": "stdout",
     "output_type": "stream",
     "text": [
      "{'get': 'games/', 'parameters': [], 'errors': {'required': 'At least one parameter is required.'}, 'results': 0, 'response': []}\n"
     ]
    }
   ],
   "source": [
    "headers = {\n",
    "\t\"X-RapidAPI-Key\": sports_data_api_key,\n",
    "\t\"X-RapidAPI-Host\": \"api-nba-v1.p.rapidapi.com\"\n",
    "}\n",
    "\n",
    "games = requests.get(uri+'/games', headers=headers).json()\n",
    "\n",
    "print(games)"
   ]
  },
  {
   "cell_type": "code",
   "execution_count": 14,
   "metadata": {},
   "outputs": [
    {
     "name": "stdout",
     "output_type": "stream",
     "text": [
      "{'get': 'standings/', 'parameters': [], 'errors': {'required': 'At least one parameter is required.'}, 'results': 0, 'response': []}\n"
     ]
    }
   ],
   "source": [
    "headers = {\n",
    "\t\"X-RapidAPI-Key\": sports_data_api_key,\n",
    "\t\"X-RapidAPI-Host\": \"api-nba-v1.p.rapidapi.com\"\n",
    "}\n",
    "\n",
    "standings = requests.get(uri+'/standings', headers=headers).json()\n",
    "\n",
    "print(standings)"
   ]
  },
  {
   "cell_type": "code",
   "execution_count": 16,
   "metadata": {},
   "outputs": [
    {
     "name": "stdout",
     "output_type": "stream",
     "text": [
      "{'get': 'games/statistics', 'parameters': [], 'errors': {'required': 'At least one parameter is required.'}, 'results': 0, 'response': []}\n"
     ]
    }
   ],
   "source": [
    "headers = {\n",
    "\t\"X-RapidAPI-Key\": sports_data_api_key,\n",
    "\t\"X-RapidAPI-Host\": \"api-nba-v1.p.rapidapi.com\"\n",
    "}\n",
    "\n",
    "statistics = requests.get(uri+'/games/statistics', headers=headers).json()\n",
    "\n",
    "print(statistics)"
   ]
  },
  {
   "cell_type": "markdown",
   "metadata": {},
   "source": [
    "Part 2 - ???"
   ]
  }
 ],
 "metadata": {
  "kernelspec": {
   "display_name": "dev",
   "language": "python",
   "name": "python3"
  },
  "language_info": {
   "codemirror_mode": {
    "name": "ipython",
    "version": 3
   },
   "file_extension": ".py",
   "mimetype": "text/x-python",
   "name": "python",
   "nbconvert_exporter": "python",
   "pygments_lexer": "ipython3",
   "version": "3.10.13"
  }
 },
 "nbformat": 4,
 "nbformat_minor": 2
}
