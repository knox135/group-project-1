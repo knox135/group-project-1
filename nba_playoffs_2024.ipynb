{
 "cells": [
  {
   "cell_type": "markdown",
   "metadata": {},
   "source": [
    "Part 1 - Collect Data into CSVs to work with"
   ]
  },
  {
   "cell_type": "code",
   "execution_count": 20,
   "metadata": {},
   "outputs": [],
   "source": [
    "import sys\n",
    "from dotenv import load_dotenv\n",
    "import os\n",
    "import requests\n",
    "import pandas as pd"
   ]
  },
  {
   "cell_type": "code",
   "execution_count": 3,
   "metadata": {},
   "outputs": [
    {
     "name": "stdout",
     "output_type": "stream",
     "text": [
      "\n"
     ]
    }
   ],
   "source": [
    "load_dotenv()\n",
    "load_dotenv('.env')\n",
    "sports_data_api_key = os.getenv('SPORTS_DATA_API_KEY')"
   ]
  },
  {
   "cell_type": "code",
   "execution_count": 4,
   "metadata": {},
   "outputs": [],
   "source": [
    "uri = 'https://api-nba-v1.p.rapidapi.com'\n",
    "api_key_str = '?key='+sports_data_api_key"
   ]
  },
  {
   "cell_type": "code",
   "execution_count": 35,
   "metadata": {},
   "outputs": [
    {
     "name": "stdout",
     "output_type": "stream",
     "text": [
      "{'get': 'seasons/', 'parameters': [], 'errors': [], 'results': 9, 'response': [2015, 2016, 2017, 2018, 2019, 2020, 2021, 2022, 2023]}\n"
     ]
    }
   ],
   "source": [
    "headers = {\n",
    "\t\"X-RapidAPI-Key\": sports_data_api_key,\n",
    "\t\"X-RapidAPI-Host\": \"api-nba-v1.p.rapidapi.com\"\n",
    "}\n",
    "\n",
    "#seasons = requests.get(uri+'/seasons', headers=headers).json()\n",
    "\n",
    "seasons = [2015, 2016, 2017, 2018, 2019, 2020, 2021, 2022, 2023]\n",
    "\n",
    "print(seasons)"
   ]
  },
  {
   "cell_type": "code",
   "execution_count": 17,
   "metadata": {},
   "outputs": [
    {
     "name": "stdout",
     "output_type": "stream",
     "text": [
      "[{'id': 1, 'name': 'Atlanta Hawks', 'nickname': 'Hawks', 'code': 'ATL', 'city': 'Atlanta', 'logo': 'https://upload.wikimedia.org/wikipedia/fr/e/ee/Hawks_2016.png', 'allStar': False, 'nbaFranchise': True, 'leagues': {'standard': {'conference': 'East', 'division': 'Southeast'}, 'vegas': {'conference': 'summer', 'division': None}, 'utah': {'conference': 'East', 'division': 'Southeast'}, 'sacramento': {'conference': 'East', 'division': 'Southeast'}}}, {'id': 2, 'name': 'Boston Celtics', 'nickname': 'Celtics', 'code': 'BOS', 'city': 'Boston', 'logo': 'https://upload.wikimedia.org/wikipedia/fr/thumb/6/65/Celtics_de_Boston_logo.svg/1024px-Celtics_de_Boston_logo.svg.png', 'allStar': False, 'nbaFranchise': True, 'leagues': {'standard': {'conference': 'East', 'division': 'Atlantic'}, 'vegas': {'conference': 'summer', 'division': None}, 'utah': {'conference': 'East', 'division': 'Atlantic'}, 'sacramento': {'conference': 'East', 'division': 'Atlantic'}}}, {'id': 3, 'name': 'Brisbane Bullets', 'nickname': 'Bullets', 'code': 'BNE', 'city': 'Brisbane', 'logo': 'https://upload.wikimedia.org/wikipedia/fr/thumb/1/1b/Brisbane_Bullets_1992.png/130px-Brisbane_Bullets_1992.png', 'allStar': False, 'nbaFranchise': False, 'leagues': {'standard': {'conference': 'Intl', 'division': None}}}, {'id': 4, 'name': 'Brooklyn Nets', 'nickname': 'Nets', 'code': 'BKN', 'city': 'Brooklyn', 'logo': 'https://upload.wikimedia.org/wikipedia/commons/thumb/4/44/Brooklyn_Nets_newlogo.svg/130px-Brooklyn_Nets_newlogo.svg.png', 'allStar': False, 'nbaFranchise': True, 'leagues': {'standard': {'conference': 'East', 'division': 'Atlantic'}, 'vegas': {'conference': 'summer', 'division': None}, 'utah': {'conference': 'East', 'division': 'Atlantic'}, 'sacramento': {'conference': 'East', 'division': 'Atlantic'}}}, {'id': 5, 'name': 'Charlotte Hornets', 'nickname': 'Hornets', 'code': 'CHA', 'city': 'Charlotte', 'logo': 'https://upload.wikimedia.org/wikipedia/fr/thumb/f/f3/Hornets_de_Charlotte_logo.svg/1200px-Hornets_de_Charlotte_logo.svg.png', 'allStar': False, 'nbaFranchise': True, 'leagues': {'standard': {'conference': 'East', 'division': 'Southeast'}, 'vegas': {'conference': 'summer', 'division': None}, 'utah': {'conference': 'East', 'division': 'Southeast'}, 'sacramento': {'conference': 'East', 'division': 'Southeast'}}}, {'id': 6, 'name': 'Chicago Bulls', 'nickname': 'Bulls', 'code': 'CHI', 'city': 'Chicago', 'logo': 'https://upload.wikimedia.org/wikipedia/fr/thumb/d/d1/Bulls_de_Chicago_logo.svg/1200px-Bulls_de_Chicago_logo.svg.png', 'allStar': False, 'nbaFranchise': True, 'leagues': {'standard': {'conference': 'East', 'division': 'Central'}, 'vegas': {'conference': 'summer', 'division': None}, 'utah': {'conference': 'East', 'division': 'Central'}, 'sacramento': {'conference': 'East', 'division': 'Central'}}}, {'id': 7, 'name': 'Cleveland Cavaliers', 'nickname': 'Cavaliers', 'code': 'CLE', 'city': 'Cleveland', 'logo': 'https://upload.wikimedia.org/wikipedia/fr/thumb/0/06/Cavs_de_Cleveland_logo_2017.png/150px-Cavs_de_Cleveland_logo_2017.png', 'allStar': False, 'nbaFranchise': True, 'leagues': {'standard': {'conference': 'East', 'division': 'Central'}, 'vegas': {'conference': 'summer', 'division': None}, 'utah': {'conference': 'East', 'division': 'Central'}, 'sacramento': {'conference': 'East', 'division': 'Central'}}}, {'id': 8, 'name': 'Dallas Mavericks', 'nickname': 'Mavericks', 'code': 'DAL', 'city': 'Dallas', 'logo': 'https://upload.wikimedia.org/wikipedia/fr/thumb/b/b8/Mavericks_de_Dallas_logo.svg/150px-Mavericks_de_Dallas_logo.svg.png', 'allStar': False, 'nbaFranchise': True, 'leagues': {'standard': {'conference': 'West', 'division': 'Southwest'}, 'vegas': {'conference': 'summer', 'division': None}, 'utah': {'conference': 'West', 'division': 'Southwest'}, 'sacramento': {'conference': 'West', 'division': 'Southwest'}}}, {'id': 9, 'name': 'Denver Nuggets', 'nickname': 'Nuggets', 'code': 'DEN', 'city': 'Denver', 'logo': 'https://upload.wikimedia.org/wikipedia/fr/thumb/3/35/Nuggets_de_Denver_2018.png/180px-Nuggets_de_Denver_2018.png', 'allStar': False, 'nbaFranchise': True, 'leagues': {'standard': {'conference': 'West', 'division': 'Northwest'}, 'vegas': {'conference': 'summer', 'division': None}, 'utah': {'conference': 'West', 'division': 'Northwest'}, 'sacramento': {'conference': 'West', 'division': 'Northwest'}}}, {'id': 10, 'name': 'Detroit Pistons', 'nickname': 'Pistons', 'code': 'DET', 'city': 'Detroit', 'logo': 'https://upload.wikimedia.org/wikipedia/commons/thumb/3/39/Logo_of_the_Detroit_Pistons.png/300px-Logo_of_the_Detroit_Pistons.png', 'allStar': False, 'nbaFranchise': True, 'leagues': {'standard': {'conference': 'East', 'division': 'Central'}, 'vegas': {'conference': 'summer', 'division': None}, 'utah': {'conference': 'East', 'division': 'Central'}, 'sacramento': {'conference': 'East', 'division': 'Central'}}}, {'id': 11, 'name': 'Golden State Warriors', 'nickname': 'Warriors', 'code': 'GSW', 'city': 'Golden State', 'logo': 'https://upload.wikimedia.org/wikipedia/fr/thumb/d/de/Warriors_de_Golden_State_logo.svg/1200px-Warriors_de_Golden_State_logo.svg.png', 'allStar': False, 'nbaFranchise': True, 'leagues': {'standard': {'conference': 'West', 'division': 'Pacific'}, 'sacramento': {'conference': 'California', 'division': None}, 'vegas': {'conference': 'summer', 'division': None}, 'utah': {'conference': 'West', 'division': 'Pacific'}}}, {'id': 12, 'name': 'Guangzhou Long-Lions', 'nickname': 'Long-Lions', 'code': 'GUA', 'city': 'Guangzhou', 'logo': 'https://upload.wikimedia.org/wikipedia/en/thumb/d/df/Guangzhou_Long-Lions_logo.png/220px-Guangzhou_Long-Lions_logo.png', 'allStar': False, 'nbaFranchise': False, 'leagues': {'standard': {'conference': 'Intl', 'division': None}}}, {'id': 13, 'name': 'Haifa Maccabi Haifa', 'nickname': 'Maccabi Haifa', 'code': 'MAC', 'city': 'Haifa', 'logo': 'https://upload.wikimedia.org/wikipedia/en/4/4c/Maccabi_Haifa_B.C_logo.png', 'allStar': False, 'nbaFranchise': False, 'leagues': {'standard': {'conference': 'Intl', 'division': None}}}, {'id': 14, 'name': 'Houston Rockets', 'nickname': 'Rockets', 'code': 'HOU', 'city': 'Houston', 'logo': 'https://upload.wikimedia.org/wikipedia/fr/thumb/d/de/Houston_Rockets_logo_2003.png/330px-Houston_Rockets_logo_2003.png', 'allStar': False, 'nbaFranchise': True, 'leagues': {'standard': {'conference': 'West', 'division': 'Southwest'}, 'vegas': {'conference': 'summer', 'division': None}, 'utah': {'conference': 'West', 'division': 'Southwest'}, 'sacramento': {'conference': 'West', 'division': 'Southwest'}}}, {'id': 15, 'name': 'Indiana Pacers', 'nickname': 'Pacers', 'code': 'IND', 'city': 'Indiana', 'logo': 'https://upload.wikimedia.org/wikipedia/fr/thumb/c/cf/Pacers_de_l%27Indiana_logo.svg/1180px-Pacers_de_l%27Indiana_logo.svg.png', 'allStar': False, 'nbaFranchise': True, 'leagues': {'standard': {'conference': 'East', 'division': 'Central'}, 'vegas': {'conference': 'summer', 'division': None}, 'utah': {'conference': 'East', 'division': 'Central'}, 'sacramento': {'conference': 'East', 'division': 'Central'}}}, {'id': 16, 'name': 'LA Clippers', 'nickname': 'Clippers', 'code': 'LAC', 'city': 'LA', 'logo': 'https://upload.wikimedia.org/wikipedia/fr/d/d6/Los_Angeles_Clippers_logo_2010.png', 'allStar': False, 'nbaFranchise': True, 'leagues': {'standard': {'conference': 'West', 'division': 'Pacific'}, 'vegas': {'conference': 'summer', 'division': None}, 'utah': {'conference': 'West', 'division': 'Pacific'}, 'sacramento': {'conference': 'West', 'division': 'Pacific'}}}, {'id': 17, 'name': 'Los Angeles Lakers', 'nickname': 'Lakers', 'code': 'LAL', 'city': 'Los Angeles', 'logo': 'https://upload.wikimedia.org/wikipedia/commons/thumb/3/3c/Los_Angeles_Lakers_logo.svg/220px-Los_Angeles_Lakers_logo.svg.png', 'allStar': False, 'nbaFranchise': True, 'leagues': {'standard': {'conference': 'West', 'division': 'Pacific'}, 'sacramento': {'conference': 'California', 'division': None}, 'vegas': {'conference': 'summer', 'division': None}, 'utah': {'conference': 'West', 'division': 'Pacific'}}}, {'id': 18, 'name': 'Melbourne United', 'nickname': 'United', 'code': 'MEL', 'city': 'Melbourne', 'logo': 'https://upload.wikimedia.org/wikipedia/en/thumb/1/1b/Melbourne_United_logo.svg/220px-Melbourne_United_logo.svg.png', 'allStar': False, 'nbaFranchise': False, 'leagues': {'standard': {'conference': 'Intl', 'division': None}}}, {'id': 19, 'name': 'Memphis Grizzlies', 'nickname': 'Grizzlies', 'code': 'MEM', 'city': 'Memphis', 'logo': 'https://upload.wikimedia.org/wikipedia/en/thumb/f/f1/Memphis_Grizzlies.svg/1200px-Memphis_Grizzlies.svg.png', 'allStar': False, 'nbaFranchise': True, 'leagues': {'standard': {'conference': 'West', 'division': 'Southwest'}, 'vegas': {'conference': 'summer', 'division': None}, 'utah': {'conference': 'Utah', 'division': None}, 'sacramento': {'conference': 'West', 'division': 'Southwest'}}}, {'id': 20, 'name': 'Miami Heat', 'nickname': 'Heat', 'code': 'MIA', 'city': 'Miami', 'logo': 'https://upload.wikimedia.org/wikipedia/fr/thumb/1/1c/Miami_Heat_-_Logo.svg/1200px-Miami_Heat_-_Logo.svg.png', 'allStar': False, 'nbaFranchise': True, 'leagues': {'standard': {'conference': 'East', 'division': 'Southeast'}, 'sacramento': {'conference': 'California', 'division': None}, 'vegas': {'conference': 'summer', 'division': None}, 'utah': {'conference': 'East', 'division': 'Southeast'}}}, {'id': 21, 'name': 'Milwaukee Bucks', 'nickname': 'Bucks', 'code': 'MIL', 'city': 'Milwaukee', 'logo': 'https://upload.wikimedia.org/wikipedia/fr/3/34/Bucks2015.png', 'allStar': False, 'nbaFranchise': True, 'leagues': {'standard': {'conference': 'East', 'division': 'Central'}, 'vegas': {'conference': 'summer', 'division': None}, 'utah': {'conference': 'East', 'division': 'Central'}, 'sacramento': {'conference': 'East', 'division': 'Central'}}}, {'id': 22, 'name': 'Minnesota Timberwolves', 'nickname': 'Timberwolves', 'code': 'MIN', 'city': 'Minnesota', 'logo': 'https://upload.wikimedia.org/wikipedia/fr/thumb/d/d9/Timberwolves_du_Minnesota_logo_2017.png/200px-Timberwolves_du_Minnesota_logo_2017.png', 'allStar': False, 'nbaFranchise': True, 'leagues': {'standard': {'conference': 'West', 'division': 'Northwest'}, 'vegas': {'conference': 'summer', 'division': None}, 'utah': {'conference': 'West', 'division': 'Northwest'}, 'sacramento': {'conference': 'West', 'division': 'Northwest'}}}, {'id': 23, 'name': 'New Orleans Pelicans', 'nickname': 'Pelicans', 'code': 'NOP', 'city': 'New Orleans', 'logo': 'https://upload.wikimedia.org/wikipedia/fr/thumb/2/21/New_Orleans_Pelicans.png/200px-New_Orleans_Pelicans.png', 'allStar': False, 'nbaFranchise': True, 'leagues': {'standard': {'conference': 'West', 'division': 'Southwest'}, 'vegas': {'conference': 'summer', 'division': None}, 'utah': {'conference': 'West', 'division': 'Southwest'}, 'sacramento': {'conference': 'West', 'division': 'Southwest'}}}, {'id': 24, 'name': 'New York Knicks', 'nickname': 'Knicks', 'code': 'NYK', 'city': 'New York', 'logo': 'https://upload.wikimedia.org/wikipedia/fr/3/34/Knicks_de_NY.png', 'allStar': False, 'nbaFranchise': True, 'leagues': {'standard': {'conference': 'East', 'division': 'Atlantic'}, 'vegas': {'conference': 'summer', 'division': None}, 'utah': {'conference': 'East', 'division': 'Atlantic'}, 'sacramento': {'conference': 'East', 'division': 'Atlantic'}}}, {'id': 25, 'name': 'Oklahoma City Thunder', 'nickname': 'Thunder', 'code': 'OKC', 'city': 'Oklahoma City', 'logo': 'https://upload.wikimedia.org/wikipedia/fr/thumb/4/4f/Thunder_d%27Oklahoma_City_logo.svg/1200px-Thunder_d%27Oklahoma_City_logo.svg.png', 'allStar': False, 'nbaFranchise': True, 'leagues': {'standard': {'conference': 'West', 'division': 'Northwest'}, 'vegas': {'conference': 'summer', 'division': None}, 'utah': {'conference': 'Utah', 'division': None}, 'sacramento': {'conference': 'West', 'division': 'Northwest'}}}, {'id': 26, 'name': 'Orlando Magic', 'nickname': 'Magic', 'code': 'ORL', 'city': 'Orlando', 'logo': 'https://upload.wikimedia.org/wikipedia/fr/b/bd/Orlando_Magic_logo_2010.png', 'allStar': False, 'nbaFranchise': True, 'leagues': {'standard': {'conference': 'East', 'division': 'Southeast'}, 'vegas': {'conference': 'summer', 'division': None}, 'utah': {'conference': 'East', 'division': 'Southeast'}, 'sacramento': {'conference': 'East', 'division': 'Southeast'}}}, {'id': 27, 'name': 'Philadelphia 76ers', 'nickname': '76ers', 'code': 'PHI', 'city': 'Philadelphia', 'logo': 'https://upload.wikimedia.org/wikipedia/fr/4/48/76ers_2016.png', 'allStar': False, 'nbaFranchise': True, 'leagues': {'standard': {'conference': 'East', 'division': 'Atlantic'}, 'vegas': {'conference': 'summer', 'division': None}, 'utah': {'conference': 'Utah', 'division': None}, 'sacramento': {'conference': 'East', 'division': 'Atlantic'}}}, {'id': 28, 'name': 'Phoenix Suns', 'nickname': 'Suns', 'code': 'PHX', 'city': 'Phoenix', 'logo': 'https://upload.wikimedia.org/wikipedia/fr/5/56/Phoenix_Suns_2013.png', 'allStar': False, 'nbaFranchise': True, 'leagues': {'standard': {'conference': 'West', 'division': 'Pacific'}, 'vegas': {'conference': 'summer', 'division': None}, 'utah': {'conference': 'West', 'division': 'Pacific'}, 'sacramento': {'conference': 'West', 'division': 'Pacific'}}}, {'id': 29, 'name': 'Portland Trail Blazers', 'nickname': 'Trail Blazers', 'code': 'POR', 'city': 'Portland', 'logo': 'https://upload.wikimedia.org/wikipedia/en/thumb/2/21/Portland_Trail_Blazers_logo.svg/1200px-Portland_Trail_Blazers_logo.svg.png', 'allStar': False, 'nbaFranchise': True, 'leagues': {'standard': {'conference': 'West', 'division': 'Northwest'}, 'vegas': {'conference': 'summer', 'division': None}, 'utah': {'conference': 'West', 'division': 'Northwest'}, 'sacramento': {'conference': 'West', 'division': 'Northwest'}}}, {'id': 30, 'name': 'Sacramento Kings', 'nickname': 'Kings', 'code': 'SAC', 'city': 'Sacramento', 'logo': 'https://upload.wikimedia.org/wikipedia/fr/thumb/9/95/Kings_de_Sacramento_logo.svg/1200px-Kings_de_Sacramento_logo.svg.png', 'allStar': False, 'nbaFranchise': True, 'leagues': {'standard': {'conference': 'West', 'division': 'Pacific'}, 'sacramento': {'conference': 'California', 'division': None}, 'vegas': {'conference': 'summer', 'division': None}, 'utah': {'conference': 'West', 'division': 'Pacific'}}}, {'id': 31, 'name': 'San Antonio Spurs', 'nickname': 'Spurs', 'code': 'SAS', 'city': 'San Antonio', 'logo': 'https://upload.wikimedia.org/wikipedia/fr/0/0e/San_Antonio_Spurs_2018.png', 'allStar': False, 'nbaFranchise': True, 'leagues': {'standard': {'conference': 'West', 'division': 'Southwest'}, 'vegas': {'conference': 'summer', 'division': None}, 'utah': {'conference': 'West', 'division': 'Southwest'}, 'sacramento': {'conference': 'West', 'division': 'Southwest'}}}, {'id': 32, 'name': 'Shanghai Sharks', 'nickname': 'Sharks', 'code': 'SDS', 'city': 'Shanghai', 'logo': 'https://upload.wikimedia.org/wikipedia/fr/thumb/f/f3/Shangaisharks.jpg/130px-Shangaisharks.jpg', 'allStar': False, 'nbaFranchise': False, 'leagues': {'standard': {'conference': 'Intl', 'division': None}}}, {'id': 33, 'name': 'Sydney Kings', 'nickname': 'Kings', 'code': 'SYD', 'city': 'Sydney', 'logo': 'https://upload.wikimedia.org/wikipedia/fr/thumb/c/c4/Sydney_Kings.jpg/220px-Sydney_Kings.jpg', 'allStar': False, 'nbaFranchise': False, 'leagues': {'standard': {'conference': 'Intl', 'division': None}}}, {'id': 34, 'name': 'Team Team Durant', 'nickname': 'Team Durant', 'code': 'DRT', 'city': 'Team', 'logo': None, 'allStar': True, 'nbaFranchise': False, 'leagues': {'standard': {'conference': 'East', 'division': 'East'}, 'vegas': {'conference': 'East', 'division': 'East'}, 'utah': {'conference': 'East', 'division': 'East'}, 'sacramento': {'conference': 'East', 'division': 'East'}}}, {'id': 35, 'name': 'Team LeBron', 'nickname': 'Team LeBron', 'code': 'LBN', 'city': 'Team', 'logo': None, 'allStar': True, 'nbaFranchise': False, 'leagues': {'standard': {'conference': 'West', 'division': 'West'}, 'vegas': {'conference': 'West', 'division': 'West'}, 'utah': {'conference': 'West', 'division': 'West'}, 'sacramento': {'conference': 'West', 'division': 'West'}}}, {'id': 36, 'name': 'Away Team Wilbon', 'nickname': 'Team Wilbon', 'code': 'WLB', 'city': 'Away', 'logo': None, 'allStar': True, 'nbaFranchise': False, 'leagues': {'standard': {'conference': 'East', 'division': 'East'}}}, {'id': 37, 'name': 'Home Team Stephen A', 'nickname': 'Team Stephen A', 'code': 'SAS', 'city': 'Home', 'logo': None, 'allStar': True, 'nbaFranchise': True, 'leagues': {'standard': {'conference': 'East', 'division': 'East'}}}, {'id': 38, 'name': 'Toronto Raptors', 'nickname': 'Raptors', 'code': 'TOR', 'city': 'Toronto', 'logo': 'https://upload.wikimedia.org/wikipedia/fr/8/89/Raptors2015.png', 'allStar': False, 'nbaFranchise': True, 'leagues': {'standard': {'conference': 'East', 'division': 'Atlantic'}, 'vegas': {'conference': 'summer', 'division': None}, 'utah': {'conference': 'East', 'division': 'Atlantic'}, 'sacramento': {'conference': 'East', 'division': 'Atlantic'}}}, {'id': 39, 'name': 'USA USA', 'nickname': 'USA', 'code': 'USA', 'city': 'USA', 'logo': None, 'allStar': True, 'nbaFranchise': False, 'leagues': {'standard': {'conference': 'East', 'division': 'East'}}}, {'id': 40, 'name': 'Utah Jazz', 'nickname': 'Jazz', 'code': 'UTA', 'city': 'Utah', 'logo': 'https://upload.wikimedia.org/wikipedia/fr/3/3b/Jazz_de_l%27Utah_logo.png', 'allStar': False, 'nbaFranchise': True, 'leagues': {'standard': {'conference': 'West', 'division': 'Northwest'}, 'vegas': {'conference': 'summer', 'division': None}, 'utah': {'conference': 'Utah', 'division': None}, 'sacramento': {'conference': 'West', 'division': 'Northwest'}}}, {'id': 41, 'name': 'Washington Wizards', 'nickname': 'Wizards', 'code': 'WAS', 'city': 'Washington', 'logo': 'https://upload.wikimedia.org/wikipedia/fr/archive/d/d6/20161212034849%21Wizards2015.png', 'allStar': False, 'nbaFranchise': True, 'leagues': {'standard': {'conference': 'East', 'division': 'Southeast'}, 'vegas': {'conference': 'summer', 'division': None}, 'utah': {'conference': 'East', 'division': 'Southeast'}, 'sacramento': {'conference': 'East', 'division': 'Southeast'}}}, {'id': 42, 'name': 'World World', 'nickname': 'World', 'code': 'WLD', 'city': 'World', 'logo': None, 'allStar': True, 'nbaFranchise': False, 'leagues': {'standard': {'conference': 'East', 'division': 'East'}}}, {'id': 43, 'name': 'Team Africa', 'nickname': 'Africa', 'code': 'AFR', 'city': 'Team', 'logo': None, 'allStar': False, 'nbaFranchise': False, 'leagues': {'africa': {'conference': None, 'division': None}}}, {'id': 44, 'name': 'Team World', 'nickname': 'World', 'code': 'WLD', 'city': 'Team', 'logo': None, 'allStar': False, 'nbaFranchise': False, 'leagues': {'africa': {'conference': None, 'division': None}}}, {'id': 83, 'name': '', 'nickname': 'Paschoalotto/Bauru', 'code': 'BAU', 'city': 'Bauru', 'logo': None, 'allStar': False, 'nbaFranchise': False, 'leagues': {'standard': {'conference': 'Internatio', 'division': None}}}, {'id': 84, 'name': '', 'nickname': 'Fenerbahce Sports Club', 'code': 'FEN', 'city': 'Istanbul', 'logo': None, 'allStar': False, 'nbaFranchise': False, 'leagues': {'standard': {'conference': 'Internatio', 'division': None}}}, {'id': 85, 'name': '', 'nickname': 'Olimpia Milano', 'code': 'MLN', 'city': 'Milano', 'logo': None, 'allStar': False, 'nbaFranchise': False, 'leagues': {'standard': {'conference': 'Internatio', 'division': None}}}, {'id': 86, 'name': 'Real Madrid Real Madrid', 'nickname': 'Real Madrid', 'code': 'RMD', 'city': 'Real Madrid', 'logo': None, 'allStar': False, 'nbaFranchise': False, 'leagues': {'standard': {'conference': 'Intl', 'division': None}}}, {'id': 87, 'name': 'Rio de Janeiro Flamengo', 'nickname': 'Flamengo', 'code': 'FLA', 'city': 'Rio de Janeiro', 'logo': None, 'allStar': False, 'nbaFranchise': False, 'leagues': {'standard': {'conference': 'Intl', 'division': None}}}, {'id': 88, 'name': 'Barcelona FC Barcelona', 'nickname': 'FC Barcelona', 'code': 'FCB', 'city': 'Barcelona', 'logo': None, 'allStar': False, 'nbaFranchise': False, 'leagues': {'standard': {'conference': 'Intl', 'division': None}}}, {'id': 89, 'name': 'Buenos Aires San Lorenzo', 'nickname': 'San Lorenzo', 'code': 'SLA', 'city': 'Buenos Aires', 'logo': None, 'allStar': False, 'nbaFranchise': False, 'leagues': {'standard': {'conference': 'Intl', 'division': None}}}, {'id': 90, 'name': 'Adelaide 36ers', 'nickname': '36ers', 'code': 'ADL', 'city': 'Adelaide', 'logo': None, 'allStar': False, 'nbaFranchise': False, 'leagues': {'standard': {'conference': 'Intl', 'division': None}}}, {'id': 91, 'name': 'Beijing Ducks', 'nickname': 'Ducks', 'code': 'BJD', 'city': 'Beijing', 'logo': None, 'allStar': False, 'nbaFranchise': False, 'leagues': {'standard': {'conference': 'Intl', 'division': None}}}, {'id': 92, 'name': 'New Zealand Breakers', 'nickname': 'Breakers', 'code': 'NZB', 'city': 'New Zealand', 'logo': None, 'allStar': False, 'nbaFranchise': False, 'leagues': {'standard': {'conference': 'Intl', 'division': None}}}, {'id': 93, 'name': 'Perth Wildcats', 'nickname': 'Wildcats', 'code': 'PER', 'city': 'Perth', 'logo': None, 'allStar': False, 'nbaFranchise': False, 'leagues': {'standard': {'conference': 'Intl', 'division': None}}}, {'id': 94, 'name': 'Team USA', 'nickname': 'USA', 'code': 'USA', 'city': 'Team', 'logo': None, 'allStar': False, 'nbaFranchise': False, 'leagues': {'africa': {'conference': None, 'division': None}}}, {'id': 95, 'name': 'Team World', 'nickname': 'World', 'code': 'WLD', 'city': 'Team', 'logo': None, 'allStar': False, 'nbaFranchise': False, 'leagues': {'africa': {'conference': None, 'division': None}}}, {'id': 96, 'name': 'Team China', 'nickname': 'China', 'code': 'CHN', 'city': 'China', 'logo': None, 'allStar': False, 'nbaFranchise': False, 'leagues': {'vegas': {'conference': 'summer', 'division': None}}}, {'id': 97, 'name': 'Team Croatia', 'nickname': 'Croatia', 'code': 'CRO', 'city': 'Croatia', 'logo': None, 'allStar': False, 'nbaFranchise': False, 'leagues': {'vegas': {'conference': 'summer', 'division': None}}}, {'id': 99, 'name': 'Franca Franca', 'nickname': 'Franca', 'code': 'FRA', 'city': 'Franca', 'logo': None, 'allStar': False, 'nbaFranchise': False, 'leagues': {'standard': {'conference': 'Intl', 'division': None}}}, {'id': 102, 'name': 'Utah Blue', 'nickname': 'Jazz', 'code': 'UTB', 'city': 'Utah', 'logo': None, 'allStar': False, 'nbaFranchise': False, 'leagues': {'vegas': {'conference': 'West', 'division': 'Northwest'}, 'standard': {'conference': 'West', 'division': 'Northwest'}, 'utah': {'conference': 'West', 'division': 'Northwest'}, 'sacramento': {'conference': 'West', 'division': 'Northwest'}}}, {'id': 103, 'name': 'Utah White', 'nickname': 'Jazz', 'code': 'UTW', 'city': 'Utah', 'logo': None, 'allStar': False, 'nbaFranchise': False, 'leagues': {'vegas': {'conference': 'West', 'division': 'Northwest'}, 'standard': {'conference': 'West', 'division': 'Northwest'}, 'utah': {'conference': 'West', 'division': 'Northwest'}, 'sacramento': {'conference': 'West', 'division': 'Northwest'}}}, {'id': 165, 'name': \"Ra'anana Maccabi Ra'anana\", 'nickname': \"Maccabi Ra'anana\", 'code': 'MRA', 'city': \"Ra'anana\", 'logo': None, 'allStar': False, 'nbaFranchise': False, 'leagues': {'standard': {'conference': 'Intl', 'division': None}}}, {'id': 166, 'name': 'Cairns Taipans', 'nickname': 'Taipans', 'code': 'CNS', 'city': None, 'logo': None, 'allStar': False, 'nbaFranchise': False, 'leagues': {'standard': {'conference': 'Intl', 'division': None}}}, {'id': 168, 'name': 'New Zealand Breakers', 'nickname': 'Breakers', 'code': 'BNZ', 'city': 'Auckland', 'logo': None, 'allStar': False, 'nbaFranchise': False, 'leagues': {'standard': {'conference': None, 'division': None}}}, {'id': 169, 'name': 'Flamengo', 'nickname': 'Flamengo', 'code': '', 'city': None, 'logo': None, 'allStar': False, 'nbaFranchise': False, 'leagues': {'standard': {'conference': None, 'division': None}}}]\n"
     ]
    }
   ],
   "source": [
    "headers = {\n",
    "\t\"X-RapidAPI-Key\": sports_data_api_key,\n",
    "\t\"X-RapidAPI-Host\": \"api-nba-v1.p.rapidapi.com\"\n",
    "}\n",
    "\n",
    "teams = requests.get(uri+'/teams', headers=headers).json()['response']\n",
    "\n",
    "print(teams)"
   ]
  },
  {
   "cell_type": "code",
   "execution_count": 19,
   "metadata": {},
   "outputs": [
    {
     "name": "stdout",
     "output_type": "stream",
     "text": [
      "Boston Celtics\n",
      "Cleveland Cavaliers\n",
      "Dallas Mavericks\n",
      "Denver Nuggets\n",
      "Indiana Pacers\n",
      "Minnesota Timberwolves\n",
      "New York Knicks\n",
      "Oklahoma City Thunder\n",
      "8 8\n"
     ]
    }
   ],
   "source": [
    "team_names = ['Oklahoma City Thunder', 'Dallas Mavericks', 'Minnesota Timberwolves', 'Denver Nuggets', 'Boston Celtics', 'Cleveland Cavaliers', 'Indiana Pacers', 'New York Knicks']\n",
    "final_teams = []\n",
    "\n",
    "for team in teams:\n",
    "    if team['name'] in team_names:\n",
    "        print(team['name'])\n",
    "        final_teams.append(team)\n",
    "\n",
    "print(len(final_teams), len(team_names))\n",
    "\n"
   ]
  },
  {
   "cell_type": "code",
   "execution_count": 31,
   "metadata": {},
   "outputs": [],
   "source": [
    "pd.json_normalize(final_teams, max_level=0).to_csv('Resources/All Teams.csv', index=False)"
   ]
  },
  {
   "cell_type": "code",
   "execution_count": 32,
   "metadata": {},
   "outputs": [
    {
     "data": {
      "text/html": [
       "<div>\n",
       "<style scoped>\n",
       "    .dataframe tbody tr th:only-of-type {\n",
       "        vertical-align: middle;\n",
       "    }\n",
       "\n",
       "    .dataframe tbody tr th {\n",
       "        vertical-align: top;\n",
       "    }\n",
       "\n",
       "    .dataframe thead th {\n",
       "        text-align: right;\n",
       "    }\n",
       "</style>\n",
       "<table border=\"1\" class=\"dataframe\">\n",
       "  <thead>\n",
       "    <tr style=\"text-align: right;\">\n",
       "      <th></th>\n",
       "      <th>id</th>\n",
       "      <th>name</th>\n",
       "      <th>nickname</th>\n",
       "      <th>code</th>\n",
       "      <th>city</th>\n",
       "      <th>logo</th>\n",
       "      <th>allStar</th>\n",
       "      <th>nbaFranchise</th>\n",
       "      <th>leagues</th>\n",
       "    </tr>\n",
       "  </thead>\n",
       "  <tbody>\n",
       "    <tr>\n",
       "      <th>0</th>\n",
       "      <td>2</td>\n",
       "      <td>Boston Celtics</td>\n",
       "      <td>Celtics</td>\n",
       "      <td>BOS</td>\n",
       "      <td>Boston</td>\n",
       "      <td>https://upload.wikimedia.org/wikipedia/fr/thum...</td>\n",
       "      <td>False</td>\n",
       "      <td>True</td>\n",
       "      <td>{'standard': {'conference': 'East', 'division'...</td>\n",
       "    </tr>\n",
       "    <tr>\n",
       "      <th>1</th>\n",
       "      <td>7</td>\n",
       "      <td>Cleveland Cavaliers</td>\n",
       "      <td>Cavaliers</td>\n",
       "      <td>CLE</td>\n",
       "      <td>Cleveland</td>\n",
       "      <td>https://upload.wikimedia.org/wikipedia/fr/thum...</td>\n",
       "      <td>False</td>\n",
       "      <td>True</td>\n",
       "      <td>{'standard': {'conference': 'East', 'division'...</td>\n",
       "    </tr>\n",
       "    <tr>\n",
       "      <th>2</th>\n",
       "      <td>8</td>\n",
       "      <td>Dallas Mavericks</td>\n",
       "      <td>Mavericks</td>\n",
       "      <td>DAL</td>\n",
       "      <td>Dallas</td>\n",
       "      <td>https://upload.wikimedia.org/wikipedia/fr/thum...</td>\n",
       "      <td>False</td>\n",
       "      <td>True</td>\n",
       "      <td>{'standard': {'conference': 'West', 'division'...</td>\n",
       "    </tr>\n",
       "    <tr>\n",
       "      <th>3</th>\n",
       "      <td>9</td>\n",
       "      <td>Denver Nuggets</td>\n",
       "      <td>Nuggets</td>\n",
       "      <td>DEN</td>\n",
       "      <td>Denver</td>\n",
       "      <td>https://upload.wikimedia.org/wikipedia/fr/thum...</td>\n",
       "      <td>False</td>\n",
       "      <td>True</td>\n",
       "      <td>{'standard': {'conference': 'West', 'division'...</td>\n",
       "    </tr>\n",
       "    <tr>\n",
       "      <th>4</th>\n",
       "      <td>15</td>\n",
       "      <td>Indiana Pacers</td>\n",
       "      <td>Pacers</td>\n",
       "      <td>IND</td>\n",
       "      <td>Indiana</td>\n",
       "      <td>https://upload.wikimedia.org/wikipedia/fr/thum...</td>\n",
       "      <td>False</td>\n",
       "      <td>True</td>\n",
       "      <td>{'standard': {'conference': 'East', 'division'...</td>\n",
       "    </tr>\n",
       "  </tbody>\n",
       "</table>\n",
       "</div>"
      ],
      "text/plain": [
       "   id                 name   nickname code       city  \\\n",
       "0   2       Boston Celtics    Celtics  BOS     Boston   \n",
       "1   7  Cleveland Cavaliers  Cavaliers  CLE  Cleveland   \n",
       "2   8     Dallas Mavericks  Mavericks  DAL     Dallas   \n",
       "3   9       Denver Nuggets    Nuggets  DEN     Denver   \n",
       "4  15       Indiana Pacers     Pacers  IND    Indiana   \n",
       "\n",
       "                                                logo  allStar  nbaFranchise  \\\n",
       "0  https://upload.wikimedia.org/wikipedia/fr/thum...    False          True   \n",
       "1  https://upload.wikimedia.org/wikipedia/fr/thum...    False          True   \n",
       "2  https://upload.wikimedia.org/wikipedia/fr/thum...    False          True   \n",
       "3  https://upload.wikimedia.org/wikipedia/fr/thum...    False          True   \n",
       "4  https://upload.wikimedia.org/wikipedia/fr/thum...    False          True   \n",
       "\n",
       "                                             leagues  \n",
       "0  {'standard': {'conference': 'East', 'division'...  \n",
       "1  {'standard': {'conference': 'East', 'division'...  \n",
       "2  {'standard': {'conference': 'West', 'division'...  \n",
       "3  {'standard': {'conference': 'West', 'division'...  \n",
       "4  {'standard': {'conference': 'East', 'division'...  "
      ]
     },
     "execution_count": 32,
     "metadata": {},
     "output_type": "execute_result"
    }
   ],
   "source": [
    "# test the new CSV as a DF\n",
    "\n",
    "df_teams = pd.read_csv('Resources/All Teams.csv')\n",
    "df_teams.head()"
   ]
  },
  {
   "cell_type": "code",
   "execution_count": 34,
   "metadata": {},
   "outputs": [
    {
     "name": "stdout",
     "output_type": "stream",
     "text": [
      "{'get': 'players/', 'parameters': {'team': '2', 'season': 'get'}, 'errors': {'season': 'The Season field must contain an integer.'}, 'results': 0, 'response': []}\n",
      "{'get': 'players/', 'parameters': {'team': '7', 'season': 'get'}, 'errors': {'season': 'The Season field must contain an integer.'}, 'results': 0, 'response': []}\n",
      "{'get': 'players/', 'parameters': {'team': '8', 'season': 'get'}, 'errors': {'season': 'The Season field must contain an integer.'}, 'results': 0, 'response': []}\n",
      "{'get': 'players/', 'parameters': {'team': '9', 'season': 'get'}, 'errors': {'season': 'The Season field must contain an integer.'}, 'results': 0, 'response': []}\n",
      "{'get': 'players/', 'parameters': {'team': '15', 'season': 'get'}, 'errors': {'season': 'The Season field must contain an integer.'}, 'results': 0, 'response': []}\n"
     ]
    },
    {
     "ename": "KeyboardInterrupt",
     "evalue": "",
     "output_type": "error",
     "traceback": [
      "\u001b[1;31m---------------------------------------------------------------------------\u001b[0m",
      "\u001b[1;31mKeyboardInterrupt\u001b[0m                         Traceback (most recent call last)",
      "Cell \u001b[1;32mIn[34], line 15\u001b[0m\n\u001b[0;32m     13\u001b[0m \u001b[38;5;28;01mfor\u001b[39;00m team_id \u001b[38;5;129;01min\u001b[39;00m df_teams[\u001b[38;5;124m'\u001b[39m\u001b[38;5;124mid\u001b[39m\u001b[38;5;124m'\u001b[39m]:\n\u001b[0;32m     14\u001b[0m     \u001b[38;5;28;01mfor\u001b[39;00m season \u001b[38;5;129;01min\u001b[39;00m seasons:    \n\u001b[1;32m---> 15\u001b[0m         players \u001b[38;5;241m=\u001b[39m \u001b[43mget_players\u001b[49m\u001b[43m(\u001b[49m\u001b[43mteam_id\u001b[49m\u001b[43m,\u001b[49m\u001b[43m \u001b[49m\u001b[43mseason\u001b[49m\u001b[43m)\u001b[49m\n\u001b[0;32m     16\u001b[0m         \u001b[38;5;28mprint\u001b[39m(players)\n\u001b[0;32m     17\u001b[0m         \u001b[38;5;28;01mbreak\u001b[39;00m\n",
      "Cell \u001b[1;32mIn[34], line 8\u001b[0m, in \u001b[0;36mget_players\u001b[1;34m(team_id, season)\u001b[0m\n\u001b[0;32m      7\u001b[0m \u001b[38;5;28;01mdef\u001b[39;00m \u001b[38;5;21mget_players\u001b[39m(team_id, season):\n\u001b[1;32m----> 8\u001b[0m     \u001b[38;5;28;01mreturn\u001b[39;00m \u001b[43mrequests\u001b[49m\u001b[38;5;241;43m.\u001b[39;49m\u001b[43mget\u001b[49m\u001b[43m(\u001b[49m\u001b[43muri\u001b[49m\u001b[38;5;241;43m+\u001b[39;49m\u001b[38;5;124;43m'\u001b[39;49m\u001b[38;5;124;43m/players\u001b[39;49m\u001b[38;5;124;43m'\u001b[39;49m\u001b[43m,\u001b[49m\u001b[43m \u001b[49m\u001b[43mheaders\u001b[49m\u001b[38;5;241;43m=\u001b[39;49m\u001b[43mheaders\u001b[49m\u001b[43m,\u001b[49m\u001b[43m \u001b[49m\u001b[43mparams\u001b[49m\u001b[38;5;241;43m=\u001b[39;49m\u001b[43m{\u001b[49m\u001b[38;5;124;43m\"\u001b[39;49m\u001b[38;5;124;43mteam\u001b[39;49m\u001b[38;5;124;43m\"\u001b[39;49m\u001b[43m:\u001b[49m\u001b[43mteam_id\u001b[49m\u001b[43m,\u001b[49m\u001b[43m \u001b[49m\u001b[38;5;124;43m\"\u001b[39;49m\u001b[38;5;124;43mseason\u001b[39;49m\u001b[38;5;124;43m\"\u001b[39;49m\u001b[43m:\u001b[49m\u001b[43mseason\u001b[49m\u001b[43m}\u001b[49m\u001b[43m)\u001b[49m\u001b[38;5;241m.\u001b[39mjson()\n",
      "File \u001b[1;32mc:\\Users\\Jake\\anaconda3\\envs\\dev\\lib\\site-packages\\requests\\api.py:73\u001b[0m, in \u001b[0;36mget\u001b[1;34m(url, params, **kwargs)\u001b[0m\n\u001b[0;32m     62\u001b[0m \u001b[38;5;28;01mdef\u001b[39;00m \u001b[38;5;21mget\u001b[39m(url, params\u001b[38;5;241m=\u001b[39m\u001b[38;5;28;01mNone\u001b[39;00m, \u001b[38;5;241m*\u001b[39m\u001b[38;5;241m*\u001b[39mkwargs):\n\u001b[0;32m     63\u001b[0m \u001b[38;5;250m    \u001b[39m\u001b[38;5;124mr\u001b[39m\u001b[38;5;124;03m\"\"\"Sends a GET request.\u001b[39;00m\n\u001b[0;32m     64\u001b[0m \n\u001b[0;32m     65\u001b[0m \u001b[38;5;124;03m    :param url: URL for the new :class:`Request` object.\u001b[39;00m\n\u001b[1;32m   (...)\u001b[0m\n\u001b[0;32m     70\u001b[0m \u001b[38;5;124;03m    :rtype: requests.Response\u001b[39;00m\n\u001b[0;32m     71\u001b[0m \u001b[38;5;124;03m    \"\"\"\u001b[39;00m\n\u001b[1;32m---> 73\u001b[0m     \u001b[38;5;28;01mreturn\u001b[39;00m request(\u001b[38;5;124m\"\u001b[39m\u001b[38;5;124mget\u001b[39m\u001b[38;5;124m\"\u001b[39m, url, params\u001b[38;5;241m=\u001b[39mparams, \u001b[38;5;241m*\u001b[39m\u001b[38;5;241m*\u001b[39mkwargs)\n",
      "File \u001b[1;32mc:\\Users\\Jake\\anaconda3\\envs\\dev\\lib\\site-packages\\requests\\api.py:59\u001b[0m, in \u001b[0;36mrequest\u001b[1;34m(method, url, **kwargs)\u001b[0m\n\u001b[0;32m     55\u001b[0m \u001b[38;5;66;03m# By using the 'with' statement we are sure the session is closed, thus we\u001b[39;00m\n\u001b[0;32m     56\u001b[0m \u001b[38;5;66;03m# avoid leaving sockets open which can trigger a ResourceWarning in some\u001b[39;00m\n\u001b[0;32m     57\u001b[0m \u001b[38;5;66;03m# cases, and look like a memory leak in others.\u001b[39;00m\n\u001b[0;32m     58\u001b[0m \u001b[38;5;28;01mwith\u001b[39;00m sessions\u001b[38;5;241m.\u001b[39mSession() \u001b[38;5;28;01mas\u001b[39;00m session:\n\u001b[1;32m---> 59\u001b[0m     \u001b[38;5;28;01mreturn\u001b[39;00m session\u001b[38;5;241m.\u001b[39mrequest(method\u001b[38;5;241m=\u001b[39mmethod, url\u001b[38;5;241m=\u001b[39murl, \u001b[38;5;241m*\u001b[39m\u001b[38;5;241m*\u001b[39mkwargs)\n",
      "File \u001b[1;32mc:\\Users\\Jake\\anaconda3\\envs\\dev\\lib\\site-packages\\requests\\sessions.py:589\u001b[0m, in \u001b[0;36mSession.request\u001b[1;34m(self, method, url, params, data, headers, cookies, files, auth, timeout, allow_redirects, proxies, hooks, stream, verify, cert, json)\u001b[0m\n\u001b[0;32m    584\u001b[0m send_kwargs \u001b[38;5;241m=\u001b[39m {\n\u001b[0;32m    585\u001b[0m     \u001b[38;5;124m\"\u001b[39m\u001b[38;5;124mtimeout\u001b[39m\u001b[38;5;124m\"\u001b[39m: timeout,\n\u001b[0;32m    586\u001b[0m     \u001b[38;5;124m\"\u001b[39m\u001b[38;5;124mallow_redirects\u001b[39m\u001b[38;5;124m\"\u001b[39m: allow_redirects,\n\u001b[0;32m    587\u001b[0m }\n\u001b[0;32m    588\u001b[0m send_kwargs\u001b[38;5;241m.\u001b[39mupdate(settings)\n\u001b[1;32m--> 589\u001b[0m resp \u001b[38;5;241m=\u001b[39m \u001b[38;5;28mself\u001b[39m\u001b[38;5;241m.\u001b[39msend(prep, \u001b[38;5;241m*\u001b[39m\u001b[38;5;241m*\u001b[39msend_kwargs)\n\u001b[0;32m    591\u001b[0m \u001b[38;5;28;01mreturn\u001b[39;00m resp\n",
      "File \u001b[1;32mc:\\Users\\Jake\\anaconda3\\envs\\dev\\lib\\site-packages\\requests\\sessions.py:703\u001b[0m, in \u001b[0;36mSession.send\u001b[1;34m(self, request, **kwargs)\u001b[0m\n\u001b[0;32m    700\u001b[0m start \u001b[38;5;241m=\u001b[39m preferred_clock()\n\u001b[0;32m    702\u001b[0m \u001b[38;5;66;03m# Send the request\u001b[39;00m\n\u001b[1;32m--> 703\u001b[0m r \u001b[38;5;241m=\u001b[39m adapter\u001b[38;5;241m.\u001b[39msend(request, \u001b[38;5;241m*\u001b[39m\u001b[38;5;241m*\u001b[39mkwargs)\n\u001b[0;32m    705\u001b[0m \u001b[38;5;66;03m# Total elapsed time of the request (approximately)\u001b[39;00m\n\u001b[0;32m    706\u001b[0m elapsed \u001b[38;5;241m=\u001b[39m preferred_clock() \u001b[38;5;241m-\u001b[39m start\n",
      "File \u001b[1;32mc:\\Users\\Jake\\anaconda3\\envs\\dev\\lib\\site-packages\\requests\\adapters.py:486\u001b[0m, in \u001b[0;36mHTTPAdapter.send\u001b[1;34m(self, request, stream, timeout, verify, cert, proxies)\u001b[0m\n\u001b[0;32m    483\u001b[0m     timeout \u001b[38;5;241m=\u001b[39m TimeoutSauce(connect\u001b[38;5;241m=\u001b[39mtimeout, read\u001b[38;5;241m=\u001b[39mtimeout)\n\u001b[0;32m    485\u001b[0m \u001b[38;5;28;01mtry\u001b[39;00m:\n\u001b[1;32m--> 486\u001b[0m     resp \u001b[38;5;241m=\u001b[39m \u001b[43mconn\u001b[49m\u001b[38;5;241;43m.\u001b[39;49m\u001b[43murlopen\u001b[49m\u001b[43m(\u001b[49m\n\u001b[0;32m    487\u001b[0m \u001b[43m        \u001b[49m\u001b[43mmethod\u001b[49m\u001b[38;5;241;43m=\u001b[39;49m\u001b[43mrequest\u001b[49m\u001b[38;5;241;43m.\u001b[39;49m\u001b[43mmethod\u001b[49m\u001b[43m,\u001b[49m\n\u001b[0;32m    488\u001b[0m \u001b[43m        \u001b[49m\u001b[43murl\u001b[49m\u001b[38;5;241;43m=\u001b[39;49m\u001b[43murl\u001b[49m\u001b[43m,\u001b[49m\n\u001b[0;32m    489\u001b[0m \u001b[43m        \u001b[49m\u001b[43mbody\u001b[49m\u001b[38;5;241;43m=\u001b[39;49m\u001b[43mrequest\u001b[49m\u001b[38;5;241;43m.\u001b[39;49m\u001b[43mbody\u001b[49m\u001b[43m,\u001b[49m\n\u001b[0;32m    490\u001b[0m \u001b[43m        \u001b[49m\u001b[43mheaders\u001b[49m\u001b[38;5;241;43m=\u001b[39;49m\u001b[43mrequest\u001b[49m\u001b[38;5;241;43m.\u001b[39;49m\u001b[43mheaders\u001b[49m\u001b[43m,\u001b[49m\n\u001b[0;32m    491\u001b[0m \u001b[43m        \u001b[49m\u001b[43mredirect\u001b[49m\u001b[38;5;241;43m=\u001b[39;49m\u001b[38;5;28;43;01mFalse\u001b[39;49;00m\u001b[43m,\u001b[49m\n\u001b[0;32m    492\u001b[0m \u001b[43m        \u001b[49m\u001b[43massert_same_host\u001b[49m\u001b[38;5;241;43m=\u001b[39;49m\u001b[38;5;28;43;01mFalse\u001b[39;49;00m\u001b[43m,\u001b[49m\n\u001b[0;32m    493\u001b[0m \u001b[43m        \u001b[49m\u001b[43mpreload_content\u001b[49m\u001b[38;5;241;43m=\u001b[39;49m\u001b[38;5;28;43;01mFalse\u001b[39;49;00m\u001b[43m,\u001b[49m\n\u001b[0;32m    494\u001b[0m \u001b[43m        \u001b[49m\u001b[43mdecode_content\u001b[49m\u001b[38;5;241;43m=\u001b[39;49m\u001b[38;5;28;43;01mFalse\u001b[39;49;00m\u001b[43m,\u001b[49m\n\u001b[0;32m    495\u001b[0m \u001b[43m        \u001b[49m\u001b[43mretries\u001b[49m\u001b[38;5;241;43m=\u001b[39;49m\u001b[38;5;28;43mself\u001b[39;49m\u001b[38;5;241;43m.\u001b[39;49m\u001b[43mmax_retries\u001b[49m\u001b[43m,\u001b[49m\n\u001b[0;32m    496\u001b[0m \u001b[43m        \u001b[49m\u001b[43mtimeout\u001b[49m\u001b[38;5;241;43m=\u001b[39;49m\u001b[43mtimeout\u001b[49m\u001b[43m,\u001b[49m\n\u001b[0;32m    497\u001b[0m \u001b[43m        \u001b[49m\u001b[43mchunked\u001b[49m\u001b[38;5;241;43m=\u001b[39;49m\u001b[43mchunked\u001b[49m\u001b[43m,\u001b[49m\n\u001b[0;32m    498\u001b[0m \u001b[43m    \u001b[49m\u001b[43m)\u001b[49m\n\u001b[0;32m    500\u001b[0m \u001b[38;5;28;01mexcept\u001b[39;00m (ProtocolError, \u001b[38;5;167;01mOSError\u001b[39;00m) \u001b[38;5;28;01mas\u001b[39;00m err:\n\u001b[0;32m    501\u001b[0m     \u001b[38;5;28;01mraise\u001b[39;00m \u001b[38;5;167;01mConnectionError\u001b[39;00m(err, request\u001b[38;5;241m=\u001b[39mrequest)\n",
      "File \u001b[1;32mc:\\Users\\Jake\\anaconda3\\envs\\dev\\lib\\site-packages\\urllib3\\connectionpool.py:791\u001b[0m, in \u001b[0;36mHTTPConnectionPool.urlopen\u001b[1;34m(self, method, url, body, headers, retries, redirect, assert_same_host, timeout, pool_timeout, release_conn, chunked, body_pos, preload_content, decode_content, **response_kw)\u001b[0m\n\u001b[0;32m    788\u001b[0m response_conn \u001b[38;5;241m=\u001b[39m conn \u001b[38;5;28;01mif\u001b[39;00m \u001b[38;5;129;01mnot\u001b[39;00m release_conn \u001b[38;5;28;01melse\u001b[39;00m \u001b[38;5;28;01mNone\u001b[39;00m\n\u001b[0;32m    790\u001b[0m \u001b[38;5;66;03m# Make the request on the HTTPConnection object\u001b[39;00m\n\u001b[1;32m--> 791\u001b[0m response \u001b[38;5;241m=\u001b[39m \u001b[38;5;28mself\u001b[39m\u001b[38;5;241m.\u001b[39m_make_request(\n\u001b[0;32m    792\u001b[0m     conn,\n\u001b[0;32m    793\u001b[0m     method,\n\u001b[0;32m    794\u001b[0m     url,\n\u001b[0;32m    795\u001b[0m     timeout\u001b[38;5;241m=\u001b[39mtimeout_obj,\n\u001b[0;32m    796\u001b[0m     body\u001b[38;5;241m=\u001b[39mbody,\n\u001b[0;32m    797\u001b[0m     headers\u001b[38;5;241m=\u001b[39mheaders,\n\u001b[0;32m    798\u001b[0m     chunked\u001b[38;5;241m=\u001b[39mchunked,\n\u001b[0;32m    799\u001b[0m     retries\u001b[38;5;241m=\u001b[39mretries,\n\u001b[0;32m    800\u001b[0m     response_conn\u001b[38;5;241m=\u001b[39mresponse_conn,\n\u001b[0;32m    801\u001b[0m     preload_content\u001b[38;5;241m=\u001b[39mpreload_content,\n\u001b[0;32m    802\u001b[0m     decode_content\u001b[38;5;241m=\u001b[39mdecode_content,\n\u001b[0;32m    803\u001b[0m     \u001b[38;5;241m*\u001b[39m\u001b[38;5;241m*\u001b[39mresponse_kw,\n\u001b[0;32m    804\u001b[0m )\n\u001b[0;32m    806\u001b[0m \u001b[38;5;66;03m# Everything went great!\u001b[39;00m\n\u001b[0;32m    807\u001b[0m clean_exit \u001b[38;5;241m=\u001b[39m \u001b[38;5;28;01mTrue\u001b[39;00m\n",
      "File \u001b[1;32mc:\\Users\\Jake\\anaconda3\\envs\\dev\\lib\\site-packages\\urllib3\\connectionpool.py:537\u001b[0m, in \u001b[0;36mHTTPConnectionPool._make_request\u001b[1;34m(self, conn, method, url, body, headers, retries, timeout, chunked, response_conn, preload_content, decode_content, enforce_content_length)\u001b[0m\n\u001b[0;32m    535\u001b[0m \u001b[38;5;66;03m# Receive the response from the server\u001b[39;00m\n\u001b[0;32m    536\u001b[0m \u001b[38;5;28;01mtry\u001b[39;00m:\n\u001b[1;32m--> 537\u001b[0m     response \u001b[38;5;241m=\u001b[39m \u001b[43mconn\u001b[49m\u001b[38;5;241;43m.\u001b[39;49m\u001b[43mgetresponse\u001b[49m\u001b[43m(\u001b[49m\u001b[43m)\u001b[49m\n\u001b[0;32m    538\u001b[0m \u001b[38;5;28;01mexcept\u001b[39;00m (BaseSSLError, \u001b[38;5;167;01mOSError\u001b[39;00m) \u001b[38;5;28;01mas\u001b[39;00m e:\n\u001b[0;32m    539\u001b[0m     \u001b[38;5;28mself\u001b[39m\u001b[38;5;241m.\u001b[39m_raise_timeout(err\u001b[38;5;241m=\u001b[39me, url\u001b[38;5;241m=\u001b[39murl, timeout_value\u001b[38;5;241m=\u001b[39mread_timeout)\n",
      "File \u001b[1;32mc:\\Users\\Jake\\anaconda3\\envs\\dev\\lib\\site-packages\\urllib3\\connection.py:461\u001b[0m, in \u001b[0;36mHTTPConnection.getresponse\u001b[1;34m(self)\u001b[0m\n\u001b[0;32m    458\u001b[0m \u001b[38;5;28;01mfrom\u001b[39;00m \u001b[38;5;21;01m.\u001b[39;00m\u001b[38;5;21;01mresponse\u001b[39;00m \u001b[38;5;28;01mimport\u001b[39;00m HTTPResponse\n\u001b[0;32m    460\u001b[0m \u001b[38;5;66;03m# Get the response from http.client.HTTPConnection\u001b[39;00m\n\u001b[1;32m--> 461\u001b[0m httplib_response \u001b[38;5;241m=\u001b[39m \u001b[38;5;28;43msuper\u001b[39;49m\u001b[43m(\u001b[49m\u001b[43m)\u001b[49m\u001b[38;5;241;43m.\u001b[39;49m\u001b[43mgetresponse\u001b[49m\u001b[43m(\u001b[49m\u001b[43m)\u001b[49m\n\u001b[0;32m    463\u001b[0m \u001b[38;5;28;01mtry\u001b[39;00m:\n\u001b[0;32m    464\u001b[0m     assert_header_parsing(httplib_response\u001b[38;5;241m.\u001b[39mmsg)\n",
      "File \u001b[1;32mc:\\Users\\Jake\\anaconda3\\envs\\dev\\lib\\http\\client.py:1375\u001b[0m, in \u001b[0;36mHTTPConnection.getresponse\u001b[1;34m(self)\u001b[0m\n\u001b[0;32m   1373\u001b[0m \u001b[38;5;28;01mtry\u001b[39;00m:\n\u001b[0;32m   1374\u001b[0m     \u001b[38;5;28;01mtry\u001b[39;00m:\n\u001b[1;32m-> 1375\u001b[0m         \u001b[43mresponse\u001b[49m\u001b[38;5;241;43m.\u001b[39;49m\u001b[43mbegin\u001b[49m\u001b[43m(\u001b[49m\u001b[43m)\u001b[49m\n\u001b[0;32m   1376\u001b[0m     \u001b[38;5;28;01mexcept\u001b[39;00m \u001b[38;5;167;01mConnectionError\u001b[39;00m:\n\u001b[0;32m   1377\u001b[0m         \u001b[38;5;28mself\u001b[39m\u001b[38;5;241m.\u001b[39mclose()\n",
      "File \u001b[1;32mc:\\Users\\Jake\\anaconda3\\envs\\dev\\lib\\http\\client.py:318\u001b[0m, in \u001b[0;36mHTTPResponse.begin\u001b[1;34m(self)\u001b[0m\n\u001b[0;32m    316\u001b[0m \u001b[38;5;66;03m# read until we get a non-100 response\u001b[39;00m\n\u001b[0;32m    317\u001b[0m \u001b[38;5;28;01mwhile\u001b[39;00m \u001b[38;5;28;01mTrue\u001b[39;00m:\n\u001b[1;32m--> 318\u001b[0m     version, status, reason \u001b[38;5;241m=\u001b[39m \u001b[38;5;28;43mself\u001b[39;49m\u001b[38;5;241;43m.\u001b[39;49m\u001b[43m_read_status\u001b[49m\u001b[43m(\u001b[49m\u001b[43m)\u001b[49m\n\u001b[0;32m    319\u001b[0m     \u001b[38;5;28;01mif\u001b[39;00m status \u001b[38;5;241m!=\u001b[39m CONTINUE:\n\u001b[0;32m    320\u001b[0m         \u001b[38;5;28;01mbreak\u001b[39;00m\n",
      "File \u001b[1;32mc:\\Users\\Jake\\anaconda3\\envs\\dev\\lib\\http\\client.py:279\u001b[0m, in \u001b[0;36mHTTPResponse._read_status\u001b[1;34m(self)\u001b[0m\n\u001b[0;32m    278\u001b[0m \u001b[38;5;28;01mdef\u001b[39;00m \u001b[38;5;21m_read_status\u001b[39m(\u001b[38;5;28mself\u001b[39m):\n\u001b[1;32m--> 279\u001b[0m     line \u001b[38;5;241m=\u001b[39m \u001b[38;5;28mstr\u001b[39m(\u001b[38;5;28;43mself\u001b[39;49m\u001b[38;5;241;43m.\u001b[39;49m\u001b[43mfp\u001b[49m\u001b[38;5;241;43m.\u001b[39;49m\u001b[43mreadline\u001b[49m\u001b[43m(\u001b[49m\u001b[43m_MAXLINE\u001b[49m\u001b[43m \u001b[49m\u001b[38;5;241;43m+\u001b[39;49m\u001b[43m \u001b[49m\u001b[38;5;241;43m1\u001b[39;49m\u001b[43m)\u001b[49m, \u001b[38;5;124m\"\u001b[39m\u001b[38;5;124miso-8859-1\u001b[39m\u001b[38;5;124m\"\u001b[39m)\n\u001b[0;32m    280\u001b[0m     \u001b[38;5;28;01mif\u001b[39;00m \u001b[38;5;28mlen\u001b[39m(line) \u001b[38;5;241m>\u001b[39m _MAXLINE:\n\u001b[0;32m    281\u001b[0m         \u001b[38;5;28;01mraise\u001b[39;00m LineTooLong(\u001b[38;5;124m\"\u001b[39m\u001b[38;5;124mstatus line\u001b[39m\u001b[38;5;124m\"\u001b[39m)\n",
      "File \u001b[1;32mc:\\Users\\Jake\\anaconda3\\envs\\dev\\lib\\socket.py:705\u001b[0m, in \u001b[0;36mSocketIO.readinto\u001b[1;34m(self, b)\u001b[0m\n\u001b[0;32m    703\u001b[0m \u001b[38;5;28;01mwhile\u001b[39;00m \u001b[38;5;28;01mTrue\u001b[39;00m:\n\u001b[0;32m    704\u001b[0m     \u001b[38;5;28;01mtry\u001b[39;00m:\n\u001b[1;32m--> 705\u001b[0m         \u001b[38;5;28;01mreturn\u001b[39;00m \u001b[38;5;28;43mself\u001b[39;49m\u001b[38;5;241;43m.\u001b[39;49m\u001b[43m_sock\u001b[49m\u001b[38;5;241;43m.\u001b[39;49m\u001b[43mrecv_into\u001b[49m\u001b[43m(\u001b[49m\u001b[43mb\u001b[49m\u001b[43m)\u001b[49m\n\u001b[0;32m    706\u001b[0m     \u001b[38;5;28;01mexcept\u001b[39;00m timeout:\n\u001b[0;32m    707\u001b[0m         \u001b[38;5;28mself\u001b[39m\u001b[38;5;241m.\u001b[39m_timeout_occurred \u001b[38;5;241m=\u001b[39m \u001b[38;5;28;01mTrue\u001b[39;00m\n",
      "File \u001b[1;32mc:\\Users\\Jake\\anaconda3\\envs\\dev\\lib\\ssl.py:1307\u001b[0m, in \u001b[0;36mSSLSocket.recv_into\u001b[1;34m(self, buffer, nbytes, flags)\u001b[0m\n\u001b[0;32m   1303\u001b[0m     \u001b[38;5;28;01mif\u001b[39;00m flags \u001b[38;5;241m!=\u001b[39m \u001b[38;5;241m0\u001b[39m:\n\u001b[0;32m   1304\u001b[0m         \u001b[38;5;28;01mraise\u001b[39;00m \u001b[38;5;167;01mValueError\u001b[39;00m(\n\u001b[0;32m   1305\u001b[0m           \u001b[38;5;124m\"\u001b[39m\u001b[38;5;124mnon-zero flags not allowed in calls to recv_into() on \u001b[39m\u001b[38;5;132;01m%s\u001b[39;00m\u001b[38;5;124m\"\u001b[39m \u001b[38;5;241m%\u001b[39m\n\u001b[0;32m   1306\u001b[0m           \u001b[38;5;28mself\u001b[39m\u001b[38;5;241m.\u001b[39m\u001b[38;5;18m__class__\u001b[39m)\n\u001b[1;32m-> 1307\u001b[0m     \u001b[38;5;28;01mreturn\u001b[39;00m \u001b[38;5;28;43mself\u001b[39;49m\u001b[38;5;241;43m.\u001b[39;49m\u001b[43mread\u001b[49m\u001b[43m(\u001b[49m\u001b[43mnbytes\u001b[49m\u001b[43m,\u001b[49m\u001b[43m \u001b[49m\u001b[43mbuffer\u001b[49m\u001b[43m)\u001b[49m\n\u001b[0;32m   1308\u001b[0m \u001b[38;5;28;01melse\u001b[39;00m:\n\u001b[0;32m   1309\u001b[0m     \u001b[38;5;28;01mreturn\u001b[39;00m \u001b[38;5;28msuper\u001b[39m()\u001b[38;5;241m.\u001b[39mrecv_into(buffer, nbytes, flags)\n",
      "File \u001b[1;32mc:\\Users\\Jake\\anaconda3\\envs\\dev\\lib\\ssl.py:1163\u001b[0m, in \u001b[0;36mSSLSocket.read\u001b[1;34m(self, len, buffer)\u001b[0m\n\u001b[0;32m   1161\u001b[0m \u001b[38;5;28;01mtry\u001b[39;00m:\n\u001b[0;32m   1162\u001b[0m     \u001b[38;5;28;01mif\u001b[39;00m buffer \u001b[38;5;129;01mis\u001b[39;00m \u001b[38;5;129;01mnot\u001b[39;00m \u001b[38;5;28;01mNone\u001b[39;00m:\n\u001b[1;32m-> 1163\u001b[0m         \u001b[38;5;28;01mreturn\u001b[39;00m \u001b[38;5;28;43mself\u001b[39;49m\u001b[38;5;241;43m.\u001b[39;49m\u001b[43m_sslobj\u001b[49m\u001b[38;5;241;43m.\u001b[39;49m\u001b[43mread\u001b[49m\u001b[43m(\u001b[49m\u001b[38;5;28;43mlen\u001b[39;49m\u001b[43m,\u001b[49m\u001b[43m \u001b[49m\u001b[43mbuffer\u001b[49m\u001b[43m)\u001b[49m\n\u001b[0;32m   1164\u001b[0m     \u001b[38;5;28;01melse\u001b[39;00m:\n\u001b[0;32m   1165\u001b[0m         \u001b[38;5;28;01mreturn\u001b[39;00m \u001b[38;5;28mself\u001b[39m\u001b[38;5;241m.\u001b[39m_sslobj\u001b[38;5;241m.\u001b[39mread(\u001b[38;5;28mlen\u001b[39m)\n",
      "\u001b[1;31mKeyboardInterrupt\u001b[0m: "
     ]
    }
   ],
   "source": [
    "headers = {\n",
    "\t\"X-RapidAPI-Key\": sports_data_api_key,\n",
    "\t\"X-RapidAPI-Host\": \"api-nba-v1.p.rapidapi.com\"\n",
    "}\n",
    "#querystring = {\"team\":\"1\",\"season\":\"2021\"}\n",
    "\n",
    "def get_players(team_id, season):\n",
    "    return requests.get(uri+'/players', headers=headers, params={\"team\":team_id, \"season\":season}).json()\n",
    "\n",
    "#for team_id in df_teams['id']:\n",
    "    #players = get_players(team_id)\n",
    "\n",
    "for team_id in df_teams['id']:\n",
    "    for season in seasons:    \n",
    "        players = get_players(team_id, season)\n",
    "        print(players)\n",
    "        break;\n",
    "    break;\n",
    "\n",
    "#print(players)"
   ]
  },
  {
   "cell_type": "code",
   "execution_count": null,
   "metadata": {},
   "outputs": [],
   "source": []
  },
  {
   "cell_type": "code",
   "execution_count": 13,
   "metadata": {},
   "outputs": [
    {
     "name": "stdout",
     "output_type": "stream",
     "text": [
      "{'get': 'games/', 'parameters': [], 'errors': {'required': 'At least one parameter is required.'}, 'results': 0, 'response': []}\n"
     ]
    }
   ],
   "source": [
    "headers = {\n",
    "\t\"X-RapidAPI-Key\": sports_data_api_key,\n",
    "\t\"X-RapidAPI-Host\": \"api-nba-v1.p.rapidapi.com\"\n",
    "}\n",
    "\n",
    "games = requests.get(uri+'/games', headers=headers).json()\n",
    "\n",
    "print(games)"
   ]
  },
  {
   "cell_type": "code",
   "execution_count": 14,
   "metadata": {},
   "outputs": [
    {
     "name": "stdout",
     "output_type": "stream",
     "text": [
      "{'get': 'standings/', 'parameters': [], 'errors': {'required': 'At least one parameter is required.'}, 'results': 0, 'response': []}\n"
     ]
    }
   ],
   "source": [
    "headers = {\n",
    "\t\"X-RapidAPI-Key\": sports_data_api_key,\n",
    "\t\"X-RapidAPI-Host\": \"api-nba-v1.p.rapidapi.com\"\n",
    "}\n",
    "\n",
    "standings = requests.get(uri+'/standings', headers=headers).json()\n",
    "\n",
    "print(standings)"
   ]
  },
  {
   "cell_type": "code",
   "execution_count": 16,
   "metadata": {},
   "outputs": [
    {
     "name": "stdout",
     "output_type": "stream",
     "text": [
      "{'get': 'games/statistics', 'parameters': [], 'errors': {'required': 'At least one parameter is required.'}, 'results': 0, 'response': []}\n"
     ]
    }
   ],
   "source": [
    "headers = {\n",
    "\t\"X-RapidAPI-Key\": sports_data_api_key,\n",
    "\t\"X-RapidAPI-Host\": \"api-nba-v1.p.rapidapi.com\"\n",
    "}\n",
    "\n",
    "statistics = requests.get(uri+'/games/statistics', headers=headers).json()\n",
    "\n",
    "print(statistics)"
   ]
  },
  {
   "cell_type": "markdown",
   "metadata": {},
   "source": [
    "Part 2 - ???"
   ]
  }
 ],
 "metadata": {
  "kernelspec": {
   "display_name": "dev",
   "language": "python",
   "name": "python3"
  },
  "language_info": {
   "codemirror_mode": {
    "name": "ipython",
    "version": 3
   },
   "file_extension": ".py",
   "mimetype": "text/x-python",
   "name": "python",
   "nbconvert_exporter": "python",
   "pygments_lexer": "ipython3",
   "version": "3.10.13"
  }
 },
 "nbformat": 4,
 "nbformat_minor": 2
}
