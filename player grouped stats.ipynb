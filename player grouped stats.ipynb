{
 "cells": [
  {
   "cell_type": "code",
   "execution_count": 44,
   "metadata": {},
   "outputs": [
    {
     "ename": "ModuleNotFoundError",
     "evalue": "No module named 'prophet'",
     "output_type": "error",
     "traceback": [
      "\u001b[1;31m---------------------------------------------------------------------------\u001b[0m",
      "\u001b[1;31mModuleNotFoundError\u001b[0m                       Traceback (most recent call last)",
      "Cell \u001b[1;32mIn[44], line 2\u001b[0m\n\u001b[0;32m      1\u001b[0m \u001b[38;5;28;01mimport\u001b[39;00m \u001b[38;5;21;01mpandas\u001b[39;00m \u001b[38;5;28;01mas\u001b[39;00m \u001b[38;5;21;01mpd\u001b[39;00m\n\u001b[1;32m----> 2\u001b[0m \u001b[38;5;28;01mimport\u001b[39;00m \u001b[38;5;21;01mprophet\u001b[39;00m \u001b[38;5;28;01mas\u001b[39;00m \u001b[38;5;21;01mp\u001b[39;00m\n",
      "\u001b[1;31mModuleNotFoundError\u001b[0m: No module named 'prophet'"
     ]
    }
   ],
   "source": [
    "import pandas as pd\n",
    "#import prophet as p"
   ]
  },
  {
   "cell_type": "code",
   "execution_count": 26,
   "metadata": {},
   "outputs": [],
   "source": [
    "braun_df = pd.read_csv('resources/nuggets stats/braun.csv')\n",
    "pope_df = pd.read_csv('resources/nuggets stats/caldwell-pope.csv')\n",
    "gordon_df = pd.read_csv('resources/nuggets stats/gordon.csv')\n",
    "holiday_df = pd.read_csv('resources/nuggets stats/holiday.csv')\n",
    "jokic_df = pd.read_csv('resources/nuggets stats/jokic.csv')\n",
    "murray_df = pd.read_csv('resources/nuggets stats/murray.csv')\n",
    "porterjr_df = pd.read_csv('resources/nuggets stats/porterjr.csv')\n",
    "watson_df = pd.read_csv('resources/nuggets stats/watson.csv')\n",
    "conley_df = pd.read_csv('resources/timberwolves stats/conley.csv')\n",
    "edwards_df = pd.read_csv('resources/timberwolves stats/edwards.csv')\n",
    "gobert_df = pd.read_csv('resources/timberwolves stats/gobert.csv')\n",
    "kat_df = pd.read_csv('resources/timberwolves stats/KAT.csv')\n",
    "mcdaniels_df = pd.read_csv('resources/timberwolves stats/mcdaniels.csv')\n",
    "morris_df = pd.read_csv('resources/timberwolves stats/morris.csv')\n",
    "reid_df = pd.read_csv('resources/timberwolves stats/reid.csv')\n",
    "walker_df = pd.read_csv('resources/timberwolves stats/walker.csv')"
   ]
  },
  {
   "cell_type": "code",
   "execution_count": null,
   "metadata": {},
   "outputs": [],
   "source": [
    "braun_df"
   ]
  },
  {
   "cell_type": "code",
   "execution_count": 41,
   "metadata": {},
   "outputs": [
    {
     "data": {
      "text/plain": [
       "points        7.056180\n",
       "min          19.685393\n",
       "fgp          42.520225\n",
       "tpp          29.398876\n",
       "totReb        3.606742\n",
       "assists       1.505618\n",
       "pFouls        1.629213\n",
       "steals        0.483146\n",
       "blocks        0.415730\n",
       "plusMinus    -0.067416\n",
       "dtype: float64"
      ]
     },
     "execution_count": 41,
     "metadata": {},
     "output_type": "execute_result"
    }
   ],
   "source": [
    "braun_points = braun_df[['points', 'min', 'fgp','tpp','totReb','assists','pFouls','steals','blocks','plusMinus']].mean()\n",
    "braun_info = {'Braun':'G'}\n",
    "braun_points #= braun_points.insert(braun_info, ignore_index=True)"
   ]
  },
  {
   "cell_type": "code",
   "execution_count": 16,
   "metadata": {},
   "outputs": [
    {
     "data": {
      "text/plain": [
       "points        9.839080\n",
       "min          31.402299\n",
       "fgp          45.854023\n",
       "tpp          38.043678\n",
       "totReb        2.344828\n",
       "assists       2.344828\n",
       "pFouls        2.011494\n",
       "steals        1.333333\n",
       "blocks        0.505747\n",
       "plusMinus     6.540230\n",
       "dtype: float64"
      ]
     },
     "execution_count": 16,
     "metadata": {},
     "output_type": "execute_result"
    }
   ],
   "source": [
    "pope_points = pope_df[['points', 'min', 'fgp','tpp','totReb','assists','pFouls','steals','blocks','plusMinus']].mean()\n",
    "pope_points"
   ]
  },
  {
   "cell_type": "code",
   "execution_count": 17,
   "metadata": {},
   "outputs": [
    {
     "data": {
      "text/plain": [
       "points       13.607143\n",
       "min          31.500000\n",
       "fgp          56.733333\n",
       "tpp          20.057143\n",
       "totReb        6.476190\n",
       "assists       3.559524\n",
       "pFouls        1.916667\n",
       "steals        0.750000\n",
       "blocks        0.583333\n",
       "plusMinus     4.845238\n",
       "dtype: float64"
      ]
     },
     "execution_count": 17,
     "metadata": {},
     "output_type": "execute_result"
    }
   ],
   "source": [
    "gordon_points = gordon_df[['points', 'min', 'fgp','tpp','totReb','assists','pFouls','steals','blocks','plusMinus']].mean()\n",
    "gordon_points"
   ]
  },
  {
   "cell_type": "code",
   "execution_count": 18,
   "metadata": {},
   "outputs": [
    {
     "data": {
      "text/plain": [
       "points        3.928571\n",
       "min          14.842857\n",
       "fgp          34.772857\n",
       "tpp          28.310000\n",
       "totReb        1.271429\n",
       "assists       1.100000\n",
       "pFouls        1.171429\n",
       "steals        0.657143\n",
       "blocks        0.157143\n",
       "plusMinus     0.771429\n",
       "dtype: float64"
      ]
     },
     "execution_count": 18,
     "metadata": {},
     "output_type": "execute_result"
    }
   ],
   "source": [
    "holiday_points = holiday_df[['points', 'min', 'fgp','tpp','totReb','assists','pFouls','steals','blocks','plusMinus']].mean()\n",
    "holiday_points"
   ]
  },
  {
   "cell_type": "code",
   "execution_count": 19,
   "metadata": {},
   "outputs": [
    {
     "data": {
      "text/plain": [
       "points       26.000000\n",
       "min          34.500000\n",
       "fgp          59.700000\n",
       "tpp          33.940000\n",
       "totReb       12.377778\n",
       "assists       8.811111\n",
       "pFouls        2.488889\n",
       "steals        1.366667\n",
       "blocks        0.800000\n",
       "plusMinus     7.700000\n",
       "dtype: float64"
      ]
     },
     "execution_count": 19,
     "metadata": {},
     "output_type": "execute_result"
    }
   ],
   "source": [
    "jokic_points = jokic_df[['points', 'min', 'fgp','tpp','totReb','assists','pFouls','steals','blocks','plusMinus']].mean()\n",
    "jokic_points"
   ]
  },
  {
   "cell_type": "code",
   "execution_count": 20,
   "metadata": {},
   "outputs": [
    {
     "data": {
      "text/plain": [
       "points       20.571429\n",
       "min          31.700000\n",
       "fgp          46.188571\n",
       "tpp          39.200000\n",
       "totReb        4.100000\n",
       "assists       6.400000\n",
       "pFouls        1.757143\n",
       "steals        0.942857\n",
       "blocks        0.657143\n",
       "plusMinus     4.442857\n",
       "dtype: float64"
      ]
     },
     "execution_count": 20,
     "metadata": {},
     "output_type": "execute_result"
    }
   ],
   "source": [
    "murray_points = murray_df[['points', 'min', 'fgp','tpp','totReb','assists','pFouls','steals','blocks','plusMinus']].mean()\n",
    "murray_points"
   ]
  },
  {
   "cell_type": "code",
   "execution_count": 21,
   "metadata": {},
   "outputs": [
    {
     "data": {
      "text/plain": [
       "points       17.034091\n",
       "min          32.306818\n",
       "fgp          48.298864\n",
       "tpp          39.506818\n",
       "totReb        7.022727\n",
       "assists       1.488636\n",
       "pFouls        1.784091\n",
       "steals        0.590909\n",
       "blocks        0.647727\n",
       "plusMinus     5.272727\n",
       "dtype: float64"
      ]
     },
     "execution_count": 21,
     "metadata": {},
     "output_type": "execute_result"
    }
   ],
   "source": [
    "porterjr_points = porterjr_df[['points', 'min', 'fgp','tpp','totReb','assists','pFouls','steals','blocks','plusMinus']].mean()\n",
    "porterjr_points"
   ]
  },
  {
   "cell_type": "code",
   "execution_count": 22,
   "metadata": {},
   "outputs": [
    {
     "data": {
      "text/plain": [
       "points        6.347826\n",
       "min          18.250000\n",
       "fgp          44.167391\n",
       "tpp          22.464130\n",
       "totReb        3.065217\n",
       "assists       1.043478\n",
       "pFouls        1.760870\n",
       "steals        0.510870\n",
       "blocks        1.043478\n",
       "plusMinus    -0.978261\n",
       "dtype: float64"
      ]
     },
     "execution_count": 22,
     "metadata": {},
     "output_type": "execute_result"
    }
   ],
   "source": [
    "watson_points = watson_df[['points', 'min', 'fgp','tpp','totReb','assists','pFouls','steals','blocks','plusMinus']].mean()\n",
    "watson_points"
   ]
  },
  {
   "cell_type": "code",
   "execution_count": 27,
   "metadata": {},
   "outputs": [
    {
     "data": {
      "text/plain": [
       "points       11.202381\n",
       "min          28.654762\n",
       "fgp          45.580952\n",
       "tpp          43.289286\n",
       "totReb        2.880952\n",
       "assists       5.880952\n",
       "pFouls        1.773810\n",
       "steals        1.130952\n",
       "blocks        0.214286\n",
       "plusMinus     4.047619\n",
       "dtype: float64"
      ]
     },
     "execution_count": 27,
     "metadata": {},
     "output_type": "execute_result"
    }
   ],
   "source": [
    "conley_points = conley_df[['points', 'min', 'fgp','tpp','totReb','assists','pFouls','steals','blocks','plusMinus']].mean()\n",
    "conley_points"
   ]
  },
  {
   "cell_type": "code",
   "execution_count": 28,
   "metadata": {},
   "outputs": [
    {
     "data": {
      "text/plain": [
       "points       26.045455\n",
       "min          34.954545\n",
       "fgp          45.559091\n",
       "tpp          35.268182\n",
       "totReb        5.522727\n",
       "assists       5.068182\n",
       "pFouls        1.795455\n",
       "steals        1.272727\n",
       "blocks        0.556818\n",
       "plusMinus     6.022727\n",
       "dtype: float64"
      ]
     },
     "execution_count": 28,
     "metadata": {},
     "output_type": "execute_result"
    }
   ],
   "source": [
    "edwards_points = edwards_df[['points', 'min', 'fgp','tpp','totReb','assists','pFouls','steals','blocks','plusMinus']].mean()\n",
    "edwards_points"
   ]
  },
  {
   "cell_type": "code",
   "execution_count": 29,
   "metadata": {},
   "outputs": [
    {
     "data": {
      "text/plain": [
       "points       13.666667\n",
       "min          33.607143\n",
       "fgp          66.640476\n",
       "tpp           0.000000\n",
       "totReb       12.595238\n",
       "assists       1.357143\n",
       "pFouls        3.071429\n",
       "steals        0.714286\n",
       "blocks        2.011905\n",
       "plusMinus     5.976190\n",
       "dtype: float64"
      ]
     },
     "execution_count": 29,
     "metadata": {},
     "output_type": "execute_result"
    }
   ],
   "source": [
    "gobert_points = gobert_df[['points', 'min', 'fgp','tpp','totReb','assists','pFouls','steals','blocks','plusMinus']].mean()\n",
    "gobert_points"
   ]
  },
  {
   "cell_type": "code",
   "execution_count": 30,
   "metadata": {},
   "outputs": [
    {
     "data": {
      "text/plain": [
       "points       21.485714\n",
       "min          32.157143\n",
       "fgp          50.832857\n",
       "tpp          43.001429\n",
       "totReb        8.242857\n",
       "assists       2.971429\n",
       "pFouls        3.385714\n",
       "steals        0.685714\n",
       "blocks        0.628571\n",
       "plusMinus     5.171429\n",
       "dtype: float64"
      ]
     },
     "execution_count": 30,
     "metadata": {},
     "output_type": "execute_result"
    }
   ],
   "source": [
    "kat_points = kat_df[['points', 'min', 'fgp','tpp','totReb','assists','pFouls','steals','blocks','plusMinus']].mean()\n",
    "kat_points"
   ]
  },
  {
   "cell_type": "code",
   "execution_count": 31,
   "metadata": {},
   "outputs": [
    {
     "data": {
      "text/plain": [
       "points       10.500000\n",
       "min          29.653846\n",
       "fgp          47.446154\n",
       "tpp          30.326923\n",
       "totReb        3.269231\n",
       "assists       1.397436\n",
       "pFouls        3.076923\n",
       "steals        0.871795\n",
       "blocks        0.602564\n",
       "plusMinus     3.128205\n",
       "dtype: float64"
      ]
     },
     "execution_count": 31,
     "metadata": {},
     "output_type": "execute_result"
    }
   ],
   "source": [
    "mcdaniels_points = mcdaniels_df[['points', 'min', 'fgp','tpp','totReb','assists','pFouls','steals','blocks','plusMinus']].mean()\n",
    "mcdaniels_points"
   ]
  },
  {
   "cell_type": "code",
   "execution_count": 32,
   "metadata": {},
   "outputs": [
    {
     "data": {
      "text/plain": [
       "points        4.526316\n",
       "min          13.578947\n",
       "fgp          37.768421\n",
       "tpp          28.771053\n",
       "totReb        1.578947\n",
       "assists       1.921053\n",
       "pFouls        0.473684\n",
       "steals        0.526316\n",
       "blocks        0.263158\n",
       "plusMinus     2.078947\n",
       "dtype: float64"
      ]
     },
     "execution_count": 32,
     "metadata": {},
     "output_type": "execute_result"
    }
   ],
   "source": [
    "morris_points = morris_df[['points', 'min', 'fgp','tpp','totReb','assists','pFouls','steals','blocks','plusMinus']].mean()\n",
    "morris_points"
   ]
  },
  {
   "cell_type": "code",
   "execution_count": 33,
   "metadata": {},
   "outputs": [
    {
     "data": {
      "text/plain": [
       "points       13.444444\n",
       "min          23.855556\n",
       "fgp          48.184444\n",
       "tpp          40.752222\n",
       "totReb        5.022222\n",
       "assists       1.311111\n",
       "pFouls        2.077778\n",
       "steals        0.777778\n",
       "blocks        0.877778\n",
       "plusMinus     3.444444\n",
       "dtype: float64"
      ]
     },
     "execution_count": 33,
     "metadata": {},
     "output_type": "execute_result"
    }
   ],
   "source": [
    "reid_points = reid_df[['points', 'min', 'fgp','tpp','totReb','assists','pFouls','steals','blocks','plusMinus']].mean()\n",
    "reid_points"
   ]
  },
  {
   "cell_type": "code",
   "execution_count": 34,
   "metadata": {},
   "outputs": [
    {
     "data": {
      "text/plain": [
       "points        8.131868\n",
       "min          23.714286\n",
       "fgp          42.041758\n",
       "tpp          38.091209\n",
       "totReb        2.065934\n",
       "assists       2.450549\n",
       "pFouls        1.846154\n",
       "steals        0.813187\n",
       "blocks        0.505495\n",
       "plusMinus     3.780220\n",
       "dtype: float64"
      ]
     },
     "execution_count": 34,
     "metadata": {},
     "output_type": "execute_result"
    }
   ],
   "source": [
    "walker_points = walker_df[['points', 'min', 'fgp','tpp','totReb','assists','pFouls','steals','blocks','plusMinus']].mean()\n",
    "walker_points"
   ]
  },
  {
   "cell_type": "code",
   "execution_count": null,
   "metadata": {},
   "outputs": [],
   "source": []
  }
 ],
 "metadata": {
  "kernelspec": {
   "display_name": "Python 3",
   "language": "python",
   "name": "python3"
  },
  "language_info": {
   "codemirror_mode": {
    "name": "ipython",
    "version": 3
   },
   "file_extension": ".py",
   "mimetype": "text/x-python",
   "name": "python",
   "nbconvert_exporter": "python",
   "pygments_lexer": "ipython3",
   "version": "3.11.7"
  }
 },
 "nbformat": 4,
 "nbformat_minor": 2
}
