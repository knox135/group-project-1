{
 "cells": [
  {
   "cell_type": "code",
   "execution_count": 1,
   "id": "d996312b-57a0-4be5-ada2-99581c8e5cdf",
   "metadata": {},
   "outputs": [],
   "source": [
    "import sys\n",
    "from dotenv import load_dotenv\n",
    "import os\n",
    "import requests\n",
    "import pandas as pd\n",
    "import json"
   ]
  },
  {
   "cell_type": "code",
   "execution_count": 2,
   "id": "4cb3c8fb-17cc-46f6-b6de-056f0f45f737",
   "metadata": {},
   "outputs": [],
   "source": [
    "load_dotenv()\n",
    "load_dotenv('.env')\n",
    "sports_data_api_key = os.getenv('SPORTS_DATA_API_KEY')"
   ]
  },
  {
   "cell_type": "code",
   "execution_count": 3,
   "id": "50ebbaea-c300-4af7-8b75-4c99046746eb",
   "metadata": {},
   "outputs": [],
   "source": [
    "url = \"https://api-nba-v1.p.rapidapi.com/teams/statistics\"\n",
    "api_key_str = '?key='+sports_data_api_key"
   ]
  },
  {
   "cell_type": "code",
   "execution_count": null,
   "id": "484ebed9-204f-4c1d-806e-ac6a326b341a",
   "metadata": {},
   "outputs": [],
   "source": [
    "teams_id = ['2','7','8','9','15','22','24','25']"
   ]
  },
  {
   "cell_type": "code",
   "execution_count": 6,
   "id": "efb6bd68-c6d0-4290-862b-05c0d60095e6",
   "metadata": {},
   "outputs": [
    {
     "name": "stdout",
     "output_type": "stream",
     "text": [
      "{'get': 'teams/statistics', 'parameters': {'id': '15', 'season': '2023'}, 'errors': [], 'results': 1, 'response': [{'games': 95, 'fastBreakPoints': 0, 'pointsInPaint': 0, 'biggestLead': 0, 'secondChancePoints': 0, 'pointsOffTurnovers': 0, 'longestRun': 0, 'points': 11585, 'fgm': 4404, 'fga': 8790, 'fgp': '65.8', 'ftm': 1522, 'fta': 1957, 'ftp': '77.5', 'tpm': 1255, 'tpa': 3414, 'tpp': '36.8', 'offReb': 962, 'defReb': 2997, 'totReb': 3959, 'assists': 2913, 'pFouls': 2037, 'steals': 713, 'turnovers': 1219, 'blocks': 555, 'plusMinus': 225}]}\n"
     ]
    }
   ],
   "source": [
    "\n",
    "querystring = {\"id\":\"15\",\"season\":\"2023\"}\n",
    "\n",
    "headers = {\n",
    "\t\"X-RapidAPI-Key\": \"2033478d9cmsh61d5b3ff48db5abp1124d7jsndd48c0d84f61\",\n",
    "\t\"X-RapidAPI-Host\": \"api-nba-v1.p.rapidapi.com\"\n",
    "}\n",
    "\n",
    "response = requests.get(url, headers=headers, params=querystring)\n",
    "\n",
    "print(response.json())"
   ]
  },
  {
   "cell_type": "code",
   "execution_count": null,
   "id": "46cb1093-e93f-421c-b73d-6f866483ed49",
   "metadata": {},
   "outputs": [],
   "source": []
  }
 ],
 "metadata": {
  "kernelspec": {
   "display_name": "Python 3 (ipykernel)",
   "language": "python",
   "name": "python3"
  },
  "language_info": {
   "codemirror_mode": {
    "name": "ipython",
    "version": 3
   },
   "file_extension": ".py",
   "mimetype": "text/x-python",
   "name": "python",
   "nbconvert_exporter": "python",
   "pygments_lexer": "ipython3",
   "version": "3.10.13"
  }
 },
 "nbformat": 4,
 "nbformat_minor": 5
}
