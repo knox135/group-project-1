import sys
from dotenv import load_dotenv
import os
import requests
import pandas as pd
import json


load_dotenv()
load_dotenv('.env')



sports_data_api_key = os.getenv('SPORTS_DATA_API_KEY')
url = "https://api-nba-v1.p.rapidapi.com/players"
api_key_str = '?key='+sports_data_api_key
querystring = {"team":"9","season":"2023"}

headers = {
	"X-RapidAPI-Key": sports_data_api_key,
	"X-RapidAPI-Host": "api-nba-v1.p.rapidapi.com"
}

response = requests.get(url, headers=headers, params=querystring)
response_nuggets = response.json()
print(json.dumps(response_nuggets, indent=4))


nuggets_df = pd.json_normalize(response_nuggets['response']).reset_index(drop=True)
nuggets_df



url = "https://api-nba-v1.p.rapidapi.com/games"

querystring = {"season":"2023","team":"9"}

headers = {
	"X-RapidAPI-Key": sports_data_api_key,
	"X-RapidAPI-Host": "api-nba-v1.p.rapidapi.com"
}

response_dates = requests.get(url, headers=headers, params=querystring)
response_nuggets_dates = response_dates.json()
print(json.dumps(response_nuggets_dates, indent=4))
nuggets_calendar_df = pd.json_normalize(response_nuggets_dates['response']).reset_index(drop=True)
nuggets_calendar_df = nuggets_calendar_df['date.start'].reset_index().rename(columns={'index':'game','date.start':'date'})
nuggets_calendar_df


nuggets_calendar_df = pd.json_normalize(response_nuggets_dates['response']).reset_index(drop=True)
nuggets_calendar_df = nuggets_calendar_df['date.start'].reset_index().rename(columns={'index':'game','date.start':'date'})
nuggets_calendar_df


nuggets_df_csv = nuggets_df.to_csv('Resources/Denver Nuggets.csv', index=False)


nuggets_calendar_csv = nuggets_calendar_df.to_csv('Resources/nuggets schedule.csv', index=False)



