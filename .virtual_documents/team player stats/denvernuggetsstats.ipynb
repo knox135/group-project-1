import sys
from dotenv import load_dotenv
import os
import requests
import pandas as pd
import json


load_dotenv()
load_dotenv('.env')
sports_data_api_key = os.getenv('SPORTS_DATA_API_KEY')


url = "https://api-nba-v1.p.rapidapi.com/players/statistics"

querystring = {"id":"383","season":"2023"}

headers = {
	"X-RapidAPI-Key": sports_data_api_key,
	"X-RapidAPI-Host": "api-nba-v1.p.rapidapi.com"
}

response_murray = requests.get(url, headers=headers, params=querystring).json()

print(json.dumps(response_murray, indent=4))


murray_df = pd.json_normalize(response_murray['response']).reset_index(drop=True)
murray_df = murray_df[['player.firstname','player.lastname','pos','points','min','fgm','fga','fgp','ftm','fta','tpm','tpa', 'tpp', 'offReb', 'defReb', 'totReb', 'assists', 'pFouls','steals', 'turnovers', 'blocks', 'plusMinus',]]
murray_df


murray_df_csv = murray_df.to_csv('Resources/nuggets stats/murray.csv', index=False)


url = "https://api-nba-v1.p.rapidapi.com/players/statistics"

querystring = {"id":"279","season":"2023"}

headers = {
	"X-RapidAPI-Key": sports_data_api_key,
	"X-RapidAPI-Host": "api-nba-v1.p.rapidapi.com"
}

jokic = requests.get(url, headers=headers, params=querystring).json()

print(json.dumps(jokic, indent=4))


jokic_df = pd.json_normalize(jokic['response']).reset_index(drop=True)
jokic_df = jokic_df[['player.firstname','player.lastname','pos','points','min','fgm','fga','fgp','ftm','fta','tpm','tpa', 'tpp', 'offReb', 'defReb', 'totReb', 'assists', 'pFouls','steals', 'turnovers', 'blocks', 'plusMinus',]]
jokic_df


jokic_df_csv = jokic_df.to_csv('resources/nuggets stats/jokic.csv', index=False)


url = "https://api-nba-v1.p.rapidapi.com/players/statistics"

querystring = {"id":"1014","season":"2023"}

headers = {
	"X-RapidAPI-Key": sports_data_api_key,
	"X-RapidAPI-Host": "api-nba-v1.p.rapidapi.com"
}

porterjr = requests.get(url, headers=headers, params=querystring).json()

print(json.dumps(porterjr, indent=4))


porterjr_df = pd.json_normalize(porterjr['response']).reset_index(drop=True)
porterjr_df = porterjr_df[['player.firstname','player.lastname','pos','points','min','fgm','fga','fgp','ftm','fta','tpm','tpa', 'tpp', 'offReb', 'defReb', 'totReb', 'assists', 'pFouls','steals', 'turnovers', 'blocks', 'plusMinus']]
porterjr_df


porterjr_df_csv = porterjr_df.to_csv('resources/nuggets stats/porterjr.csv', index=False)


url = "https://api-nba-v1.p.rapidapi.com/players/statistics"

querystring = {"id":"195","season":"2023"}

headers = {
	"X-RapidAPI-Key": sports_data_api_key,
	"X-RapidAPI-Host": "api-nba-v1.p.rapidapi.com"
}

gordon = requests.get(url, headers=headers, params=querystring).json()

print(json.dumps(gordon, indent=4))


gordon_df = pd.json_normalize(gordon['response']).reset_index(drop=True)
gordon_df = gordon_df[['player.firstname','player.lastname','pos','points','min','fgm','fga','fgp','ftm','fta','tpm','tpa', 'tpp', 'offReb', 'defReb', 'totReb', 'assists', 'pFouls','steals', 'turnovers', 'blocks', 'plusMinus',]]
gordon_df


gordon_csv = gordon_df.to_csv('resources/nuggets stats/gordon.csv', index=False)


url = "https://api-nba-v1.p.rapidapi.com/players/statistics"

querystring = {"id":"89","season":"2023"}

headers = {
	"X-RapidAPI-Key": sports_data_api_key,
	"X-RapidAPI-Host": "api-nba-v1.p.rapidapi.com"
}

pope = requests.get(url, headers=headers, params=querystring).json()

print(json.dumps(pope, indent=4))


pope_df = pd.json_normalize(pope['response']).reset_index(drop=True)


pope_df = pope_df[['player.firstname','player.lastname','pos','points','min','fgm','fga','fgp','ftm','fta','tpm','tpa', 'tpp', 'offReb', 'defReb', 'totReb', 'assists', 'pFouls','steals', 'turnovers', 'blocks', 'plusMinus',]]
pope_df


pope_csv = pope_df.to_csv('resources/nuggets stats/caldwell-pope.csv', index=False)


url = "https://api-nba-v1.p.rapidapi.com/players/statistics"

querystring = {"id":"3420","season":"2023"}

headers = {
	"X-RapidAPI-Key": sports_data_api_key,
	"X-RapidAPI-Host": "api-nba-v1.p.rapidapi.com"
}

braun = requests.get(url, headers=headers, params=querystring).json()

print(json.dumps(braun, indent=4))


braun_df = pd.json_normalize(braun['response']).reset_index(drop=True)
braun_df = braun_df[['player.firstname','player.lastname','pos','points','min','fgm','fga','fgp','ftm','fta','tpm','tpa', 'tpp', 'offReb', 'defReb', 'totReb', 'assists', 'pFouls','steals', 'turnovers', 'blocks', 'plusMinus',]]
braun_df


braun_csv = braun_df.to_csv('resources/nuggets stats/braun.csv', index=False)


url = "https://api-nba-v1.p.rapidapi.com/players/statistics"

querystring = {"id":"264","season":"2023"}

headers = {
	"X-RapidAPI-Key": sports_data_api_key,
	"X-RapidAPI-Host": "api-nba-v1.p.rapidapi.com"
}

jackson = requests.get(url, headers=headers, params=querystring).json()

print(json.dumps(jackson, indent=4))


jackson_df = pd.json_normalize(jackson['response']).reset_index(drop=True)
jackson_df = jackson_df[['player.firstname','player.lastname','pos','points','min','fgm','fga','fgp','ftm','fta','tpm','tpa', 'tpp', 'offReb', 'defReb', 'totReb', 'assists', 'pFouls','steals', 'turnovers', 'blocks', 'plusMinus',]]
jackson_df


url = "https://api-nba-v1.p.rapidapi.com/players/statistics"

querystring = {"id":"243","season":"2023"}

headers = {
	"X-RapidAPI-Key": sports_data_api_key,
	"X-RapidAPI-Host": "api-nba-v1.p.rapidapi.com"
}

holiday = requests.get(url, headers=headers, params=querystring).json()

print(json.dumps(holiday, indent=4))


holiday_df = pd.json_normalize(holiday['response']).reset_index(drop=True)


holiday_df = holiday_df[['player.firstname','player.lastname','pos','points','min','fgm','fga','fgp','ftm','fta','tpm','tpa', 'tpp', 'offReb', 'defReb', 'totReb', 'assists', 'pFouls','steals', 'turnovers', 'blocks', 'plusMinus',]]
holiday_df


holiday_csv = holiday_df.to_csv('resources/nuggets stats/holiday.csv', index=False)


url = "https://api-nba-v1.p.rapidapi.com/players/statistics"

querystring = {"id":"3498","season":"2023"}

headers = {
	"X-RapidAPI-Key": sports_data_api_key,
	"X-RapidAPI-Host": "api-nba-v1.p.rapidapi.com"
}

watson = requests.get(url, headers=headers, params=querystring).json()

print(json.dumps(watson, indent=4))


watson_df = pd.json_normalize(watson['response']).reset_index(drop=True)
watson_df


watson_df.columns


watson_df = watson_df[['player.firstname','player.lastname','pos','points','min','fgm','fga','fgp','ftm','fta','tpm','tpa', 'tpp', 'offReb', 'defReb', 'totReb', 'assists', 'pFouls','steals', 'turnovers', 'blocks', 'plusMinus',]]
watson_df


watson_csv = watson_df.to_csv('resources/nuggets stats/watson.csv', index=False)
