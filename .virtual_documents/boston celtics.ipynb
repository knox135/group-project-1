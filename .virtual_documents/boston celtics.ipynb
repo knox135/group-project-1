import sys
from dotenv import load_dotenv
import os
import requests
import pandas as pd
import json
load_dotenv()
load_dotenv('.env')

sports_data_api_key = os.getenv('SPORTS_DATA_API_KEY')
url = "https://api-nba-v1.p.rapidapi.com/players"

querystring = {"team":"2","season":"2023"}
api_key_str = '?key='+sports_data_api_key
headers = {
	"X-RapidAPI-Key": 
	"X-RapidAPI-Host": "api-nba-v1.p.rapidapi.com"
}

response = requests.get(url, headers=headers, params=querystring)
response_celtics = response.json()
print(json.dumps(response_celtics, indent=4))





celtics_df = pd.json_normalize(response_celtics['response']).reset_index(drop=True)
celtics_df


celtics_df_csv = celtics_df.to_csv('Resources/Boston Celtics.csv', index=False)
