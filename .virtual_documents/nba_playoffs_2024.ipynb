


import sys
from dotenv import load_dotenv
import os
import requests
import pandas as pd
import time


load_dotenv()
load_dotenv('.env')
sports_data_api_key = os.getenv('SPORTS_DATA_API_KEY')


uri = 'https://api-nba-v1.p.rapidapi.com'
api_key_str = '?key='+sports_data_api_key


headers = {
	"X-RapidAPI-Key": sports_data_api_key,
	"X-RapidAPI-Host": "api-nba-v1.p.rapidapi.com"
}

#seasons = requests.get(uri+'/seasons', headers=headers).json()

seasons = [2015, 2016, 2017, 2018, 2019, 2020, 2021, 2022, 2023]

print(seasons)


headers = {
	"X-RapidAPI-Key": sports_data_api_key,
	"X-RapidAPI-Host": "api-nba-v1.p.rapidapi.com"
}

teams = requests.get(uri+'/teams', headers=headers).json()['response']

print(teams)


team_names = ['New Orleans Pelicans', 'LA Clippers', 'Phoenix Suns', 'Los Angeles Lakers', 'Miami Heat', 'Orlando Magic', 'Milwaukee Bucks', 'Philadelphia 76ers','Oklahoma City Thunder', 'Dallas Mavericks', 'Minnesota Timberwolves', 'Denver Nuggets', 'Boston Celtics', 'Cleveland Cavaliers', 'Indiana Pacers', 'New York Knicks']
final_teams = []

for team in teams:
    
    if team['name'] in team_names:
        #print('Added:',team['name'])
        final_teams.append(team)

print(len(final_teams), len(team_names))

#confirm all names were found
for n in team_names:
    found = False
    for team in teams:
        if n == team['name']:
            found = True
            break;
    if found == False:
        print(n)




pd.json_normalize(final_teams, max_level=0).to_csv('Resources/All Teams.csv', index=False)


# test the new CSV as a DF

df_teams = pd.read_csv('Resources/All Teams.csv')
df_teams.head()


headers = {
	"X-RapidAPI-Key": sports_data_api_key,
	"X-RapidAPI-Host": "api-nba-v1.p.rapidapi.com"
}

def get_players(team_id, season):
    time.sleep(30)
    return requests.get(uri+'/players', headers=headers, params={"team":team_id, "season":season}).json()['response']

all_players = []

for team_id in df_teams['id']:
    for season in seasons:
        all_players.extend(
            get_players(team_id, season)
        )

print(len(all_players))


pd.json_normalize(all_players, max_level=0).to_csv('Resources/All Players.csv', index=False)

# test the new CSV as a DF

df_players = pd.read_csv('Resources/All Players.csv')
df_players.tail()


headers = {
	"X-RapidAPI-Key": sports_data_api_key,
	"X-RapidAPI-Host": "api-nba-v1.p.rapidapi.com"
}

games = requests.get(uri+'/games', headers=headers).json()

print(games)


headers = {
	"X-RapidAPI-Key": sports_data_api_key,
	"X-RapidAPI-Host": "api-nba-v1.p.rapidapi.com"
}

standings = requests.get(uri+'/standings', headers=headers).json()

print(standings)


headers = {
	"X-RapidAPI-Key": sports_data_api_key,
	"X-RapidAPI-Host": "api-nba-v1.p.rapidapi.com"
}

statistics = requests.get(uri+'/games/statistics', headers=headers).json()

print(statistics)



