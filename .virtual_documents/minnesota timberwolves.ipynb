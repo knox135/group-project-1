import sys
from dotenv import load_dotenv
import os
import requests
import pandas as pd
import json


load_dotenv()
load_dotenv('.env')


sports_data_api_key = os.getenv('SPORTS_DATA_API_KEY')
url = "https://api-nba-v1.p.rapidapi.com/players"
api_key_str = '?key='+sports_data_api_key




querystring = {"team":"22","season":"2023"}

headers = {
	"X-RapidAPI-Key": sports_data_api_key,
	"X-RapidAPI-Host": "api-nba-v1.p.rapidapi.com"
}

response = requests.get(url, headers=headers, params=querystring)
response_wolves = response.json()
print(json.dumps(response_wolves, indent=4))


wolves_df = pd.json_normalize(response_wolves['response']).reset_index(drop=True)
wolves_df


wolves_df_csv = wolves_df.to_csv('Resources/Minnesota Timberwolves.csv', index=False)


url = "https://api-nba-v1.p.rapidapi.com/games"

querystring = {"season":"2023","team":"22"}

headers = {
	"X-RapidAPI-Key": sports_data_api_key,
	"X-RapidAPI-Host": "api-nba-v1.p.rapidapi.com"
}

response_dates = requests.get(url, headers=headers, params=querystring)
response_wolves_dates = response_dates.json()
print(json.dumps(response_wolves_dates, indent=4))
wolves_calendar_df = pd.json_normalize(response_wolves_dates['response']).reset_index(drop=True)
wolves_calendar_df = wolves_calendar_df['date.start'].reset_index().rename(columns={'index':'game','date.start':'date'})
wolves_calendar_df


wolves_schedule_csv = wolves_calendar_df.to_csv('Resources/wolves schedule.csv', index=False)



