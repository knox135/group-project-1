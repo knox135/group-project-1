# Install prophet library
!pip install prophet


#import requirements
import pandas as pd
import matplotlib.pyplot as plt
import numpy as np
from prophet import Prophet
#Create bins for game splits
bins = [0, 10, 20, 30, 40, 50, 60, 70, 80, 90]


#Read in CSV data files
braun_df = pd.read_csv('resources/nuggets stats/braun.csv')
pope_df = pd.read_csv('resources/nuggets stats/caldwell-pope.csv')
gordon_df = pd.read_csv('resources/nuggets stats/gordon.csv')
holiday_df = pd.read_csv('resources/nuggets stats/holiday.csv')
jokic_df = pd.read_csv('resources/nuggets stats/jokic.csv')
murray_df = pd.read_csv('resources/nuggets stats/murray.csv')
porterjr_df = pd.read_csv('resources/nuggets stats/porterjr.csv')
watson_df = pd.read_csv('resources/nuggets stats/watson.csv')
conley_df = pd.read_csv('resources/timberwolves stats/conley.csv')
edwards_df = pd.read_csv('resources/timberwolves stats/edwards.csv')
gobert_df = pd.read_csv('resources/timberwolves stats/gobert.csv')
kat_df = pd.read_csv('resources/timberwolves stats/KAT.csv')
mcdaniels_df = pd.read_csv('resources/timberwolves stats/mcdaniels.csv')
morris_df = pd.read_csv('resources/timberwolves stats/morris.csv')
reid_df = pd.read_csv('resources/timberwolves stats/reid.csv')
walker_df = pd.read_csv('resources/timberwolves stats/walker.csv')
wolves_schedule = pd.read_csv('resources/wolves schedule.csv',parse_dates=True)
nuggets_schedule = pd.read_csv('resources/nuggets schedule.csv',parse_dates=True)


wolves_schedule.info()


#combine game dates to player stats dataframe for nuggets
braun_df = pd.concat([nuggets_schedule, braun_df], axis=1) 
pope_df = pd.concat([nuggets_schedule, pope_df], axis=1)
gordon_df = pd.concat([nuggets_schedule, gordon_df], axis=1)
holiday_df = pd.concat([nuggets_schedule, holiday_df], axis=1)
jokic_df = pd.concat([nuggets_schedule, jokic_df], axis=1)
murray_df = pd.concat([nuggets_schedule, murray_df], axis=1)
porterjr_df = pd.concat([nuggets_schedule, porterjr_df], axis=1)
watson_df = pd.concat([nuggets_schedule, watson_df], axis=1)

#combine game dates to player stats dataframe for timberwolves
conley_df = pd.concat([wolves_schedule, conley_df], axis=1)
edwards_df = pd.concat([wolves_schedule, edwards_df], axis=1)
gobert_df = pd.concat([wolves_schedule, gobert_df], axis=1)
kat_df = pd.concat([wolves_schedule, kat_df], axis=1)
mcdaniels_df = pd.concat([wolves_schedule, mcdaniels_df], axis=1)
morris_df = pd.concat([wolves_schedule, morris_df], axis=1)
reid_df = pd.concat([wolves_schedule, reid_df], axis=1)
walker_df = pd.concat([wolves_schedule, walker_df], axis=1)

kat_df


#nuggets player impact(as determined by plus/minus), and date, renamed to prophet syntax
braun_impact = braun_df[['date','plusMinus']]
braun_impact = braun_impact.rename(columns={'date':'ds','plusMinus':'y'})
print(braun_impact.plot(title='Braun Plus/Minus'))
print(braun_impact)

pope_impact = pope_df[['date','plusMinus']]
pope_impact = pope_impact.rename(columns={'date':'ds','plusMinus':'y'})
print(pope_impact.plot(title='Pope Plus/Minus'))
print(pope_impact)

gordon_impact = gordon_df[['date','plusMinus']]
gordon_impact = gordon_impact.rename(columns={'date':'ds','plusMinus':'y'})
print(gordon_impact.plot(title='gordon Plus/Minus'))
print(gordon_impact)

holiday_impact = holiday_df[['date','plusMinus']]
holiday_impact = holiday_impact.rename(columns={'date':'ds','plusMinus':'y'})
print(holiday_impact.plot(title='Holiday Plus/Minus'))
print(holiday_impact)

jokic_impact = jokic_df[['date','plusMinus']]
jokic_impact = jokic_impact.rename(columns={'date':'ds','plusMinus':'y'})
print(jokic_impact.plot(title='jokic Plus/Minus'))
print(jokic_impact)

murray_impact = murray_df[['date','plusMinus']]
murray_impact = murray_impact.rename(columns={'date':'ds','plusMinus':'y'})
print(murray_impact.plot(title='murray Plus/Minus'))
print(murray_impact)

porterjr_impact = porterjr_df[['date','plusMinus']]
porterjr_impact = porterjr_impact.rename(columns={'date':'ds','plusMinus':'y'})
print(porterjr_impact.plot(title='porter jr Plus/Minus'))
print(porterjr_impact)

watson_impact = watson_df[['date','plusMinus']]
watson_impact = watson_impact.rename(columns={'date':'ds','plusMinus':'y'})
print(watson_impact.plot(title='Watson Plus/Minus'))
print(watson_impact)


#timberwolves player impact(as determined by plus/minus), and date, renamed to prophet syntax
conley_impact = conley_df[['date','plusMinus']]
conley_impact = conley_impact.rename(columns={'date':'ds','plusMinus':'y'})
print(conley_impact.plot(title='Conley Plus/Minus'))
print(conley_impact)

edwards_impact = edwards_df[['date','plusMinus']]
edwards_impact = edwards_impact.rename(columns={'date':'ds','plusMinus':'y'})
print(edwards_impact.plot(title='Edwards Plus/Minus'))
print(edwards_impact)

gobert_impact = gobert_df[['date','plusMinus']]
gobert_impact = gobert_impact.rename(columns={'date':'ds','plusMinus':'y'})
print(gobert_impact.plot(title='Gobert Plus/Minus'))
print(gobert_impact)

kat_impact = kat_df[['date','plusMinus']]
kat_impact = kat_impact.rename(columns={'date':'ds','plusMinus':'y'})
print(holiday_impact.plot(title='Towns Plus/Minus'))
print(kat_impact)

mcdaniels_impact = mcdaniels_df[['date','plusMinus']]
mcdaniels_impact = mcdaniels_impact.rename(columns={'date':'ds','plusMinus':'y'})
print(mcdaniels_impact.plot(title='McDaniels Plus/Minus'))
print(jokic_impact)

morris_impact = morris_df[['date','plusMinus']]
morris_impact = morris_impact.rename(columns={'date':'ds','plusMinus':'y'})
print(morris_impact.plot(title='Morris Plus/Minus'))
print(morris_impact)

reid_impact = reid_df[['date','plusMinus']]
reid_impact = reid_impact.rename(columns={'date':'ds','plusMinus':'y'})
print(reid_impact.plot(title='Reid Plus/Minus'))
print(reid_impact)

walker_impact = walker_df[['date','plusMinus']]
walker_impact = walker_impact.rename(columns={'date':'ds','plusMinus':'y'})
print(walker_impact.plot(title='Walker Plus/Minus'))
print(walker_impact)


#group nuggets players stats into bins
braun_groups = (braun_df.groupby(pd.cut(braun_df.index, bins),observed=False)
[['points', 'min', 'fgp','tpp','totReb','assists','pFouls','steals','blocks','plusMinus']].mean()
).reset_index()
braun_groups = braun_groups.rename(columns={'index':'games'})
braun_groups.plot(legend='plusMinus',title='Braun')
display(braun_groups)

pope_groups = (braun_df.groupby(pd.cut(braun_df.index, bins),observed=False)
[['points', 'min', 'fgp','tpp','totReb','assists','pFouls','steals','blocks','plusMinus']].mean()
).reset_index()
pope_groups = pope_groups.rename(columns={'index':'games'})
pope_groups.plot(title='Caldwell-Pope')
display(pope_groups)

gordon_groups = (gordon_df.groupby(pd.cut(gordon_df.index, bins),observed=False)
[['points', 'min', 'fgp','tpp','totReb','assists','pFouls','steals','blocks','plusMinus']].mean()
).reset_index()
gordon_groups = gordon_groups.rename(columns={'index':'games'})
gordon_groups.plot(legend='plusMinus',title='Gordon')
display(gordon_groups)

holiday_groups = (holiday_df.groupby(pd.cut(holiday_df.index, bins),observed=False)
[['points', 'min', 'fgp','tpp','totReb','assists','pFouls','steals','blocks','plusMinus']].mean()
).reset_index()
holiday_groups = holiday_groups.rename(columns={'index':'games'})
holiday_groups.plot(title='Holiday')
display(holiday_groups)

jokic_groups = (jokic_df.groupby(pd.cut(jokic_df.index, bins),observed=False)
[['points', 'min', 'fgp','tpp','totReb','assists','pFouls','steals','blocks','plusMinus']].mean()
).reset_index()
jokic_groups = jokic_groups.rename(columns={'index':'games'})
jokic_groups.plot(title='jokic')
display(jokic_groups)

murray_groups = (murray_df.groupby(pd.cut(murray_df.index, bins),observed=False)
[['points', 'min', 'fgp','tpp','totReb','assists','pFouls','steals','blocks','plusMinus']].mean()
).reset_index()
murray_groups = murray_groups.rename(columns={'index':'games'})
murray_groups.plot(title='Murray')
display(murray_groups)

porterjr_groups = (porterjr_df.groupby(pd.cut(porterjr_df.index, bins),observed=False)
[['points', 'min', 'fgp','tpp','totReb','assists','pFouls','steals','blocks','plusMinus']].mean()
).reset_index()
porterjr_groups = porterjr_groups.rename(columns={'index':'games'})
porterjr_groups.plot(title='Porter jr')
display(porterjr_groups)

watson_groups = (watson_df.groupby(pd.cut(watson_df.index, bins),observed=False)
[['points', 'min', 'fgp','tpp','totReb','assists','pFouls','steals','blocks','plusMinus']].mean()
).reset_index()
watson_groups = watson_groups.rename(columns={'index':'games'})
watson_groups.plot(title='Watson')
display(watson_groups)


#get and plot nuggets players plusMinus splits
braun_plusMinus_groups = (braun_df.groupby(pd.cut(braun_df.index, bins),observed=False)
['plusMinus'].mean()
).reset_index()
braun_plusMinus_groups = braun_plusMinus_groups.rename(columns={'index':'games'})
braun_plusMinus_groups.plot(legend='plusMinus',title='Braun plus/minus')
display(braun_plusMinus_groups)

pope_plusMinus_groups = (braun_df.groupby(pd.cut(braun_df.index, bins),observed=False)
['plusMinus'].mean()
).reset_index()
pope_plusMinus_groups = pope_plusMinus_groups.rename(columns={'index':'games'})
pope_plusMinus_groups.plot(title='Caldwell-Pope plus/minus')
display(pope_plusMinus_groups)

gordon_plusMinus_groups = (gordon_df.groupby(pd.cut(gordon_df.index, bins),observed=False)
['plusMinus'].mean()
).reset_index()
gordon_plusMinus_groups = gordon_plusMinus_groups.rename(columns={'index':'games'})
gordon_plusMinus_groups.plot(legend='plusMinus',title='Gordon plus/minus')
display(gordon_plusMinus_groups)

holiday_plusMinus_groups = (holiday_df.groupby(pd.cut(holiday_df.index, bins),observed=False)
['plusMinus'].mean()
).reset_index()
holiday_plusMinus_groups = holiday_plusMinus_groups.rename(columns={'index':'games'})
holiday_plusMinus_groups.plot(legend='plusMinus',title='Holiday plus/minus')
display(holiday_plusMinus_groups)

jokic_plusMinus_groups = (jokic_df.groupby(pd.cut(jokic_df.index, bins),observed=False)
['plusMinus'].mean()
).reset_index()
jokic_plusMinus_groups = jokic_plusMinus_groups.rename(columns={'index':'games'})
jokic_plusMinus_groups.plot(legend='plusMinus',title='jokic plus/minus')
display(jokic_plusMinus_groups)

murray_plusMinus_groups = (murray_df.groupby(pd.cut(murray_df.index, bins),observed=False)
['plusMinus'].mean()
).reset_index()
murray_plusMinus_groups = murray_plusMinus_groups.rename(columns={'index':'games'})
murray_plusMinus_groups.plot(legend='plusMinus',title='Murray plus/minus')
display(murray_plusMinus_groups)

porterjr_plusMinus_groups = (porterjr_df.groupby(pd.cut(porterjr_df.index, bins),observed=False)
['plusMinus'].mean()
).reset_index()
porterjr_plusMinus_groups = porterjr_plusMinus_groups.rename(columns={'index':'games'})
porterjr_plusMinus_groups.plot(legend='plusMinus',title='Porter JR plus/minus')
display(porterjr_plusMinus_groups)

watson_plusMinus_groups = (watson_df.groupby(pd.cut(watson_df.index, bins),observed=False)
['plusMinus'].mean()
).reset_index()
watson_plusMinus_groups = watson_plusMinus_groups.rename(columns={'index':'games'})
watson_plusMinus_groups.plot(legend='plusMinus',title='Watson plus/minus')
display(watson_plusMinus_groups)


#get timberwolves player stat splits based on bins
conley_groups = (conley_df.groupby(pd.cut(conley_df.index, bins),observed=False)
[['points', 'min', 'fgp','tpp','totReb','assists','pFouls','steals','blocks','plusMinus']].mean()
).reset_index()
conley_groups = conley_groups.rename(columns={'index':'games'})
conley_groups.plot(title='Conley')
display(conley_groups)

edwards_groups = (edwards_df.groupby(pd.cut(edwards_df.index, bins),observed=False)
[['points', 'min', 'fgp','tpp','totReb','assists','pFouls','steals','blocks','plusMinus']].mean()
).reset_index()
edwards_groups = edwards_groups.rename(columns={'index':'games'})
edwards_groups.plot(title='Edwards')
display(edwards_groups)

gobert_groups = (gobert_df.groupby(pd.cut(gobert_df.index, bins),observed=False)
[['points', 'min', 'fgp','tpp','totReb','assists','pFouls','steals','blocks','plusMinus']].mean()
).reset_index()
gobert_groups = gobert_groups.rename(columns={'index':'games'})
gobert_groups.plot(title='Gobert')
display(gobert_groups)

kat_groups = (kat_df.groupby(pd.cut(kat_df.index, bins),observed=False)
[['points', 'min', 'fgp','tpp','totReb','assists','pFouls','steals','blocks','plusMinus']].mean()
).reset_index()
kat_groups = kat_groups.rename(columns={'index':'games'})
kat_groups.plot(title='Towns')
display(kat_groups)

mcdaniels_groups = (mcdaniels_df.groupby(pd.cut(mcdaniels_df.index, bins),observed=False)
[['points', 'min', 'fgp','tpp','totReb','assists','pFouls','steals','blocks','plusMinus']].mean()
).reset_index()
mcdaniels_groups = mcdaniels_groups.rename(columns={'index':'games'})
mcdaniels_groups.plot(title='McDaniels')
display(mcdaniels_groups)

morris_groups = (morris_df.groupby(pd.cut(morris_df.index, bins),observed=False)
[['points', 'min', 'fgp','tpp','totReb','assists','pFouls','steals','blocks','plusMinus']].mean()
).reset_index()
morris_groups = morris_groups.rename(columns={'index':'games'})
morris_groups.plot(title='Morris')
display(morris_groups)

reid_groups = (reid_df.groupby(pd.cut(reid_df.index, bins),observed=False)
[['points', 'min', 'fgp','tpp','totReb','assists','pFouls','steals','blocks','plusMinus']].mean()
).reset_index()
reid_groups = reid_groups.rename(columns={'index':'games'})
reid_groups.plot(title='Reid')
display(reid_groups)

walker_groups = (walker_df.groupby(pd.cut(walker_df.index, bins),observed=False)
[['points', 'min', 'fgp','tpp','totReb','assists','pFouls','steals','blocks','plusMinus']].mean()
).reset_index()
walker_groups = walker_groups.rename(columns={'index':'games'})
walker_groups.plot(title='Walker')
display(walker_groups)


#get timberwolves players plus minus stat splits
conley_plusMinus_groups = (conley_df.groupby(pd.cut(conley_df.index, bins),observed=False)
['plusMinus'].mean()
).reset_index()
conley_plusMinus_groups = conley_plusMinus_groups.rename(columns={'index':'games'})
conley_plusMinus_groups.plot(legend='plusMinus',title='Conley')
display(conley_plusMinus_groups)

edwards_plusMinus_groups = (edwards_df.groupby(pd.cut(edwards_df.index, bins),observed=False)
['plusMinus'].mean()
).reset_index()
edwards_plusMinus_groups = edwards_plusMinus_groups.rename(columns={'index':'games'})
edwards_plusMinus_groups.plot(legend='plusMinus',title='Edwards')
display(edwards_plusMinus_groups)

gobert_plusMinus_groups = (gobert_df.groupby(pd.cut(gobert_df.index, bins),observed=False)
['plusMinus'].mean()
).reset_index()
gobert_plusMinus_groups = gobert_plusMinus_groups.rename(columns={'index':'games'})
gobert_plusMinus_groups.plot(legend='plusMinus',title='Gobert')
display(gobert_plusMinus_groups)

kat_plusMinus_groups = (kat_df.groupby(pd.cut(kat_df.index, bins),observed=False)
['plusMinus'].mean()
).reset_index()
kat_plusMinus_groups = kat_plusMinus_groups.rename(columns={'index':'games'})
kat_plusMinus_groups.plot(legend='plusMinus',title='Towns')
display(kat_plusMinus_groups)

mcdaniels_plusMinus_groups = (mcdaniels_df.groupby(pd.cut(mcdaniels_df.index, bins),observed=False)
['plusMinus'].mean()
).reset_index()
mcdaniels_plusMinus_groups = mcdaniels_plusMinus_groups.rename(columns={'index':'games'})
mcdaniels_plusMinus_groups.plot(legend='plusMinus',title='McDaniels')
display(mcdaniels_plusMinus_groups)

morris_plusMinus_groups = (morris_df.groupby(pd.cut(morris_df.index, bins),observed=False)
['plusMinus'].mean()
).reset_index()
morris_plusMinus_groups = morris_plusMinus_groups.rename(columns={'index':'games'})
morris_plusMinus_groups.plot(legend='plusMinus',title='Morris')
display(morris_plusMinus_groups)

reid_plusMinus_groups = (reid_df.groupby(pd.cut(reid_df.index, bins),observed=False)
['plusMinus'].mean()
).reset_index()
reid_plusMinus_groups = reid_plusMinus_groups.rename(columns={'index':'games'})
reid_plusMinus_groups.plot(legend='plusMinus',title='Reid')
display(reid_plusMinus_groups)

walker_plusMinus_groups = (walker_df.groupby(pd.cut(walker_df.index, bins),observed=False)
['plusMinus'].mean()
).reset_index()
walker_plusMinus_groups = walker_plusMinus_groups.rename(columns={'index':'games'})
walker_plusMinus_groups.plot(legend='plusMinus',title='Walker')
display(walker_plusMinus_groups)








braun_points = braun_df[['points', 'min', 'fgp','tpp','totReb','assists','pFouls','steals','blocks','plusMinus']].mean()
braun_info = {'Braun':'G'}
display(braun_info)
display(braun_points)


pope_points = pope_df[['points', 'min', 'fgp','tpp','totReb','assists','pFouls','steals','blocks','plusMinus']].mean()
caldwellpope = {'Caldwell-Pope' : 'F'}
display(caldwellpope)
pope_points.plot()


gordon_points = gordon_df[['points', 'min', 'fgp','tpp','totReb','assists','pFouls','steals','blocks','plusMinus']].mean()
gordon = {'Gordon':'G'}
display(gordon)
gordon_points


holiday_points = holiday_df[['points', 'min', 'fgp','tpp','totReb','assists','pFouls','steals','blocks','plusMinus']].mean()
holiday_points


jokic_points = jokic_df[['points', 'min', 'fgp','tpp','totReb','assists','pFouls','steals','blocks','plusMinus']].mean()
jokic_points


murray_points = murray_df[['points', 'min', 'fgp','tpp','totReb','assists','pFouls','steals','blocks','plusMinus']].mean()
murray_points


porterjr_points = porterjr_df[['points', 'min', 'fgp','tpp','totReb','assists','pFouls','steals','blocks','plusMinus']].mean()
porterjr_points


watson_points = watson_df[['points', 'min', 'fgp','tpp','totReb','assists','pFouls','steals','blocks','plusMinus']].mean()
watson_points


conley_points = conley_df[['points', 'min', 'fgp','tpp','totReb','assists','pFouls','steals','blocks','plusMinus']].mean()
conley_points


edwards_points = edwards_df[['points', 'min', 'fgp','tpp','totReb','assists','pFouls','steals','blocks','plusMinus']].mean()
edwards_points


gobert_points = gobert_df[['points', 'min', 'fgp','tpp','totReb','assists','pFouls','steals','blocks','plusMinus']].mean()
gobert_points


kat_points = kat_df[['points', 'min', 'fgp','tpp','totReb','assists','pFouls','steals','blocks','plusMinus']].mean()
kat_points


mcdaniels_points = mcdaniels_df[['points', 'min', 'fgp','tpp','totReb','assists','pFouls','steals','blocks','plusMinus']].mean()
mcdaniels_points


morris_points = morris_df[['points', 'min', 'fgp','tpp','totReb','assists','pFouls','steals','blocks','plusMinus']].mean()
morris_points


reid_points = reid_df[['points', 'min', 'fgp','tpp','totReb','assists','pFouls','steals','blocks','plusMinus']].mean()
reid_points


walker_points = walker_df[['points', 'min', 'fgp','tpp','totReb','assists','pFouls','steals','blocks','plusMinus']].mean()
walker_points



