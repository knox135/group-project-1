{
 "cells": [
  {
   "cell_type": "code",
   "execution_count": 1,
   "metadata": {},
   "outputs": [],
   "source": [
    "import sys\n",
    "from dotenv import load_dotenv\n",
    "import os\n",
    "import requests\n",
    "import pandas as pd\n",
    "import json"
   ]
  },
  {
   "cell_type": "code",
   "execution_count": 2,
   "metadata": {},
   "outputs": [],
   "source": [
    "load_dotenv()\n",
    "load_dotenv('.env')\n",
    "sports_data_api_key = os.getenv('SPORTS_DATA_API_KEY')"
   ]
  },
  {
   "cell_type": "code",
   "execution_count": 5,
   "metadata": {},
   "outputs": [],
   "source": [
    "url = \"https://api-nba-v1.p.rapidapi.com/players/statistics\"\n",
    "\n",
    "querystring = {\"id\":\"882\",\"season\":\"2023\"}\n",
    "\n",
    "headers = {\n",
    "\t\"X-RapidAPI-Key\": sports_data_api_key,\n",
    "\t\"X-RapidAPI-Host\": \"api-nba-v1.p.rapidapi.com\"\n",
    "}\n",
    "\n",
    "response_tatum = requests.get(url, headers=headers, params=querystring).json()\n",
    "tatum_df = pd.json_normalize(response_tatum['response']).reset_index(drop=True)\n",
    "tatum_df = tatum_df[['player.firstname','player.lastname','pos','points','min','fgm','fga','fgp','ftm','fta','tpm','tpa', 'tpp', 'offReb', 'defReb', 'totReb', 'assists', 'pFouls','steals', 'turnovers', 'blocks', 'plusMinus',]]"
   ]
  },
  {
   "cell_type": "code",
   "execution_count": 6,
   "metadata": {},
   "outputs": [],
   "source": [
    "url = \"https://api-nba-v1.p.rapidapi.com/players/statistics\"\n",
    "\n",
    "querystring = {\"id\":\"248\",\"season\":\"2023\"}\n",
    "\n",
    "headers = {\n",
    "\t\"X-RapidAPI-Key\": sports_data_api_key,\n",
    "\t\"X-RapidAPI-Host\": \"api-nba-v1.p.rapidapi.com\"\n",
    "}\n",
    "\n",
    "response_Horford= requests.get(url, headers=headers, params=querystring).json()\n",
    "Horford_df = pd.json_normalize(response_Horford['response']).reset_index(drop=True)\n",
    "Horford_df = Horford_df[['player.firstname','player.lastname','pos','points','min','fgm','fga','fgp','ftm','fta','tpm','tpa', 'tpp', 'offReb', 'defReb', 'totReb', 'assists', 'pFouls','steals', 'turnovers', 'blocks', 'plusMinus',]]"
   ]
  },
  {
   "cell_type": "code",
   "execution_count": 7,
   "metadata": {},
   "outputs": [],
   "source": [
    "url = \"https://api-nba-v1.p.rapidapi.com/players/statistics\"\n",
    "\n",
    "querystring = {\"id\":\"242\",\"season\":\"2023\"}\n",
    "\n",
    "headers = {\n",
    "\t\"X-RapidAPI-Key\": sports_data_api_key,\n",
    "\t\"X-RapidAPI-Host\": \"api-nba-v1.p.rapidapi.com\"\n",
    "}\n",
    "\n",
    "response_Holiday= requests.get(url, headers=headers, params=querystring).json()\n",
    "Holiday_df = pd.json_normalize(response_Holiday['response']).reset_index(drop=True)\n",
    "Holiday_df = Holiday_df[['player.firstname','player.lastname','pos','points','min','fgm','fga','fgp','ftm','fta','tpm','tpa', 'tpp', 'offReb', 'defReb', 'totReb', 'assists', 'pFouls','steals', 'turnovers', 'blocks', 'plusMinus',]]"
   ]
  },
  {
   "cell_type": "code",
   "execution_count": 8,
   "metadata": {},
   "outputs": [],
   "source": [
    "url = \"https://api-nba-v1.p.rapidapi.com/players/statistics\"\n",
    "\n",
    "querystring = {\"id\":\"897\",\"season\":\"2023\"}\n",
    "\n",
    "headers = {\n",
    "\t\"X-RapidAPI-Key\": sports_data_api_key,\n",
    "\t\"X-RapidAPI-Host\": \"api-nba-v1.p.rapidapi.com\"\n",
    "}\n",
    "\n",
    "response_white= requests.get(url, headers=headers, params=querystring).json()\n",
    "white_df = pd.json_normalize(response_white['response']).reset_index(drop=True)\n",
    "white_df = white_df[['player.firstname','player.lastname','pos','points','min','fgm','fga','fgp','ftm','fta','tpm','tpa', 'tpp', 'offReb', 'defReb', 'totReb', 'assists', 'pFouls','steals', 'turnovers', 'blocks', 'plusMinus',]]"
   ]
  },
  {
   "cell_type": "code",
   "execution_count": 9,
   "metadata": {},
   "outputs": [],
   "source": [
    "url = \"https://api-nba-v1.p.rapidapi.com/players/statistics\"\n",
    "\n",
    "querystring = {\"id\":\"75\",\"season\":\"2023\"}\n",
    "\n",
    "headers = {\n",
    "\t\"X-RapidAPI-Key\": sports_data_api_key,\n",
    "\t\"X-RapidAPI-Host\": \"api-nba-v1.p.rapidapi.com\"\n",
    "}\n",
    "\n",
    "response_Brown= requests.get(url, headers=headers, params=querystring).json()\n",
    "Brown_df = pd.json_normalize(response_Brown['response']).reset_index(drop=True)\n",
    "Brown_df = Brown_df[['player.firstname','player.lastname','pos','points','min','fgm','fga','fgp','ftm','fta','tpm','tpa', 'tpp', 'offReb', 'defReb', 'totReb', 'assists', 'pFouls','steals', 'turnovers', 'blocks', 'plusMinus',]]"
   ]
  },
  {
   "cell_type": "code",
   "execution_count": 10,
   "metadata": {},
   "outputs": [],
   "source": [
    "url = \"https://api-nba-v1.p.rapidapi.com/players/statistics\"\n",
    "\n",
    "querystring = {\"id\":\"2812\",\"season\":\"2023\"}\n",
    "\n",
    "headers = {\n",
    "\t\"X-RapidAPI-Key\": sports_data_api_key,\n",
    "\t\"X-RapidAPI-Host\": \"api-nba-v1.p.rapidapi.com\"\n",
    "}\n",
    "\n",
    "response_Hauser= requests.get(url, headers=headers, params=querystring).json()\n",
    "Hauser_df = pd.json_normalize(response_Hauser['response']).reset_index(drop=True)\n",
    "Hauser_df = Hauser_df[['player.firstname','player.lastname','pos','points','min','fgm','fga','fgp','ftm','fta','tpm','tpa', 'tpp', 'offReb', 'defReb', 'totReb', 'assists', 'pFouls','steals', 'turnovers', 'blocks', 'plusMinus',]]"
   ]
  },
  {
   "cell_type": "code",
   "execution_count": 11,
   "metadata": {},
   "outputs": [],
   "source": [
    "url = \"https://api-nba-v1.p.rapidapi.com/players/statistics\"\n",
    "\n",
    "querystring = {\"id\":\"819\",\"season\":\"2023\"}\n",
    "\n",
    "headers = {\n",
    "\t\"X-RapidAPI-Key\": sports_data_api_key,\n",
    "\t\"X-RapidAPI-Host\": \"api-nba-v1.p.rapidapi.com\"\n",
    "}\n",
    "\n",
    "response_Kornet= requests.get(url, headers=headers, params=querystring).json()\n",
    "Kornet_df = pd.json_normalize(response_Kornet['response']).reset_index(drop=True)\n",
    "Kornet_df = Kornet_df[['player.firstname','player.lastname','pos','points','min','fgm','fga','fgp','ftm','fta','tpm','tpa', 'tpp', 'offReb', 'defReb', 'totReb', 'assists', 'pFouls','steals', 'turnovers', 'blocks', 'plusMinus',]]"
   ]
  },
  {
   "cell_type": "code",
   "execution_count": 12,
   "metadata": {},
   "outputs": [],
   "source": [
    "url = \"https://api-nba-v1.p.rapidapi.com/players/statistics\"\n",
    "\n",
    "querystring = {\"id\":\"2635\",\"season\":\"2023\"}\n",
    "\n",
    "headers = {\n",
    "\t\"X-RapidAPI-Key\": sports_data_api_key,\n",
    "\t\"X-RapidAPI-Host\": \"api-nba-v1.p.rapidapi.com\"\n",
    "}\n",
    "\n",
    "response_Pritchard= requests.get(url, headers=headers, params=querystring).json()\n",
    "Pritchard_df = pd.json_normalize(response_Pritchard['response']).reset_index(drop=True)\n",
    "Pritchard_df = Pritchard_df[['player.firstname','player.lastname','pos','points','min','fgm','fga','fgp','ftm','fta','tpm','tpa', 'tpp', 'offReb', 'defReb', 'totReb', 'assists', 'pFouls','steals', 'turnovers', 'blocks', 'plusMinus',]]"
   ]
  },
  {
   "cell_type": "code",
   "execution_count": 14,
   "metadata": {},
   "outputs": [],
   "source": [
    "tatum_csv = tatum_df.to_csv('../resources/celtics stats/tatum.csv',index=False)\n",
    "horford_csv = Horford_df.to_csv('../resources/celtics stats/horford.csv',index=False)\n",
    "holiday_csv = Holiday_df.to_csv('../resources/celtics stats/holiday.csv',index=False)\n",
    "white_csv = white_df.to_csv('../resources/celtics stats/white.csv',index=False)\n",
    "brown_csv = Brown_df.to_csv('../resources/celtics stats/brown.csv',index=False)\n",
    "hauser_csv = Hauser_df.to_csv('../resources/celtics stats/hauser.csv',index=False)\n",
    "kornet_csv =Kornet_df.to_csv('../resources/celtics stats/kornet.csv',index=False)\n",
    "pritchard_csv = Pritchard_df.to_csv('../resources/celtics stats/pritchard.csv',index=False)\n"
   ]
  },
  {
   "cell_type": "code",
   "execution_count": null,
   "metadata": {},
   "outputs": [],
   "source": []
  }
 ],
 "metadata": {
  "kernelspec": {
   "display_name": "Python 3",
   "language": "python",
   "name": "python3"
  },
  "language_info": {
   "codemirror_mode": {
    "name": "ipython",
    "version": 3
   },
   "file_extension": ".py",
   "mimetype": "text/x-python",
   "name": "python",
   "nbconvert_exporter": "python",
   "pygments_lexer": "ipython3",
   "version": "3.11.7"
  }
 },
 "nbformat": 4,
 "nbformat_minor": 2
}
