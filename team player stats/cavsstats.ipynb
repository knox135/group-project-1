{
 "cells": [
  {
   "cell_type": "code",
   "execution_count": 2,
   "metadata": {},
   "outputs": [],
   "source": [
    "import sys\n",
    "from dotenv import load_dotenv\n",
    "import os\n",
    "import requests\n",
    "import pandas as pd\n",
    "import json"
   ]
  },
  {
   "cell_type": "code",
   "execution_count": 3,
   "metadata": {},
   "outputs": [],
   "source": [
    "load_dotenv()\n",
    "load_dotenv('.env')\n",
    "sports_data_api_key = os.getenv('SPORTS_DATA_API_KEY')"
   ]
  },
  {
   "cell_type": "code",
   "execution_count": 4,
   "metadata": {},
   "outputs": [],
   "source": [
    "url = \"https://api-nba-v1.p.rapidapi.com/players/statistics\"\n",
    "\n",
    "querystring = {\"id\":\"2835\",\"season\":\"2023\"}\n",
    "\n",
    "headers = {\n",
    "\t\"X-RapidAPI-Key\": sports_data_api_key,\n",
    "\t\"X-RapidAPI-Host\": \"api-nba-v1.p.rapidapi.com\"\n",
    "}\n",
    "\n",
    "response_Mobley = requests.get(url, headers=headers, params=querystring).json()\n",
    "Mobley_df = pd.json_normalize(response_Mobley['response']).reset_index(drop=True)\n",
    "Mobley_df = Mobley_df[['player.firstname','player.lastname','pos','points','min','fgm','fga','fgp','ftm','fta','tpm','tpa', 'tpp', 'offReb', 'defReb', 'totReb', 'assists', 'pFouls','steals', 'turnovers', 'blocks', 'plusMinus',]]"
   ]
  },
  {
   "cell_type": "code",
   "execution_count": 5,
   "metadata": {},
   "outputs": [],
   "source": [
    "url = \"https://api-nba-v1.p.rapidapi.com/players/statistics\"\n",
    "\n",
    "querystring = {\"id\":\"2630\",\"season\":\"2023\"}\n",
    "\n",
    "headers = {\n",
    "\t\"X-RapidAPI-Key\": sports_data_api_key,\n",
    "\t\"X-RapidAPI-Host\": \"api-nba-v1.p.rapidapi.com\"\n",
    "}\n",
    "\n",
    "response_Okoro = requests.get(url, headers=headers, params=querystring).json()\n",
    "Okoro_df = pd.json_normalize(response_Okoro['response']).reset_index(drop=True)\n",
    "Okoro_df = Okoro_df[['player.firstname','player.lastname','pos','points','min','fgm','fga','fgp','ftm','fta','tpm','tpa', 'tpp', 'offReb', 'defReb', 'totReb', 'assists', 'pFouls','steals', 'turnovers', 'blocks', 'plusMinus',]]"
   ]
  },
  {
   "cell_type": "code",
   "execution_count": 6,
   "metadata": {},
   "outputs": [],
   "source": [
    "url = \"https://api-nba-v1.p.rapidapi.com/players/statistics\"\n",
    "\n",
    "querystring = {\"id\":\"1860\",\"season\":\"2023\"}\n",
    "\n",
    "headers = {\n",
    "\t\"X-RapidAPI-Key\": sports_data_api_key,\n",
    "\t\"X-RapidAPI-Host\": \"api-nba-v1.p.rapidapi.com\"\n",
    "}\n",
    "\n",
    "response_Garland = requests.get(url, headers=headers, params=querystring).json()\n",
    "Garland_df = pd.json_normalize(response_Garland['response']).reset_index(drop=True)\n",
    "Garland_df = Garland_df[['player.firstname','player.lastname','pos','points','min','fgm','fga','fgp','ftm','fta','tpm','tpa', 'tpp', 'offReb', 'defReb', 'totReb', 'assists', 'pFouls','steals', 'turnovers', 'blocks', 'plusMinus',]]"
   ]
  },
  {
   "cell_type": "code",
   "execution_count": 7,
   "metadata": {},
   "outputs": [],
   "source": [
    "url = \"https://api-nba-v1.p.rapidapi.com/players/statistics\"\n",
    "\n",
    "querystring = {\"id\":\"317\",\"season\":\"2023\"}\n",
    "\n",
    "headers = {\n",
    "\t\"X-RapidAPI-Key\": sports_data_api_key,\n",
    "\t\"X-RapidAPI-Host\": \"api-nba-v1.p.rapidapi.com\"\n",
    "}\n",
    "\n",
    "response_LeVert = requests.get(url, headers=headers, params=querystring).json()\n",
    "LeVert_df = pd.json_normalize(response_LeVert['response']).reset_index(drop=True)\n",
    "LeVert_df = LeVert_df[['player.firstname','player.lastname','pos','points','min','fgm','fga','fgp','ftm','fta','tpm','tpa', 'tpp', 'offReb', 'defReb', 'totReb', 'assists', 'pFouls','steals', 'turnovers', 'blocks', 'plusMinus',]]"
   ]
  },
  {
   "cell_type": "code",
   "execution_count": 8,
   "metadata": {},
   "outputs": [],
   "source": [
    "url = \"https://api-nba-v1.p.rapidapi.com/players/statistics\"\n",
    "\n",
    "querystring = {\"id\":\"2051\",\"season\":\"2023\"}\n",
    "\n",
    "headers = {\n",
    "\t\"X-RapidAPI-Key\": sports_data_api_key,\n",
    "\t\"X-RapidAPI-Host\": \"api-nba-v1.p.rapidapi.com\"\n",
    "}\n",
    "\n",
    "response_Strus = requests.get(url, headers=headers, params=querystring).json()\n",
    "Strus_df = pd.json_normalize(response_Strus['response']).reset_index(drop=True)\n",
    "Strus_df = Strus_df[['player.firstname','player.lastname','pos','points','min','fgm','fga','fgp','ftm','fta','tpm','tpa', 'tpp', 'offReb', 'defReb', 'totReb', 'assists', 'pFouls','steals', 'turnovers', 'blocks', 'plusMinus',]]"
   ]
  },
  {
   "cell_type": "code",
   "execution_count": 9,
   "metadata": {},
   "outputs": [],
   "source": [
    "url = \"https://api-nba-v1.p.rapidapi.com/players/statistics\"\n",
    "\n",
    "querystring = {\"id\":\"2392\",\"season\":\"2023\"}\n",
    "\n",
    "headers = {\n",
    "\t\"X-RapidAPI-Key\": sports_data_api_key,\n",
    "\t\"X-RapidAPI-Host\": \"api-nba-v1.p.rapidapi.com\"\n",
    "}\n",
    "\n",
    "response_Wade = requests.get(url, headers=headers, params=querystring).json()\n",
    "Wade_df = pd.json_normalize(response_Wade['response']).reset_index(drop=True)\n",
    "Wade_df = Wade_df[['player.firstname','player.lastname','pos','points','min','fgm','fga','fgp','ftm','fta','tpm','tpa', 'tpp', 'offReb', 'defReb', 'totReb', 'assists', 'pFouls','steals', 'turnovers', 'blocks', 'plusMinus',]]"
   ]
  },
  {
   "cell_type": "code",
   "execution_count": 10,
   "metadata": {},
   "outputs": [],
   "source": [
    "url = \"https://api-nba-v1.p.rapidapi.com/players/statistics\"\n",
    "\n",
    "querystring = {\"id\":\"2623\",\"season\":\"2023\"}\n",
    "\n",
    "headers = {\n",
    "\t\"X-RapidAPI-Key\": sports_data_api_key,\n",
    "\t\"X-RapidAPI-Host\": \"api-nba-v1.p.rapidapi.com\"\n",
    "}\n",
    "\n",
    "response_Merrill = requests.get(url, headers=headers, params=querystring).json()\n",
    "Merrill_df = pd.json_normalize(response_Merrill['response']).reset_index(drop=True)\n",
    "Merrill_df = Merrill_df[['player.firstname','player.lastname','pos','points','min','fgm','fga','fgp','ftm','fta','tpm','tpa', 'tpp', 'offReb', 'defReb', 'totReb', 'assists', 'pFouls','steals', 'turnovers', 'blocks', 'plusMinus',]]"
   ]
  },
  {
   "cell_type": "code",
   "execution_count": null,
   "metadata": {},
   "outputs": [],
   "source": [
    "#url = \"https://api-nba-v1.p.rapidapi.com/players/statistics\"\n",
    "#\n",
    "#querystring = {\"id\":\"882\",\"season\":\"2023\"}\n",
    "#\n",
    "#headers = {\n",
    "#\t\"X-RapidAPI-Key\": sports_data_api_key,\n",
    "#\t\"X-RapidAPI-Host\": \"api-nba-v1.p.rapidapi.com\"\n",
    "#}\n",
    "#\n",
    "#response_ = requests.get(url, headers=headers, params=querystring).json()\n",
    "#_df = pd.json_normalize(response_['response']).reset_index(drop=True)\n",
    "#_df = _df[['player.firstname','player.lastname','pos','points','min','fgm','fga','fgp','ftm','fta','tpm','tpa', 'tpp', 'offReb', 'defReb', 'totReb', 'assists', 'pFouls','steals', 'turnovers', 'blocks', 'plusMinus',]]"
   ]
  },
  {
   "cell_type": "code",
   "execution_count": 11,
   "metadata": {},
   "outputs": [],
   "source": [
    "Mobley_csv = Mobley_df.to_csv('../resources/caveliers stats/Mobley.csv',index=False)\n",
    "Okoro_csv = Okoro_df.to_csv('../resources/caveliers stats/Okoro.csv',index=False)\n",
    "Garland_csv = Garland_df.to_csv('../resources/caveliers stats/Garland.csv',index=False)\n",
    "LeVert_csv = LeVert_df.to_csv('../resources/caveliers stats/LeVert.csv',index=False)\n",
    "Strus_csv = Strus_df.to_csv('../resources/caveliers stats/Strus.csv',index=False)\n",
    "Wade_csv = Wade_df.to_csv('../resources/caveliers stats/Wade.csv',index=False)\n",
    "Merrill_csv = Merrill_df.to_csv('../resources/caveliers stats/Merrill.csv',index=False)\n",
    "#_csv = _df.to_csv('../resources/caveliers stats/.csv',index=False)\n"
   ]
  },
  {
   "cell_type": "code",
   "execution_count": null,
   "metadata": {},
   "outputs": [],
   "source": []
  }
 ],
 "metadata": {
  "kernelspec": {
   "display_name": "Python 3",
   "language": "python",
   "name": "python3"
  },
  "language_info": {
   "codemirror_mode": {
    "name": "ipython",
    "version": 3
   },
   "file_extension": ".py",
   "mimetype": "text/x-python",
   "name": "python",
   "nbconvert_exporter": "python",
   "pygments_lexer": "ipython3",
   "version": "3.11.7"
  }
 },
 "nbformat": 4,
 "nbformat_minor": 2
}
